{
 "cells": [
  {
   "cell_type": "code",
   "execution_count": 1,
   "id": "a36c1c41-1ed4-4c43-9b75-c5681b3d21a5",
   "metadata": {},
   "outputs": [
    {
     "name": "stderr",
     "output_type": "stream",
     "text": [
      "2023-08-31 09:04:24.086050: I tensorflow/core/util/port.cc:110] oneDNN custom operations are on. You may see slightly different numerical results due to floating-point round-off errors from different computation orders. To turn them off, set the environment variable `TF_ENABLE_ONEDNN_OPTS=0`.\n",
      "2023-08-31 09:04:24.270138: I tensorflow/core/platform/cpu_feature_guard.cc:182] This TensorFlow binary is optimized to use available CPU instructions in performance-critical operations.\n",
      "To enable the following instructions: AVX2 AVX512F AVX512_VNNI FMA, in other operations, rebuild TensorFlow with the appropriate compiler flags.\n",
      "2023-08-31 09:04:25.184689: W tensorflow/compiler/tf2tensorrt/utils/py_utils.cc:38] TF-TRT Warning: Could not find TensorRT\n"
     ]
    }
   ],
   "source": [
    "import os\n",
    "from utils import DataSeq, load_ids\n",
    "\n",
    "import numpy as np\n",
    "import pandas as pd\n",
    "import skimage.io as io\n",
    "\n",
    "from matplotlib import pyplot as plt\n",
    "\n",
    "from sklearn.model_selection import train_test_split\n",
    "from sklearn.metrics import classification_report\n",
    "\n",
    "import tensorflow as tf\n",
    "from tensorflow.keras.models import Model\n",
    "from tensorflow.keras.metrics import F1Score\n",
    "from tensorflow.keras.layers import Input, Flatten, Dense, Dropout\n",
    "\n",
    "import keras_tuner as kt\n",
    "\n",
    "from imblearn.over_sampling import RandomOverSampler\n",
    "\n",
    "os.environ[\"TF_CPP_MIN_LOG_LEVEL\"] = \"3\""
   ]
  },
  {
   "cell_type": "code",
   "execution_count": 2,
   "id": "56fd8a7c-4928-440e-be42-3808426bba1a",
   "metadata": {},
   "outputs": [],
   "source": [
    "path = \"./Train_non_experts_simple/\"\n",
    "batch_size = 8\n",
    "epochs = 10"
   ]
  },
  {
   "cell_type": "code",
   "execution_count": 3,
   "id": "3875eda3-f9ba-44e5-8436-0fa1c6b6fcdd",
   "metadata": {},
   "outputs": [
    {
     "name": "stderr",
     "output_type": "stream",
     "text": [
      "2023-08-31 09:04:28.948700: I tensorflow/compiler/xla/stream_executor/cuda/cuda_gpu_executor.cc:981] could not open file to read NUMA node: /sys/bus/pci/devices/0000:01:00.0/numa_node\n",
      "Your kernel may have been built without NUMA support.\n"
     ]
    },
    {
     "name": "stdout",
     "output_type": "stream",
     "text": [
      "(75243,) (75243, 3)\n"
     ]
    },
    {
     "name": "stderr",
     "output_type": "stream",
     "text": [
      "2023-08-31 09:04:29.057166: I tensorflow/compiler/xla/stream_executor/cuda/cuda_gpu_executor.cc:981] could not open file to read NUMA node: /sys/bus/pci/devices/0000:01:00.0/numa_node\n",
      "Your kernel may have been built without NUMA support.\n",
      "2023-08-31 09:04:29.057215: I tensorflow/compiler/xla/stream_executor/cuda/cuda_gpu_executor.cc:981] could not open file to read NUMA node: /sys/bus/pci/devices/0000:01:00.0/numa_node\n",
      "Your kernel may have been built without NUMA support.\n",
      "2023-08-31 09:04:29.060064: I tensorflow/compiler/xla/stream_executor/cuda/cuda_gpu_executor.cc:981] could not open file to read NUMA node: /sys/bus/pci/devices/0000:01:00.0/numa_node\n",
      "Your kernel may have been built without NUMA support.\n",
      "2023-08-31 09:04:29.060107: I tensorflow/compiler/xla/stream_executor/cuda/cuda_gpu_executor.cc:981] could not open file to read NUMA node: /sys/bus/pci/devices/0000:01:00.0/numa_node\n",
      "Your kernel may have been built without NUMA support.\n",
      "2023-08-31 09:04:29.060131: I tensorflow/compiler/xla/stream_executor/cuda/cuda_gpu_executor.cc:981] could not open file to read NUMA node: /sys/bus/pci/devices/0000:01:00.0/numa_node\n",
      "Your kernel may have been built without NUMA support.\n",
      "2023-08-31 09:04:29.988122: I tensorflow/compiler/xla/stream_executor/cuda/cuda_gpu_executor.cc:981] could not open file to read NUMA node: /sys/bus/pci/devices/0000:01:00.0/numa_node\n",
      "Your kernel may have been built without NUMA support.\n",
      "2023-08-31 09:04:29.988216: I tensorflow/compiler/xla/stream_executor/cuda/cuda_gpu_executor.cc:981] could not open file to read NUMA node: /sys/bus/pci/devices/0000:01:00.0/numa_node\n",
      "Your kernel may have been built without NUMA support.\n",
      "2023-08-31 09:04:29.988223: I tensorflow/core/common_runtime/gpu/gpu_device.cc:1726] Could not identify NUMA node of platform GPU id 0, defaulting to 0.  Your kernel may not have been built with NUMA support.\n",
      "2023-08-31 09:04:29.988254: I tensorflow/compiler/xla/stream_executor/cuda/cuda_gpu_executor.cc:981] could not open file to read NUMA node: /sys/bus/pci/devices/0000:01:00.0/numa_node\n",
      "Your kernel may have been built without NUMA support.\n",
      "2023-08-31 09:04:29.988298: I tensorflow/core/common_runtime/gpu/gpu_device.cc:1639] Created device /job:localhost/replica:0/task:0/device:GPU:0 with 9539 MB memory:  -> device: 0, name: NVIDIA GeForce RTX 3060, pci bus id: 0000:01:00.0, compute capability: 8.6\n"
     ]
    }
   ],
   "source": [
    "ids, labels = load_ids(path)\n",
    "print(ids.shape, labels.shape)\n",
    "X_train, X_valid, y_train, y_valid = train_test_split(ids, labels, test_size=0.2, random_state=42)"
   ]
  },
  {
   "cell_type": "markdown",
   "id": "f1e8df8e-6c3d-436e-98ce-d3ee162f9103",
   "metadata": {},
   "source": [
    "# Oversampling the data"
   ]
  },
  {
   "cell_type": "code",
   "execution_count": 4,
   "id": "f5486df2-cf3f-48c1-aaee-3106b96f500f",
   "metadata": {},
   "outputs": [
    {
     "name": "stdout",
     "output_type": "stream",
     "text": [
      "True\n"
     ]
    }
   ],
   "source": [
    "over_sampler = RandomOverSampler()\n",
    "X_train_over, y_train_over = over_sampler.fit_resample(X_train.reshape(-1, 1), y_train)\n",
    "X_train_over = X_train_over.flatten()\n",
    "\n",
    "# Check if labels are correct\n",
    "all_equal = True\n",
    "for i in range(100):\n",
    "    # Compare path label vs y_train_over label\n",
    "    if np.argmax(y_train_over[i]) != int(X_train_over[i][27]) - 1:\n",
    "        all_equal = False\n",
    "\n",
    "print(all_equal)"
   ]
  },
  {
   "cell_type": "code",
   "execution_count": 5,
   "id": "f371ef92-4ad1-4864-8a2d-2e60b3ccb256",
   "metadata": {},
   "outputs": [
    {
     "name": "stdout",
     "output_type": "stream",
     "text": [
      "Training labels BEFORE oversampling\n",
      "0 29793\n",
      "1 22193\n",
      "2 8208\n",
      "\n",
      "Training labels AFTER oversampling\n",
      "0 29793\n",
      "1 29793\n",
      "2 29793\n"
     ]
    }
   ],
   "source": [
    "values, counts = np.unique(np.argmax(y_train,axis=1), return_counts = True)\n",
    "print(\"Training labels BEFORE oversampling\")\n",
    "\n",
    "for val, count in zip(values, counts):\n",
    "    print(val, count)\n",
    "\n",
    "y = np.argmax(y_train_over,axis=1)\n",
    "values, counts = np.unique(y, return_counts = True)\n",
    "print(\"\\nTraining labels AFTER oversampling\")\n",
    "\n",
    "for val, count in zip(values, counts):\n",
    "    print(val, count)"
   ]
  },
  {
   "cell_type": "code",
   "execution_count": 6,
   "id": "a3786665-626c-42a4-a430-03a017f56431",
   "metadata": {},
   "outputs": [],
   "source": [
    "train_seq = DataSeq(X_train_over, y_train_over)\n",
    "valid_seq = DataSeq(X_valid, y_valid)\n",
    "\n",
    "train_steps = len(X_train_over) // batch_size\n",
    "valid_steps = len(X_valid) // batch_size"
   ]
  },
  {
   "cell_type": "markdown",
   "id": "7e50d4e6-12fd-4e65-91b3-0e8dcdffc893",
   "metadata": {},
   "source": [
    "# Hyperparameter Tuning"
   ]
  },
  {
   "cell_type": "code",
   "execution_count": 7,
   "id": "13086354-d7dc-4b09-bff5-ca5e8bccf984",
   "metadata": {},
   "outputs": [],
   "source": [
    " def build_transfer_vgg_aug(hp):\n",
    "    input_layer = Input(shape=(224, 224, 3))\n",
    "\n",
    "    data_augmentation = tf.keras.Sequential([\n",
    "        input_layer,\n",
    "        tf.keras.layers.RandomFlip(\"horizontal_and_vertical\"),\n",
    "        tf.keras.layers.RandomRotation(0.15),\n",
    "    ])\n",
    "    \n",
    "    vgg = tf.keras.applications.VGG16(weights=None, include_top=False, input_tensor=data_augmentation.output)\n",
    "    vgg.load_weights('./vgg16_weights_tf_dim_ordering_tf_kernels_notop.h5')\n",
    "    vgg.trainable = False\n",
    "\n",
    "    model = vgg.output\n",
    "    model = Flatten()(model)\n",
    "\n",
    "    neurons = hp.Choice(\"neurons\", [1024, 2048, 4096])\n",
    "    layers = hp.Choice(\"layers\", [1, 2, 3])\n",
    "\n",
    "    for i in range(layers):\n",
    "        model = Dense(neurons, activation='relu')(model)\n",
    "        model = Dropout(0.25)(model)\n",
    "\n",
    "    model = Dense(3, activation='softmax')(model)\n",
    "\n",
    "    model = Model(input_layer, model, name=\"Transfer_VGG16\")\n",
    "    model.compile(optimizer=\"adam\", loss=\"categorical_crossentropy\", metrics=[\"accuracy\"])\n",
    "    return model"
   ]
  },
  {
   "cell_type": "code",
   "execution_count": 20,
   "id": "974520cb-4146-4399-99d2-86c0bcc6f7e4",
   "metadata": {},
   "outputs": [
    {
     "name": "stdout",
     "output_type": "stream",
     "text": [
      "Search space summary\n",
      "Default search space size: 2\n",
      "neurons (Choice)\n",
      "{'default': 1024, 'conditions': [], 'values': [1024, 2048, 4096], 'ordered': True}\n",
      "layers (Choice)\n",
      "{'default': 1, 'conditions': [], 'values': [1, 2, 3], 'ordered': True}\n"
     ]
    }
   ],
   "source": [
    "obj = kt.Objective(\"val_accuracy\", \"max\")\n",
    "tuner = kt.Hyperband(build_transfer_vgg_aug,\n",
    "                     objective=obj,\n",
    "                     max_epochs=20,\n",
    "                     factor=3,\n",
    "                     seed = 42,\n",
    "                     directory='./tuner_results/',\n",
    "                     project_name='hyperband')\n",
    "\n",
    "# tuner = kt.RandomSearch(\n",
    "#     hypermodel=build_transfer_vgg_aug,\n",
    "#     objective=obj,\n",
    "#     max_trials=3,\n",
    "#     executions_per_trial=1,\n",
    "#     overwrite=True,\n",
    "#     directory='./tuner_results/',\n",
    "#     project_name='BCSS',\n",
    "# )\n",
    "\n",
    "tuner.search_space_summary()"
   ]
  },
  {
   "cell_type": "code",
   "execution_count": 22,
   "id": "fc4f8022-21bc-4702-a364-3086f938e102",
   "metadata": {},
   "outputs": [
    {
     "name": "stdout",
     "output_type": "stream",
     "text": [
      "Trial 9 Complete [00h 25m 57s]\n",
      "val_accuracy: 0.8328016996383667\n",
      "\n",
      "Best val_accuracy So Far: 0.8434343338012695\n",
      "Total elapsed time: 04h 18m 12s\n",
      "INFO:tensorflow:Oracle triggered exit\n"
     ]
    }
   ],
   "source": [
    "stop_early = tf.keras.callbacks.EarlyStopping(monitor='val_loss', patience=3)\n",
    "\n",
    "tuner.search(train_seq, validation_data=valid_seq, steps_per_epoch=train_steps,\n",
    "   validation_steps=valid_steps, epochs=20, callbacks=[stop_early])"
   ]
  },
  {
   "cell_type": "code",
   "execution_count": 23,
   "id": "d77e836d-9d08-416f-9a33-3ee5bddc01f2",
   "metadata": {},
   "outputs": [
    {
     "name": "stdout",
     "output_type": "stream",
     "text": [
      "Optimal number of neurons per layer is 4096\n",
      "Optimal number of layers is 1\n"
     ]
    }
   ],
   "source": [
    "# Get the optimal hyperparameters\n",
    "best_hps=tuner.get_best_hyperparameters(num_trials=1)[0]\n",
    "\n",
    "print(f\"Optimal number of neurons per layer is {best_hps.get('neurons')}\")\n",
    "print(f\"Optimal number of layers is {best_hps.get('layers')}\")"
   ]
  },
  {
   "cell_type": "code",
   "execution_count": 24,
   "id": "8c421a93-1a14-4aa0-9d11-bc25d89a7130",
   "metadata": {},
   "outputs": [
    {
     "name": "stdout",
     "output_type": "stream",
     "text": [
      "Model: \"Transfer_VGG16\"\n",
      "_________________________________________________________________\n",
      " Layer (type)                Output Shape              Param #   \n",
      "=================================================================\n",
      " input_2 (InputLayer)        [(None, 224, 224, 3)]     0         \n",
      "                                                                 \n",
      " random_flip_1 (RandomFlip)  (None, 224, 224, 3)       0         \n",
      "                                                                 \n",
      " random_rotation_1 (RandomR  (None, 224, 224, 3)       0         \n",
      " otation)                                                        \n",
      "                                                                 \n",
      " block1_conv1 (Conv2D)       (None, 224, 224, 64)      1792      \n",
      "                                                                 \n",
      " block1_conv2 (Conv2D)       (None, 224, 224, 64)      36928     \n",
      "                                                                 \n",
      " block1_pool (MaxPooling2D)  (None, 112, 112, 64)      0         \n",
      "                                                                 \n",
      " block2_conv1 (Conv2D)       (None, 112, 112, 128)     73856     \n",
      "                                                                 \n",
      " block2_conv2 (Conv2D)       (None, 112, 112, 128)     147584    \n",
      "                                                                 \n",
      " block2_pool (MaxPooling2D)  (None, 56, 56, 128)       0         \n",
      "                                                                 \n",
      " block3_conv1 (Conv2D)       (None, 56, 56, 256)       295168    \n",
      "                                                                 \n",
      " block3_conv2 (Conv2D)       (None, 56, 56, 256)       590080    \n",
      "                                                                 \n",
      " block3_conv3 (Conv2D)       (None, 56, 56, 256)       590080    \n",
      "                                                                 \n",
      " block3_pool (MaxPooling2D)  (None, 28, 28, 256)       0         \n",
      "                                                                 \n",
      " block4_conv1 (Conv2D)       (None, 28, 28, 512)       1180160   \n",
      "                                                                 \n",
      " block4_conv2 (Conv2D)       (None, 28, 28, 512)       2359808   \n",
      "                                                                 \n",
      " block4_conv3 (Conv2D)       (None, 28, 28, 512)       2359808   \n",
      "                                                                 \n",
      " block4_pool (MaxPooling2D)  (None, 14, 14, 512)       0         \n",
      "                                                                 \n",
      " block5_conv1 (Conv2D)       (None, 14, 14, 512)       2359808   \n",
      "                                                                 \n",
      " block5_conv2 (Conv2D)       (None, 14, 14, 512)       2359808   \n",
      "                                                                 \n",
      " block5_conv3 (Conv2D)       (None, 14, 14, 512)       2359808   \n",
      "                                                                 \n",
      " block5_pool (MaxPooling2D)  (None, 7, 7, 512)         0         \n",
      "                                                                 \n",
      " flatten_1 (Flatten)         (None, 25088)             0         \n",
      "                                                                 \n",
      " dense_4 (Dense)             (None, 4096)              102764544 \n",
      "                                                                 \n",
      " dropout_3 (Dropout)         (None, 4096)              0         \n",
      "                                                                 \n",
      " dense_5 (Dense)             (None, 3)                 12291     \n",
      "                                                                 \n",
      "=================================================================\n",
      "Total params: 117491523 (448.19 MB)\n",
      "Trainable params: 102776835 (392.06 MB)\n",
      "Non-trainable params: 14714688 (56.13 MB)\n",
      "_________________________________________________________________\n"
     ]
    }
   ],
   "source": [
    "model = tuner.hypermodel.build(best_hps)\n",
    "model.summary()"
   ]
  },
  {
   "cell_type": "code",
   "execution_count": 25,
   "id": "cfa05dba-8e58-49bf-a17b-b1ea96440a30",
   "metadata": {},
   "outputs": [
    {
     "name": "stdout",
     "output_type": "stream",
     "text": [
      "Results summary\n",
      "Results in ./tuner_results/hyperband\n",
      "Showing 10 best trials\n",
      "Objective(name=\"val_accuracy\", direction=\"max\")\n",
      "\n",
      "Trial 0002 summary\n",
      "Hyperparameters:\n",
      "neurons: 4096\n",
      "layers: 1\n",
      "tuner/epochs: 3\n",
      "tuner/initial_epoch: 0\n",
      "tuner/bracket: 2\n",
      "tuner/round: 0\n",
      "Score: 0.8434343338012695\n",
      "\n",
      "Trial 0005 summary\n",
      "Hyperparameters:\n",
      "neurons: 1024\n",
      "layers: 1\n",
      "tuner/epochs: 3\n",
      "tuner/initial_epoch: 0\n",
      "tuner/bracket: 2\n",
      "tuner/round: 0\n",
      "Score: 0.8389154672622681\n",
      "\n",
      "Trial 0003 summary\n",
      "Hyperparameters:\n",
      "neurons: 1024\n",
      "layers: 2\n",
      "tuner/epochs: 3\n",
      "tuner/initial_epoch: 0\n",
      "tuner/bracket: 2\n",
      "tuner/round: 0\n",
      "Score: 0.8361908793449402\n",
      "\n",
      "Trial 0008 summary\n",
      "Hyperparameters:\n",
      "neurons: 1024\n",
      "layers: 3\n",
      "tuner/epochs: 3\n",
      "tuner/initial_epoch: 0\n",
      "tuner/bracket: 2\n",
      "tuner/round: 0\n",
      "Score: 0.8328016996383667\n",
      "\n",
      "Trial 0006 summary\n",
      "Hyperparameters:\n",
      "neurons: 4096\n",
      "layers: 3\n",
      "tuner/epochs: 3\n",
      "tuner/initial_epoch: 0\n",
      "tuner/bracket: 2\n",
      "tuner/round: 0\n",
      "Score: 0.8325358629226685\n",
      "\n",
      "Trial 0000 summary\n",
      "Hyperparameters:\n",
      "neurons: 2048\n",
      "layers: 1\n",
      "tuner/epochs: 3\n",
      "tuner/initial_epoch: 0\n",
      "tuner/bracket: 2\n",
      "tuner/round: 0\n",
      "Score: 0.8301435112953186\n",
      "\n",
      "Trial 0007 summary\n",
      "Hyperparameters:\n",
      "neurons: 2048\n",
      "layers: 3\n",
      "tuner/epochs: 3\n",
      "tuner/initial_epoch: 0\n",
      "tuner/bracket: 2\n",
      "tuner/round: 0\n",
      "Score: 0.8284822106361389\n",
      "\n",
      "Trial 0004 summary\n",
      "Hyperparameters:\n",
      "neurons: 2048\n",
      "layers: 2\n",
      "tuner/epochs: 3\n",
      "tuner/initial_epoch: 0\n",
      "tuner/bracket: 2\n",
      "tuner/round: 0\n",
      "Score: 0.8254917860031128\n",
      "\n",
      "Trial 0001 summary\n",
      "Hyperparameters:\n",
      "neurons: 4096\n",
      "layers: 2\n",
      "tuner/epochs: 3\n",
      "tuner/initial_epoch: 0\n",
      "tuner/bracket: 2\n",
      "tuner/round: 0\n",
      "Score: 0.8217038512229919\n"
     ]
    }
   ],
   "source": [
    "tuner.results_summary()"
   ]
  },
  {
   "cell_type": "code",
   "execution_count": 26,
   "id": "07307a7c-f9a1-4a62-975d-b6cb29d48195",
   "metadata": {},
   "outputs": [
    {
     "name": "stdout",
     "output_type": "stream",
     "text": [
      "Epoch 1/10\n",
      "11172/11172 [==============================] - 608s 54ms/step - loss: 0.5476 - accuracy: 0.7998 - val_loss: 0.4067 - val_accuracy: 0.8364\n",
      "Epoch 2/10\n",
      "11172/11172 [==============================] - 605s 54ms/step - loss: 0.4547 - accuracy: 0.8197 - val_loss: 0.4056 - val_accuracy: 0.8357\n",
      "Epoch 3/10\n",
      "11172/11172 [==============================] - 605s 54ms/step - loss: 0.4408 - accuracy: 0.8232 - val_loss: 0.3969 - val_accuracy: 0.8366\n",
      "Epoch 4/10\n",
      "11172/11172 [==============================] - 606s 54ms/step - loss: 0.4334 - accuracy: 0.8280 - val_loss: 0.4922 - val_accuracy: 0.7794\n",
      "Epoch 5/10\n",
      "11172/11172 [==============================] - 605s 54ms/step - loss: 0.4274 - accuracy: 0.8289 - val_loss: 0.4033 - val_accuracy: 0.8277\n",
      "Epoch 6/10\n",
      "11172/11172 [==============================] - 605s 54ms/step - loss: 0.4241 - accuracy: 0.8317 - val_loss: 0.4151 - val_accuracy: 0.8244\n"
     ]
    }
   ],
   "source": [
    "history = model.fit(train_seq, validation_data=valid_seq, steps_per_epoch=train_steps,\n",
    " validation_steps=valid_steps, epochs=10, callbacks=[stop_early])"
   ]
  },
  {
   "cell_type": "code",
   "execution_count": 30,
   "id": "5c9e3350-be1d-4a20-b990-525175da4bbf",
   "metadata": {},
   "outputs": [
    {
     "data": {
      "image/png": "[encoded data removed]",
      "text/plain": [
       "<Figure size 960x640 with 1 Axes>"
      ]
     },
     "metadata": {},
     "output_type": "display_data"
    }
   ],
   "source": [
    "plt.figure(figsize=(6, 4), dpi=160)\n",
    "plt.plot(history.history[\"loss\"], label=\"train\")\n",
    "plt.plot(history.history[\"val_loss\"], label=\"validation\")\n",
    "plt.legend()\n",
    "plt.show()"
   ]
  },
  {
   "cell_type": "code",
   "execution_count": 31,
   "id": "373bf41b-adb8-4c42-b222-5b41a3d4ea75",
   "metadata": {},
   "outputs": [],
   "source": [
    "test_path = \"./Test/\"\n",
    "test_ids, test_labels = load_ids(test_path)\n",
    "test_seq = DataSeq(test_ids, test_labels)"
   ]
  },
  {
   "cell_type": "code",
   "execution_count": 32,
   "id": "03705a66-6180-47d8-ae19-1cdfcd2df0b0",
   "metadata": {},
   "outputs": [
    {
     "name": "stdout",
     "output_type": "stream",
     "text": [
      "546/546 [==============================] - 18s 33ms/step\n",
      "              precision    recall  f1-score   support\n",
      "\n",
      "           0       0.91      0.83      0.87      2692\n",
      "           1       0.74      0.75      0.74      1196\n",
      "           2       0.62      0.91      0.74       476\n",
      "\n",
      "    accuracy                           0.82      4364\n",
      "   macro avg       0.76      0.83      0.78      4364\n",
      "weighted avg       0.83      0.82      0.82      4364\n",
      "\n"
     ]
    }
   ],
   "source": [
    "y_pred = model.predict(test_seq)\n",
    "y_pred = np.argmax(y_pred,axis=1)\n",
    "print(classification_report(np.argmax(test_labels, axis=1), y_pred))\n"
   ]
  },
  {
   "cell_type": "code",
   "execution_count": 33,
   "id": "51237957-a06f-40b6-8c6b-74e70901db44",
   "metadata": {},
   "outputs": [],
   "source": [
    " model.save_weights('./bcss_aug_weights.h5')"
   ]
  },
  {
   "cell_type": "code",
   "execution_count": null,
   "id": "6c8631c0-f8e6-48de-8940-a4c658c766f3",
   "metadata": {},
   "outputs": [],
   "source": []
  }
 ],
 "metadata": {
  "kernelspec": {
   "display_name": "Python 3 (ipykernel)",
   "language": "python",
   "name": "python3"
  },
  "language_info": {
   "codemirror_mode": {
    "name": "ipython",
    "version": 3
   },
   "file_extension": ".py",
   "mimetype": "text/x-python",
   "name": "python",
   "nbconvert_exporter": "python",
   "pygments_lexer": "ipython3",
   "version": "3.10.12"
  }
 },
 "nbformat": 4,
 "nbformat_minor": 5
}
