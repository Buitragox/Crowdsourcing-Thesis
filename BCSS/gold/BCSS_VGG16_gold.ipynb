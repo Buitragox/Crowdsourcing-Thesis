{
 "cells": [
  {
   "cell_type": "code",
   "execution_count": null,
   "id": "0e4521a4-8423-403c-a4f3-8127ccefa3fa",
   "metadata": {
    "id": "0e4521a4-8423-403c-a4f3-8127ccefa3fa"
   },
   "outputs": [],
   "source": [
    "import os\n",
    "\n",
    "#os.environ[\"TF_CPP_MIN_LOG_LEVEL\"] = \"2\"\n",
    "\n",
    "import numpy as np\n",
    "import pandas as pd\n",
    "import skimage.io as io\n",
    "\n",
    "from glob import glob\n",
    "from matplotlib import pyplot as plt\n",
    "\n",
    "from sklearn.model_selection import train_test_split\n",
    "from sklearn.metrics import classification_report\n",
    "\n",
    "import tensorflow as tf\n",
    "from tensorflow.keras.models import Model\n",
    "from tensorflow.keras.metrics import F1Score\n",
    "from tensorflow.keras.layers import Input, Flatten, Dense"
   ]
  },
  {
   "cell_type": "markdown",
   "id": "2cdc3873",
   "metadata": {},
   "source": [
    "### Data Generator\n",
    "\n",
    "A keras sequence that loads the data while the model is training."
   ]
  },
  {
   "cell_type": "code",
   "execution_count": null,
   "id": "3a5c23f2-bdec-464b-aad4-8934b101062e",
   "metadata": {
    "id": "3a5c23f2-bdec-464b-aad4-8934b101062e"
   },
   "outputs": [],
   "source": [
    "class DataSeq(tf.keras.utils.Sequence):\n",
    "\n",
    "    def __init__(self, ids, labels, batch_size=8, image_size=224):\n",
    "        self.ids = ids\n",
    "        self.labels = labels\n",
    "        self.batch_size = batch_size\n",
    "        self.image_size = image_size\n",
    "\n",
    "    def __load__(self, id_name):\n",
    "        image_path = id_name\n",
    "        image = io.imread(image_path) / 255.0\n",
    "\n",
    "        return image\n",
    "\n",
    "    def __getitem__(self, index):\n",
    "        n = self.batch_size\n",
    "\n",
    "        if (index + 1) * n > len(self.ids):\n",
    "            n = len(self.ids) - index * self.batch_size\n",
    "\n",
    "        files_batch = self.ids[index * n : (index + 1) * n]\n",
    "        labels_batch = self.labels[index * n : (index + 1) * n]\n",
    "        images = []\n",
    "\n",
    "        for id in files_batch:\n",
    "            image = self.__load__(id)\n",
    "            images.append(image)\n",
    "\n",
    "        images = np.array(images)\n",
    "\n",
    "        return images, labels_batch\n",
    "\n",
    "    def on_epoch_end(self):\n",
    "        pass\n",
    "\n",
    "    def __len__(self):\n",
    "        return int(np.ceil(len(self.ids) / self.batch_size))"
   ]
  },
  {
   "cell_type": "markdown",
   "id": "270002c9-8f86-4361-9654-326a6be78a96",
   "metadata": {},
   "source": [
    "### VGG Model\n",
    "\n",
    "Create a model using a VGG16. No data augmentation.\n",
    "\n",
    "The neural network has 2 layers, a hidden layer with 4096 neurons and the output layer with 3 neurons since there are 3 classes.\n",
    "\n",
    "No hyperparameter tuning has been done.\n",
    "\n",
    "The weights were downloaded from: https://storage.googleapis.com/tensorflow/keras-applications/vgg16/vgg16_weights_tf_dim_ordering_tf_kernels_notop.h5"
   ]
  },
  {
   "cell_type": "code",
   "execution_count": null,
   "id": "c6b88b45-5b17-4894-a492-19dbb8351c81",
   "metadata": {
    "id": "c6b88b45-5b17-4894-a492-19dbb8351c81"
   },
   "outputs": [],
   "source": [
    "def build_transfer_vgg(input_shape):\n",
    "    input_layer = Input(shape=input_shape)\n",
    "\n",
    "    vgg = tf.keras.applications.VGG16(weights=None, include_top=False, input_tensor=input_layer)\n",
    "    vgg.load_weights('./vgg16_weights_tf_dim_ordering_tf_kernels_notop.h5')\n",
    "    vgg.trainable = False\n",
    "\n",
    "    model = vgg.output\n",
    "    model = Flatten()(model)\n",
    "    model = Dense(4096, activation='relu')(model)\n",
    "    model = Dense(3, activation='softmax')(model)\n",
    "\n",
    "    model = Model(input_layer, model, name=\"Transfer_VGG16\")\n",
    "    return model"
   ]
  },
  {
   "cell_type": "markdown",
   "id": "7754b6d0-7e28-45b9-be66-092bd6ea7a2d",
   "metadata": {},
   "source": [
    "Dataset: https://drive.google.com/drive/folders/1yWT1aaQLiZAkAomtAdFlqlVWnRkhNrCu\n",
    "\n",
    "The images are located in three separate folders: 1, 2 and 3. This indicates the image's class.\n",
    "\n",
    "The labels were encoded using one-hot."
   ]
  },
  {
   "cell_type": "code",
   "execution_count": null,
   "id": "1dbbbb46-9527-4394-a5f9-b7cb0b646f99",
   "metadata": {
    "id": "1dbbbb46-9527-4394-a5f9-b7cb0b646f99"
   },
   "outputs": [],
   "source": [
    "def load_ids(path):\n",
    "    ids = []\n",
    "    labels = []\n",
    "\n",
    "    for root, dirs, files in os.walk(path):\n",
    "        for i in range(len(files)):\n",
    "            ids.append(os.path.join(root, files[i]))\n",
    "            labels.append(int(root[-1]))\n",
    "\n",
    "    ids = np.array(ids)\n",
    "    labels = np.array(labels) - 1\n",
    "    labels_onehot = tf.one_hot(labels, 3, on_value=1.0, off_value=0.0).numpy()\n",
    "\n",
    "    return ids, labels_onehot"
   ]
  },
  {
   "cell_type": "code",
   "execution_count": null,
   "id": "ee5a2963-8afc-414e-9c4d-db8b7500465b",
   "metadata": {
    "id": "ee5a2963-8afc-414e-9c4d-db8b7500465b",
    "outputId": "7a5d7d8f-0ce1-40c7-8179-8e99499e3fd2"
   },
   "outputs": [
    {
     "name": "stdout",
     "output_type": "stream",
     "text": [
      "(75243,) (75243, 3)\n"
     ]
    }
   ],
   "source": [
    "path = \"./Train_non_experts_simple/\"\n",
    "ids, labels = load_ids(path)\n",
    "print(ids.shape, labels.shape)\n",
    "X_train, X_valid, y_train, y_valid = train_test_split(ids, labels, test_size=0.2, random_state=42)"
   ]
  },
  {
   "cell_type": "code",
   "execution_count": null,
   "id": "e1f5f320-3b89-4a05-a53f-40f5cfbd1145",
   "metadata": {
    "id": "e1f5f320-3b89-4a05-a53f-40f5cfbd1145",
    "outputId": "801ad0f2-7ea1-434c-8b74-57f43bed0106"
   },
   "outputs": [
    {
     "name": "stdout",
     "output_type": "stream",
     "text": [
      "Model: \"Transfer_VGG16\"\n",
      "_________________________________________________________________\n",
      " Layer (type)                Output Shape              Param #   \n",
      "=================================================================\n",
      " input_3 (InputLayer)        [(None, 224, 224, 3)]     0         \n",
      "                                                                 \n",
      " block1_conv1 (Conv2D)       (None, 224, 224, 64)      1792      \n",
      "                                                                 \n",
      " block1_conv2 (Conv2D)       (None, 224, 224, 64)      36928     \n",
      "                                                                 \n",
      " block1_pool (MaxPooling2D)  (None, 112, 112, 64)      0         \n",
      "                                                                 \n",
      " block2_conv1 (Conv2D)       (None, 112, 112, 128)     73856     \n",
      "                                                                 \n",
      " block2_conv2 (Conv2D)       (None, 112, 112, 128)     147584    \n",
      "                                                                 \n",
      " block2_pool (MaxPooling2D)  (None, 56, 56, 128)       0         \n",
      "                                                                 \n",
      " block3_conv1 (Conv2D)       (None, 56, 56, 256)       295168    \n",
      "                                                                 \n",
      " block3_conv2 (Conv2D)       (None, 56, 56, 256)       590080    \n",
      "                                                                 \n",
      " block3_conv3 (Conv2D)       (None, 56, 56, 256)       590080    \n",
      "                                                                 \n",
      " block3_pool (MaxPooling2D)  (None, 28, 28, 256)       0         \n",
      "                                                                 \n",
      " block4_conv1 (Conv2D)       (None, 28, 28, 512)       1180160   \n",
      "                                                                 \n",
      " block4_conv2 (Conv2D)       (None, 28, 28, 512)       2359808   \n",
      "                                                                 \n",
      " block4_conv3 (Conv2D)       (None, 28, 28, 512)       2359808   \n",
      "                                                                 \n",
      " block4_pool (MaxPooling2D)  (None, 14, 14, 512)       0         \n",
      "                                                                 \n",
      " block5_conv1 (Conv2D)       (None, 14, 14, 512)       2359808   \n",
      "                                                                 \n",
      " block5_conv2 (Conv2D)       (None, 14, 14, 512)       2359808   \n",
      "                                                                 \n",
      " block5_conv3 (Conv2D)       (None, 14, 14, 512)       2359808   \n",
      "                                                                 \n",
      " block5_pool (MaxPooling2D)  (None, 7, 7, 512)         0         \n",
      "                                                                 \n",
      " flatten_2 (Flatten)         (None, 25088)             0         \n",
      "                                                                 \n",
      " dense_4 (Dense)             (None, 4096)              102764544 \n",
      "                                                                 \n",
      " dense_5 (Dense)             (None, 3)                 12291     \n",
      "                                                                 \n",
      "=================================================================\n",
      "Total params: 117491523 (448.19 MB)\n",
      "Trainable params: 102776835 (392.06 MB)\n",
      "Non-trainable params: 14714688 (56.13 MB)\n",
      "_________________________________________________________________\n"
     ]
    }
   ],
   "source": [
    "batch_size = 8\n",
    "epochs = 5\n",
    "\n",
    "train_seq = DataSeq(X_train, y_train)\n",
    "valid_seq = DataSeq(X_valid, y_valid)\n",
    "\n",
    "train_steps = len(X_train) // batch_size\n",
    "valid_steps = len(X_valid) // batch_size\n",
    "\n",
    "model = build_transfer_vgg((224, 224, 3))\n",
    "model.compile(optimizer=\"adam\", loss=\"categorical_crossentropy\", metrics=[\"accuracy\"])\n",
    "model.summary()"
   ]
  },
  {
   "cell_type": "code",
   "execution_count": null,
   "id": "3ebe18e5-6a92-4138-9770-a6c7da66aacb",
   "metadata": {
    "id": "3ebe18e5-6a92-4138-9770-a6c7da66aacb",
    "outputId": "972eba57-3b83-4876-fd60-f08a318a6242"
   },
   "outputs": [
    {
     "name": "stdout",
     "output_type": "stream",
     "text": [
      "Epoch 1/5\n",
      "7524/7524 [==============================] - 399s 53ms/step - loss: 0.4826 - accuracy: 0.8234 - val_loss: 0.3896 - val_accuracy: 0.8444\n",
      "Epoch 2/5\n",
      "7524/7524 [==============================] - 401s 53ms/step - loss: 0.3564 - accuracy: 0.8560 - val_loss: 0.3787 - val_accuracy: 0.8454\n",
      "Epoch 3/5\n",
      "7524/7524 [==============================] - 400s 53ms/step - loss: 0.3265 - accuracy: 0.8691 - val_loss: 0.4098 - val_accuracy: 0.8390\n",
      "Epoch 4/5\n",
      "7524/7524 [==============================] - 402s 53ms/step - loss: 0.3024 - accuracy: 0.8782 - val_loss: 0.3829 - val_accuracy: 0.8516\n",
      "Epoch 5/5\n",
      "7524/7524 [==============================] - 406s 54ms/step - loss: 0.2859 - accuracy: 0.8861 - val_loss: 0.4291 - val_accuracy: 0.8363\n"
     ]
    }
   ],
   "source": [
    "history = model.fit(train_seq, validation_data=valid_seq, steps_per_epoch=train_steps,\n",
    "   validation_steps=valid_steps, epochs=epochs)"
   ]
  },
  {
   "cell_type": "markdown",
   "id": "e87af0e6-2a9c-4fb2-9b3b-5ccae0f7d191",
   "metadata": {},
   "source": []
  },
  {
   "cell_type": "code",
   "execution_count": null,
   "id": "8dfcf736-0b10-4ab3-a0bc-7d69463d077f",
   "metadata": {
    "id": "8dfcf736-0b10-4ab3-a0bc-7d69463d077f",
    "outputId": "a61545c2-ff83-4d89-864f-c106fa693a3c"
   },
   "outputs": [
    {
     "name": "stdout",
     "output_type": "stream",
     "text": [
      "546/546 [==============================] - 17s 32ms/step\n"
     ]
    },
    {
     "data": {
      "image/png": "[encoded data removed]",
      "text/plain": [
       "<Figure size 960x640 with 1 Axes>"
      ]
     },
     "metadata": {},
     "output_type": "display_data"
    }
   ],
   "source": [
    "test_path = \"./Test/\"\n",
    "test_ids, test_labels = load_ids(test_path)\n",
    "test_seq = DataSeq(test_ids, test_labels)\n",
    "\n",
    "y_pred = model.predict(test_seq)\n",
    "\n",
    "# TODO: This creates some predictions (near a 100) with no classfication and needs to be re tested.\n",
    "y_pred = (y_pred > 0.5).astype(int)\n",
    "\n",
    "\n",
    "plt.figure(figsize=(6, 4), dpi=160)\n",
    "plt.plot(history.history[\"loss\"], label=\"train\")\n",
    "plt.plot(history.history[\"val_loss\"], label=\"validation\")\n",
    "plt.legend()\n",
    "plt.show()"
   ]
  },
  {
   "cell_type": "markdown",
   "id": "344128bd-b209-48ae-a29a-9742a2e15dc8",
   "metadata": {},
   "source": [
    "#### This needs to be redone, but the results should be nearly the same."
   ]
  },
  {
   "cell_type": "code",
   "execution_count": null,
   "id": "30b4619a-baff-4fea-8ac8-62bb6c716c7b",
   "metadata": {
    "id": "30b4619a-baff-4fea-8ac8-62bb6c716c7b",
    "outputId": "037300ea-067c-4e2f-9fba-2fcacd77e8a7"
   },
   "outputs": [
    {
     "name": "stdout",
     "output_type": "stream",
     "text": [
      "              precision    recall  f1-score   support\n",
      "\n",
      "           0       0.90      0.77      0.83      2692\n",
      "           1       0.61      0.86      0.72      1196\n",
      "           2       0.94      0.59      0.72       476\n",
      "\n",
      "   micro avg       0.79      0.78      0.78      4364\n",
      "   macro avg       0.82      0.74      0.76      4364\n",
      "weighted avg       0.83      0.78      0.79      4364\n",
      " samples avg       0.78      0.78      0.78      4364\n",
      "\n"
     ]
    },
    {
     "name": "stderr",
     "output_type": "stream",
     "text": [
      "/home/mlbros/.local/lib/python3.10/site-packages/sklearn/metrics/_classification.py:1469: UndefinedMetricWarning: Precision and F-score are ill-defined and being set to 0.0 in samples with no predicted labels. Use `zero_division` parameter to control this behavior.\n",
      "  _warn_prf(average, modifier, msg_start, len(result))\n"
     ]
    }
   ],
   "source": [
    "print(classification_report(test_labels, y_pred))"
   ]
  },
  {
   "cell_type": "markdown",
   "id": "255e92e4-84cd-4495-b015-379a46c326e4",
   "metadata": {},
   "source": [
    "### VGG16 with data augmentation\n",
    "\n",
    "Same VGG16 model as before, but with a RandomFlip and RandomRotation layer."
   ]
  },
  {
   "cell_type": "code",
   "execution_count": null,
   "id": "76707f6e-0d0c-4104-a5e0-f48b652d6bb3",
   "metadata": {
    "id": "76707f6e-0d0c-4104-a5e0-f48b652d6bb3"
   },
   "outputs": [],
   "source": [
    " def build_transfer_vgg_aug(input_shape):\n",
    "    input_layer = Input(shape=input_shape)\n",
    "\n",
    "    data_augmentation = tf.keras.Sequential([\n",
    "        input_layer,\n",
    "        tf.keras.layers.RandomFlip(\"horizontal\"),\n",
    "        tf.keras.layers.RandomRotation(0.1),\n",
    "    ])\n",
    "\n",
    "    vgg = tf.keras.applications.VGG16(weights=None, include_top=False, input_tensor=data_augmentation.output)\n",
    "    vgg.load_weights('./vgg16_weights_tf_dim_ordering_tf_kernels_notop.h5')\n",
    "    vgg.trainable = False\n",
    "\n",
    "    model = vgg.output\n",
    "    model = Flatten()(model)\n",
    "    model = Dense(4096, activation='relu')(model)\n",
    "    model = Dense(3, activation='softmax')(model)\n",
    "\n",
    "    model = Model(input_layer, model, name=\"Transfer_VGG16\")\n",
    "    return model"
   ]
  },
  {
   "cell_type": "code",
   "execution_count": null,
   "id": "c71b2aec-d500-47d2-823b-53434b465559",
   "metadata": {
    "id": "c71b2aec-d500-47d2-823b-53434b465559",
    "outputId": "1dfb40fa-3f5f-4d87-e58b-1e76a1e773a2"
   },
   "outputs": [
    {
     "name": "stdout",
     "output_type": "stream",
     "text": [
      "Model: \"Transfer_VGG16\"\n",
      "_________________________________________________________________\n",
      " Layer (type)                Output Shape              Param #   \n",
      "=================================================================\n",
      " input_6 (InputLayer)        [(None, 224, 224, 3)]     0         \n",
      "                                                                 \n",
      " random_flip_1 (RandomFlip)  (None, 224, 224, 3)       0         \n",
      "                                                                 \n",
      " random_rotation_1 (RandomR  (None, 224, 224, 3)       0         \n",
      " otation)                                                        \n",
      "                                                                 \n",
      " block1_conv1 (Conv2D)       (None, 224, 224, 64)      1792      \n",
      "                                                                 \n",
      " block1_conv2 (Conv2D)       (None, 224, 224, 64)      36928     \n",
      "                                                                 \n",
      " block1_pool (MaxPooling2D)  (None, 112, 112, 64)      0         \n",
      "                                                                 \n",
      " block2_conv1 (Conv2D)       (None, 112, 112, 128)     73856     \n",
      "                                                                 \n",
      " block2_conv2 (Conv2D)       (None, 112, 112, 128)     147584    \n",
      "                                                                 \n",
      " block2_pool (MaxPooling2D)  (None, 56, 56, 128)       0         \n",
      "                                                                 \n",
      " block3_conv1 (Conv2D)       (None, 56, 56, 256)       295168    \n",
      "                                                                 \n",
      " block3_conv2 (Conv2D)       (None, 56, 56, 256)       590080    \n",
      "                                                                 \n",
      " block3_conv3 (Conv2D)       (None, 56, 56, 256)       590080    \n",
      "                                                                 \n",
      " block3_pool (MaxPooling2D)  (None, 28, 28, 256)       0         \n",
      "                                                                 \n",
      " block4_conv1 (Conv2D)       (None, 28, 28, 512)       1180160   \n",
      "                                                                 \n",
      " block4_conv2 (Conv2D)       (None, 28, 28, 512)       2359808   \n",
      "                                                                 \n",
      " block4_conv3 (Conv2D)       (None, 28, 28, 512)       2359808   \n",
      "                                                                 \n",
      " block4_pool (MaxPooling2D)  (None, 14, 14, 512)       0         \n",
      "                                                                 \n",
      " block5_conv1 (Conv2D)       (None, 14, 14, 512)       2359808   \n",
      "                                                                 \n",
      " block5_conv2 (Conv2D)       (None, 14, 14, 512)       2359808   \n",
      "                                                                 \n",
      " block5_conv3 (Conv2D)       (None, 14, 14, 512)       2359808   \n",
      "                                                                 \n",
      " block5_pool (MaxPooling2D)  (None, 7, 7, 512)         0         \n",
      "                                                                 \n",
      " flatten_4 (Flatten)         (None, 25088)             0         \n",
      "                                                                 \n",
      " dense_8 (Dense)             (None, 4096)              102764544 \n",
      "                                                                 \n",
      " dense_9 (Dense)             (None, 3)                 12291     \n",
      "                                                                 \n",
      "=================================================================\n",
      "Total params: 117491523 (448.19 MB)\n",
      "Trainable params: 102776835 (392.06 MB)\n",
      "Non-trainable params: 14714688 (56.13 MB)\n",
      "_________________________________________________________________\n"
     ]
    }
   ],
   "source": [
    "model_aug = build_transfer_vgg_aug((224, 224, 3))\n",
    "model_aug.compile(optimizer=\"adam\", loss=\"categorical_crossentropy\", metrics=[\"accuracy\"])\n",
    "model_aug.summary()"
   ]
  },
  {
   "cell_type": "code",
   "execution_count": null,
   "id": "fdf7b978-3372-4acb-b2d2-b48e98c35c56",
   "metadata": {
    "id": "fdf7b978-3372-4acb-b2d2-b48e98c35c56",
    "outputId": "63ebfcac-1913-4402-95a8-e0c1ebb8cdfc"
   },
   "outputs": [
    {
     "name": "stdout",
     "output_type": "stream",
     "text": [
      "Epoch 1/5\n",
      "7524/7524 [==============================] - 422s 56ms/step - loss: 0.4827 - accuracy: 0.8153 - val_loss: 0.4457 - val_accuracy: 0.8155\n",
      "Epoch 2/5\n",
      "7524/7524 [==============================] - 418s 56ms/step - loss: 0.3887 - accuracy: 0.8417 - val_loss: 0.3943 - val_accuracy: 0.8421\n",
      "Epoch 3/5\n",
      "7524/7524 [==============================] - 417s 55ms/step - loss: 0.3755 - accuracy: 0.8494 - val_loss: 0.4003 - val_accuracy: 0.8371\n",
      "Epoch 4/5\n",
      "7524/7524 [==============================] - 418s 56ms/step - loss: 0.3669 - accuracy: 0.8521 - val_loss: 0.3945 - val_accuracy: 0.8428\n",
      "Epoch 5/5\n",
      "7524/7524 [==============================] - 420s 56ms/step - loss: 0.3599 - accuracy: 0.8558 - val_loss: 0.3553 - val_accuracy: 0.8598\n"
     ]
    }
   ],
   "source": [
    "history_aug = model_aug.fit(train_seq, validation_data=valid_seq, steps_per_epoch=train_steps,\n",
    "   validation_steps=valid_steps, epochs=epochs)"
   ]
  },
  {
   "cell_type": "code",
   "execution_count": null,
   "id": "bc67d662-0286-423b-9bf7-08336b231324",
   "metadata": {
    "id": "bc67d662-0286-423b-9bf7-08336b231324",
    "outputId": "c846fde6-8d04-48b8-b5eb-464591c349b6"
   },
   "outputs": [
    {
     "name": "stdout",
     "output_type": "stream",
     "text": [
      "546/546 [==============================] - 17s 32ms/step\n",
      "              precision    recall  f1-score   support\n",
      "\n",
      "           0       0.88      0.88      0.88      2692\n",
      "           1       0.73      0.78      0.75      1196\n",
      "           2       0.86      0.67      0.76       476\n",
      "\n",
      "    accuracy                           0.83      4364\n",
      "   macro avg       0.82      0.78      0.80      4364\n",
      "weighted avg       0.84      0.83      0.83      4364\n",
      "\n"
     ]
    },
    {
     "data": {
      "image/png": "[encoded data removed]",
      "text/plain": [
       "<Figure size 960x640 with 1 Axes>"
      ]
     },
     "metadata": {},
     "output_type": "display_data"
    }
   ],
   "source": [
    "y_pred_aug = model_aug.predict(test_seq)\n",
    "y_pred_aug = np.argmax(y_pred_aug,axis=1)\n",
    "print(classification_report(np.argmax(test_labels, axis=1), y_pred_aug))\n",
    "\n",
    "plt.figure(figsize=(6, 4), dpi=160)\n",
    "plt.plot(history_aug.history[\"loss\"], label=\"train\")\n",
    "plt.plot(history_aug.history[\"val_loss\"], label=\"validation\")\n",
    "plt.legend()\n",
    "plt.show()"
   ]
  },
  {
   "cell_type": "markdown",
   "id": "d930be71-3094-4710-baf5-118b4992f1c6",
   "metadata": {},
   "source": [
    "### Testing the pickle file"
   ]
  },
  {
   "cell_type": "code",
   "execution_count": null,
   "id": "4b867ec7-288b-4852-b6da-1fee115dc392",
   "metadata": {
    "id": "4b867ec7-288b-4852-b6da-1fee115dc392",
    "outputId": "91931a8d-1931-452c-91b0-0764568ee545"
   },
   "outputs": [
    {
     "data": {
      "text/html": [
       "<div>\n",
       "<style scoped>\n",
       "    .dataframe tbody tr th:only-of-type {\n",
       "        vertical-align: middle;\n",
       "    }\n",
       "\n",
       "    .dataframe tbody tr th {\n",
       "        vertical-align: top;\n",
       "    }\n",
       "\n",
       "    .dataframe thead th {\n",
       "        text-align: right;\n",
       "    }\n",
       "</style>\n",
       "<table border=\"1\" class=\"dataframe\">\n",
       "  <thead>\n",
       "    <tr style=\"text-align: right;\">\n",
       "      <th></th>\n",
       "      <th>annotations</th>\n",
       "      <th>label</th>\n",
       "      <th>patch</th>\n",
       "    </tr>\n",
       "  </thead>\n",
       "  <tbody>\n",
       "    <tr>\n",
       "      <th>0</th>\n",
       "      <td>[[13, 1], [23, 1], [17, 2], [7, 1], [5, 1], [1...</td>\n",
       "      <td>1.0</td>\n",
       "      <td>TCGA-A1-A0SK-DX1_xmin47201_ymin23382_A0SK_A1_x...</td>\n",
       "    </tr>\n",
       "    <tr>\n",
       "      <th>1</th>\n",
       "      <td>[[13, 1], [23, 1], [17, 2], [7, 1], [5, 1], [1...</td>\n",
       "      <td>1.0</td>\n",
       "      <td>TCGA-A1-A0SK-DX1_xmin47201_ymin23382_A0SK_A1_x...</td>\n",
       "    </tr>\n",
       "    <tr>\n",
       "      <th>2</th>\n",
       "      <td>[[13, 1], [23, 1], [17, 2], [7, 1], [5, 1], [1...</td>\n",
       "      <td>1.0</td>\n",
       "      <td>TCGA-A1-A0SK-DX1_xmin47201_ymin23382_A0SK_A1_x...</td>\n",
       "    </tr>\n",
       "    <tr>\n",
       "      <th>3</th>\n",
       "      <td>[[13, 1], [23, 1], [17, 2], [7, 1], [5, 1], [1...</td>\n",
       "      <td>1.0</td>\n",
       "      <td>TCGA-A1-A0SK-DX1_xmin47201_ymin23382_A0SK_A1_x...</td>\n",
       "    </tr>\n",
       "    <tr>\n",
       "      <th>4</th>\n",
       "      <td>[[13, 1], [23, 1], [17, 1], [7, 1], [5, 1], [1...</td>\n",
       "      <td>1.0</td>\n",
       "      <td>TCGA-A1-A0SK-DX1_xmin47201_ymin23382_A0SK_A1_x...</td>\n",
       "    </tr>\n",
       "    <tr>\n",
       "      <th>...</th>\n",
       "      <td>...</td>\n",
       "      <td>...</td>\n",
       "      <td>...</td>\n",
       "    </tr>\n",
       "    <tr>\n",
       "      <th>75238</th>\n",
       "      <td>[[5, 3]]</td>\n",
       "      <td>3.0</td>\n",
       "      <td>TCGA-S3-AA10-DX1_xmin43039_ymin23986_AA10_S3_x...</td>\n",
       "    </tr>\n",
       "    <tr>\n",
       "      <th>75239</th>\n",
       "      <td>[[5, 3]]</td>\n",
       "      <td>3.0</td>\n",
       "      <td>TCGA-S3-AA10-DX1_xmin43039_ymin23986_AA10_S3_x...</td>\n",
       "    </tr>\n",
       "    <tr>\n",
       "      <th>75240</th>\n",
       "      <td>[[5, 3]]</td>\n",
       "      <td>3.0</td>\n",
       "      <td>TCGA-S3-AA10-DX1_xmin43039_ymin23986_AA10_S3_x...</td>\n",
       "    </tr>\n",
       "    <tr>\n",
       "      <th>75241</th>\n",
       "      <td>[[5, 3]]</td>\n",
       "      <td>3.0</td>\n",
       "      <td>TCGA-S3-AA10-DX1_xmin43039_ymin23986_AA10_S3_x...</td>\n",
       "    </tr>\n",
       "    <tr>\n",
       "      <th>75242</th>\n",
       "      <td>[[5, 3]]</td>\n",
       "      <td>3.0</td>\n",
       "      <td>TCGA-S3-AA10-DX1_xmin43039_ymin23986_AA10_S3_x...</td>\n",
       "    </tr>\n",
       "  </tbody>\n",
       "</table>\n",
       "<p>75243 rows × 3 columns</p>\n",
       "</div>"
      ],
      "text/plain": [
       "                                             annotations  label  \\\n",
       "0      [[13, 1], [23, 1], [17, 2], [7, 1], [5, 1], [1...    1.0   \n",
       "1      [[13, 1], [23, 1], [17, 2], [7, 1], [5, 1], [1...    1.0   \n",
       "2      [[13, 1], [23, 1], [17, 2], [7, 1], [5, 1], [1...    1.0   \n",
       "3      [[13, 1], [23, 1], [17, 2], [7, 1], [5, 1], [1...    1.0   \n",
       "4      [[13, 1], [23, 1], [17, 1], [7, 1], [5, 1], [1...    1.0   \n",
       "...                                                  ...    ...   \n",
       "75238                                           [[5, 3]]    3.0   \n",
       "75239                                           [[5, 3]]    3.0   \n",
       "75240                                           [[5, 3]]    3.0   \n",
       "75241                                           [[5, 3]]    3.0   \n",
       "75242                                           [[5, 3]]    3.0   \n",
       "\n",
       "                                                   patch  \n",
       "0      TCGA-A1-A0SK-DX1_xmin47201_ymin23382_A0SK_A1_x...  \n",
       "1      TCGA-A1-A0SK-DX1_xmin47201_ymin23382_A0SK_A1_x...  \n",
       "2      TCGA-A1-A0SK-DX1_xmin47201_ymin23382_A0SK_A1_x...  \n",
       "3      TCGA-A1-A0SK-DX1_xmin47201_ymin23382_A0SK_A1_x...  \n",
       "4      TCGA-A1-A0SK-DX1_xmin47201_ymin23382_A0SK_A1_x...  \n",
       "...                                                  ...  \n",
       "75238  TCGA-S3-AA10-DX1_xmin43039_ymin23986_AA10_S3_x...  \n",
       "75239  TCGA-S3-AA10-DX1_xmin43039_ymin23986_AA10_S3_x...  \n",
       "75240  TCGA-S3-AA10-DX1_xmin43039_ymin23986_AA10_S3_x...  \n",
       "75241  TCGA-S3-AA10-DX1_xmin43039_ymin23986_AA10_S3_x...  \n",
       "75242  TCGA-S3-AA10-DX1_xmin43039_ymin23986_AA10_S3_x...  \n",
       "\n",
       "[75243 rows x 3 columns]"
      ]
     },
     "execution_count": 59,
     "metadata": {},
     "output_type": "execute_result"
    }
   ],
   "source": [
    "pkl_path = \"./train_crowdsourced_labels.pkl\"\n",
    "df = pd.read_pickle(pkl_path)\n",
    "df"
   ]
  },
  {
   "cell_type": "code",
   "execution_count": null,
   "id": "d704aff6-e555-4455-a777-ab751e994ab0",
   "metadata": {
    "id": "d704aff6-e555-4455-a777-ab751e994ab0",
    "outputId": "d016dc0a-fd1b-4fa7-a53e-36a08456f029"
   },
   "outputs": [
    {
     "name": "stdout",
     "output_type": "stream",
     "text": [
      "[[13  1]\n",
      " [23  1]\n",
      " [17  2]\n",
      " [ 7  1]\n",
      " [ 5  1]\n",
      " [11  1]\n",
      " [12  1]\n",
      " [21  1]\n",
      " [19  1]\n",
      " [ 8  1]\n",
      " [10  1]\n",
      " [22  1]\n",
      " [14  1]\n",
      " [24  1]\n",
      " [20  1]\n",
      " [ 9  1]\n",
      " [15  1]]\n",
      "TCGA-A1-A0SK-DX1_xmin47201_ymin23382_A0SK_A1_x_ini_0_y_ini_0.png\n",
      "1.0\n"
     ]
    }
   ],
   "source": [
    "print(df[\"annotations\"][0])\n",
    "print(df[\"patch\"][0])\n",
    "print(df[\"label\"][0])"
   ]
  }
 ],
 "metadata": {
  "colab": {
   "provenance": []
  },
  "kernelspec": {
   "display_name": "Python 3 (ipykernel)",
   "language": "python",
   "name": "python3"
  },
  "language_info": {
   "codemirror_mode": {
    "name": "ipython",
    "version": 3
   },
   "file_extension": ".py",
   "mimetype": "text/x-python",
   "name": "python",
   "nbconvert_exporter": "python",
   "pygments_lexer": "ipython3",
   "version": "3.11.3"
  }
 },
 "nbformat": 4,
 "nbformat_minor": 5
}
