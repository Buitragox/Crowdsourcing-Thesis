{
 "cells": [
  {
   "cell_type": "code",
   "execution_count": 1,
   "id": "a36c1c41-1ed4-4c43-9b75-c5681b3d21a5",
   "metadata": {},
   "outputs": [
    {
     "name": "stderr",
     "output_type": "stream",
     "text": [
      "2023-08-30 11:08:49.981989: I tensorflow/core/util/port.cc:110] oneDNN custom operations are on. You may see slightly different numerical results due to floating-point round-off errors from different computation orders. To turn them off, set the environment variable `TF_ENABLE_ONEDNN_OPTS=0`.\n",
      "2023-08-30 11:08:50.172036: I tensorflow/core/platform/cpu_feature_guard.cc:182] This TensorFlow binary is optimized to use available CPU instructions in performance-critical operations.\n",
      "To enable the following instructions: AVX2 AVX512F AVX512_VNNI FMA, in other operations, rebuild TensorFlow with the appropriate compiler flags.\n",
      "2023-08-30 11:08:51.049285: W tensorflow/compiler/tf2tensorrt/utils/py_utils.cc:38] TF-TRT Warning: Could not find TensorRT\n"
     ]
    }
   ],
   "source": [
    "import os\n",
    "from utils import DataSeq, load_ids\n",
    "\n",
    "import numpy as np\n",
    "import pandas as pd\n",
    "import skimage.io as io\n",
    "\n",
    "from matplotlib import pyplot as plt\n",
    "\n",
    "from sklearn.model_selection import train_test_split\n",
    "from sklearn.metrics import classification_report\n",
    "\n",
    "import tensorflow as tf\n",
    "from tensorflow.keras.models import Model\n",
    "from tensorflow.keras.metrics import F1Score\n",
    "from tensorflow.keras.layers import Input, Flatten, Dense, Dropout\n",
    "\n",
    "import keras_tuner as kt\n",
    "\n",
    "from imblearn.over_sampling import RandomOverSampler\n",
    "\n",
    "os.environ[\"TF_CPP_MIN_LOG_LEVEL\"] = \"3\""
   ]
  },
  {
   "cell_type": "code",
   "execution_count": 2,
   "id": "56fd8a7c-4928-440e-be42-3808426bba1a",
   "metadata": {},
   "outputs": [],
   "source": [
    "path = \"./Train_non_experts_simple/\"\n",
    "batch_size = 8\n",
    "epochs = 10"
   ]
  },
  {
   "cell_type": "code",
   "execution_count": 3,
   "id": "3875eda3-f9ba-44e5-8436-0fa1c6b6fcdd",
   "metadata": {},
   "outputs": [
    {
     "name": "stderr",
     "output_type": "stream",
     "text": [
      "2023-08-30 11:08:53.677111: I tensorflow/compiler/xla/stream_executor/cuda/cuda_gpu_executor.cc:981] could not open file to read NUMA node: /sys/bus/pci/devices/0000:01:00.0/numa_node\n",
      "Your kernel may have been built without NUMA support.\n",
      "2023-08-30 11:08:53.786481: I tensorflow/compiler/xla/stream_executor/cuda/cuda_gpu_executor.cc:981] could not open file to read NUMA node: /sys/bus/pci/devices/0000:01:00.0/numa_node\n",
      "Your kernel may have been built without NUMA support.\n",
      "2023-08-30 11:08:53.786532: I tensorflow/compiler/xla/stream_executor/cuda/cuda_gpu_executor.cc:981] could not open file to read NUMA node: /sys/bus/pci/devices/0000:01:00.0/numa_node\n",
      "Your kernel may have been built without NUMA support.\n",
      "2023-08-30 11:08:53.789572: I tensorflow/compiler/xla/stream_executor/cuda/cuda_gpu_executor.cc:981] could not open file to read NUMA node: /sys/bus/pci/devices/0000:01:00.0/numa_node\n",
      "Your kernel may have been built without NUMA support.\n",
      "2023-08-30 11:08:53.789625: I tensorflow/compiler/xla/stream_executor/cuda/cuda_gpu_executor.cc:981] could not open file to read NUMA node: /sys/bus/pci/devices/0000:01:00.0/numa_node\n",
      "Your kernel may have been built without NUMA support.\n",
      "2023-08-30 11:08:53.789647: I tensorflow/compiler/xla/stream_executor/cuda/cuda_gpu_executor.cc:981] could not open file to read NUMA node: /sys/bus/pci/devices/0000:01:00.0/numa_node\n",
      "Your kernel may have been built without NUMA support.\n",
      "2023-08-30 11:08:54.824736: I tensorflow/compiler/xla/stream_executor/cuda/cuda_gpu_executor.cc:981] could not open file to read NUMA node: /sys/bus/pci/devices/0000:01:00.0/numa_node\n",
      "Your kernel may have been built without NUMA support.\n",
      "2023-08-30 11:08:54.824811: I tensorflow/compiler/xla/stream_executor/cuda/cuda_gpu_executor.cc:981] could not open file to read NUMA node: /sys/bus/pci/devices/0000:01:00.0/numa_node\n",
      "Your kernel may have been built without NUMA support.\n",
      "2023-08-30 11:08:54.824817: I tensorflow/core/common_runtime/gpu/gpu_device.cc:1726] Could not identify NUMA node of platform GPU id 0, defaulting to 0.  Your kernel may not have been built with NUMA support.\n",
      "2023-08-30 11:08:54.824844: I tensorflow/compiler/xla/stream_executor/cuda/cuda_gpu_executor.cc:981] could not open file to r"
     ]
    },
    {
     "name": "stdout",
     "output_type": "stream",
     "text": [
      "(75243,) (75243, 3)\n"
     ]
    },
    {
     "name": "stderr",
     "output_type": "stream",
     "text": [
      "ead NUMA node: /sys/bus/pci/devices/0000:01:00.0/numa_node\n",
      "Your kernel may have been built without NUMA support.\n",
      "2023-08-30 11:08:54.824883: I tensorflow/core/common_runtime/gpu/gpu_device.cc:1639] Created device /job:localhost/replica:0/task:0/device:GPU:0 with 9539 MB memory:  -> device: 0, name: NVIDIA GeForce RTX 3060, pci bus id: 0000:01:00.0, compute capability: 8.6\n"
     ]
    }
   ],
   "source": [
    "ids, labels = load_ids(path)\n",
    "print(ids.shape, labels.shape)\n",
    "X_train, X_valid, y_train, y_valid = train_test_split(ids, labels, test_size=0.2, random_state=42)"
   ]
  },
  {
   "cell_type": "markdown",
   "id": "f1e8df8e-6c3d-436e-98ce-d3ee162f9103",
   "metadata": {},
   "source": [
    "# Oversampling the data"
   ]
  },
  {
   "cell_type": "code",
   "execution_count": 4,
   "id": "f5486df2-cf3f-48c1-aaee-3106b96f500f",
   "metadata": {},
   "outputs": [
    {
     "name": "stdout",
     "output_type": "stream",
     "text": [
      "True\n"
     ]
    }
   ],
   "source": [
    "over_sampler = RandomOverSampler()\n",
    "X_train_over, y_train_over = over_sampler.fit_resample(X_train.reshape(-1, 1), y_train)\n",
    "X_train_over = X_train_over.flatten()\n",
    "\n",
    "# Check if labels are correct\n",
    "all_equal = True\n",
    "for i in range(100):\n",
    "    # Compare path label vs y_train_over label\n",
    "    if np.argmax(y_train_over[i]) != int(X_train_over[i][27]) - 1:\n",
    "        all_equal = False\n",
    "\n",
    "print(all_equal)"
   ]
  },
  {
   "cell_type": "code",
   "execution_count": 5,
   "id": "f371ef92-4ad1-4864-8a2d-2e60b3ccb256",
   "metadata": {},
   "outputs": [
    {
     "name": "stdout",
     "output_type": "stream",
     "text": [
      "Training labels BEFORE oversampling\n",
      "0 29793\n",
      "1 22193\n",
      "2 8208\n",
      "\n",
      "Training labels AFTER oversampling\n",
      "0 29793\n",
      "1 29793\n",
      "2 29793\n"
     ]
    }
   ],
   "source": [
    "values, counts = np.unique(np.argmax(y_train,axis=1), return_counts = True)\n",
    "print(\"Training labels BEFORE oversampling\")\n",
    "\n",
    "for val, count in zip(values, counts):\n",
    "    print(val, count)\n",
    "\n",
    "y = np.argmax(y_train_over,axis=1)\n",
    "values, counts = np.unique(y, return_counts = True)\n",
    "print(\"\\nTraining labels AFTER oversampling\")\n",
    "\n",
    "for val, count in zip(values, counts):\n",
    "    print(val, count)"
   ]
  },
  {
   "cell_type": "code",
   "execution_count": 6,
   "id": "a3786665-626c-42a4-a430-03a017f56431",
   "metadata": {},
   "outputs": [],
   "source": [
    "train_seq = DataSeq(X_train_over, y_train_over)\n",
    "valid_seq = DataSeq(X_valid, y_valid)\n",
    "\n",
    "train_steps = len(X_train_over) // batch_size\n",
    "valid_steps = len(X_valid) // batch_size"
   ]
  },
  {
   "cell_type": "markdown",
   "id": "7e50d4e6-12fd-4e65-91b3-0e8dcdffc893",
   "metadata": {},
   "source": [
    "# Hyperparameter Tuning"
   ]
  },
  {
   "cell_type": "code",
   "execution_count": 7,
   "id": "13086354-d7dc-4b09-bff5-ca5e8bccf984",
   "metadata": {},
   "outputs": [],
   "source": [
    " def build_transfer_vgg_aug(hp):\n",
    "    input_layer = Input(shape=(224, 224, 3))\n",
    "\n",
    "    data_augmentation = tf.keras.Sequential([\n",
    "        input_layer,\n",
    "        tf.keras.layers.RandomFlip(\"horizontal_and_vertical\"),\n",
    "        tf.keras.layers.RandomRotation(0.15),\n",
    "    ])\n",
    "    \n",
    "    vgg = tf.keras.applications.VGG16(weights=None, include_top=False, input_tensor=data_augmentation.output)\n",
    "    vgg.load_weights('./vgg16_weights_tf_dim_ordering_tf_kernels_notop.h5')\n",
    "    vgg.trainable = False\n",
    "\n",
    "    model = vgg.output\n",
    "    model = Flatten()(model)\n",
    "\n",
    "    neurons = hp.Choice(\"neurons\", [1024, 2048, 4096])\n",
    "\n",
    "    model = Dense(neurons, activation='relu')(model)\n",
    "    model = Dropout(0.2)(model)\n",
    "    model = Dense(neurons, activation='relu')(model)\n",
    "    model = Dropout(0.2)(model)\n",
    "    model = Dense(3, activation='softmax')(model)\n",
    "\n",
    "    model = Model(input_layer, model, name=\"Transfer_VGG16\")\n",
    "    model.compile(optimizer=\"adam\", loss=\"categorical_crossentropy\", metrics=[\"accuracy\"])\n",
    "    return model"
   ]
  },
  {
   "cell_type": "code",
   "execution_count": 8,
   "id": "974520cb-4146-4399-99d2-86c0bcc6f7e4",
   "metadata": {},
   "outputs": [
    {
     "name": "stdout",
     "output_type": "stream",
     "text": [
      "Search space summary\n",
      "Default search space size: 1\n",
      "neurons (Choice)\n",
      "{'default': 1024, 'conditions': [], 'values': [1024, 2048, 4096], 'ordered': True}\n"
     ]
    }
   ],
   "source": [
    "obj = kt.Objective(\"val_accuracy\", \"max\")\n",
    "# tuner = kt.Hyperband(build_transfer_vgg_aug,\n",
    "#                      objective=obj,\n",
    "#                      max_epochs=epochs,\n",
    "#                      factor=3,\n",
    "#                      seed = 42,\n",
    "#                      directory='./tuner_results/',\n",
    "#                      project_name='BCSS')\n",
    "\n",
    "tuner = kt.RandomSearch(\n",
    "    hypermodel=build_transfer_vgg_aug,\n",
    "    objective=obj,\n",
    "    max_trials=3,\n",
    "    executions_per_trial=1,\n",
    "    overwrite=True,\n",
    "    directory='./tuner_results/',\n",
    "    project_name='BCSS',\n",
    ")\n",
    "\n",
    "tuner.search_space_summary()"
   ]
  },
  {
   "cell_type": "code",
   "execution_count": null,
   "id": "fc4f8022-21bc-4702-a364-3086f938e102",
   "metadata": {},
   "outputs": [
    {
     "name": "stdout",
     "output_type": "stream",
     "text": [
      "Trial 2 Complete [00h 52m 48s]\n",
      "val_accuracy: 0.8312067985534668\n",
      "\n",
      "Best val_accuracy So Far: 0.8344630599021912\n",
      "Total elapsed time: 02h 05m 03s\n",
      "\n",
      "Search: Running Trial #3\n",
      "\n",
      "Value             |Best Value So Far |Hyperparameter\n",
      "1024              |2048              |neurons\n",
      "\n",
      "Epoch 1/10\n",
      "11172/11172 [==============================] - 504s 45ms/step - loss: 0.5337 - accuracy: 0.7892 - val_loss: 0.4372 - val_accuracy: 0.8373\n",
      "Epoch 2/10\n",
      "11171/11172 [============================>.] - ETA: 0s - loss: 0.4681 - accuracy: 0.8133"
     ]
    }
   ],
   "source": [
    "stop_early = tf.keras.callbacks.EarlyStopping(monitor='val_loss', patience=3)\n",
    "\n",
    "tuner.search(train_seq, validation_data=valid_seq, steps_per_epoch=train_steps,\n",
    "   validation_steps=valid_steps, epochs=epochs, callbacks=[stop_early])"
   ]
  },
  {
   "cell_type": "code",
   "execution_count": 12,
   "id": "d77e836d-9d08-416f-9a33-3ee5bddc01f2",
   "metadata": {},
   "outputs": [
    {
     "name": "stdout",
     "output_type": "stream",
     "text": [
      "The optimal number of neurons per layer is 1024\n"
     ]
    }
   ],
   "source": [
    "# Get the optimal hyperparameters\n",
    "best_hps=tuner.get_best_hyperparameters(num_trials=1)[0]\n",
    "\n",
    "print(f\"The optimal number of neurons per layer is {best_hps.get('neurons')}\")"
   ]
  },
  {
   "cell_type": "code",
   "execution_count": 16,
   "id": "8c421a93-1a14-4aa0-9d11-bc25d89a7130",
   "metadata": {},
   "outputs": [
    {
     "name": "stdout",
     "output_type": "stream",
     "text": [
      "Model: \"Transfer_VGG16\"\n",
      "_________________________________________________________________\n",
      " Layer (type)                Output Shape              Param #   \n",
      "=================================================================\n",
      " input_4 (InputLayer)        [(None, 224, 224, 3)]     0         \n",
      "                                                                 \n",
      " random_flip_3 (RandomFlip)  (None, 224, 224, 3)       0         \n",
      "                                                                 \n",
      " random_rotation_3 (RandomR  (None, 224, 224, 3)       0         \n",
      " otation)                                                        \n",
      "                                                                 \n",
      " block1_conv1 (Conv2D)       (None, 224, 224, 64)      1792      \n",
      "                                                                 \n",
      " block1_conv2 (Conv2D)       (None, 224, 224, 64)      36928     \n",
      "                                                                 \n",
      " block1_pool (MaxPooling2D)  (None, 112, 112, 64)      0         \n",
      "                                                                 \n",
      " block2_conv1 (Conv2D)       (None, 112, 112, 128)     73856     \n",
      "                                                                 \n",
      " block2_conv2 (Conv2D)       (None, 112, 112, 128)     147584    \n",
      "                                                                 \n",
      " block2_pool (MaxPooling2D)  (None, 56, 56, 128)       0         \n",
      "                                                                 \n",
      " block3_conv1 (Conv2D)       (None, 56, 56, 256)       295168    \n",
      "                                                                 \n",
      " block3_conv2 (Conv2D)       (None, 56, 56, 256)       590080    \n",
      "                                                                 \n",
      " block3_conv3 (Conv2D)       (None, 56, 56, 256)       590080    \n",
      "                                                                 \n",
      " block3_pool (MaxPooling2D)  (None, 28, 28, 256)       0         \n",
      "                                                                 \n",
      " block4_conv1 (Conv2D)       (None, 28, 28, 512)       1180160   \n",
      "                                                                 \n",
      " block4_conv2 (Conv2D)       (None, 28, 28, 512)       2359808   \n",
      "                                                                 \n",
      " block4_conv3 (Conv2D)       (None, 28, 28, 512)       2359808   \n",
      "                                                                 \n",
      " block4_pool (MaxPooling2D)  (None, 14, 14, 512)       0         \n",
      "                                                                 \n",
      " block5_conv1 (Conv2D)       (None, 14, 14, 512)       2359808   \n",
      "                                                                 \n",
      " block5_conv2 (Conv2D)       (None, 14, 14, 512)       2359808   \n",
      "                                                                 \n",
      " block5_conv3 (Conv2D)       (None, 14, 14, 512)       2359808   \n",
      "                                                                 \n",
      " block5_pool (MaxPooling2D)  (None, 7, 7, 512)         0         \n",
      "                                                                 \n",
      " flatten_3 (Flatten)         (None, 25088)             0         \n",
      "                                                                 \n",
      " dense_9 (Dense)             (None, 1024)              25691136  \n",
      "                                                                 \n",
      " dropout_6 (Dropout)         (None, 1024)              0         \n",
      "                                                                 \n",
      " dense_10 (Dense)            (None, 1024)              1049600   \n",
      "                                                                 \n",
      " dropout_7 (Dropout)         (None, 1024)              0         \n",
      "                                                                 \n",
      " dense_11 (Dense)            (None, 3)                 3075      \n",
      "                                                                 \n",
      "=================================================================\n",
      "Total params: 41458499 (158.15 MB)\n",
      "Trainable params: 26743811 (102.02 MB)\n",
      "Non-trainable params: 14714688 (56.13 MB)\n",
      "_________________________________________________________________\n"
     ]
    }
   ],
   "source": [
    "model = tuner.hypermodel.build(best_hps)\n",
    "model.summary()"
   ]
  },
  {
   "cell_type": "code",
   "execution_count": 18,
   "id": "cfa05dba-8e58-49bf-a17b-b1ea96440a30",
   "metadata": {},
   "outputs": [
    {
     "name": "stdout",
     "output_type": "stream",
     "text": [
      "Results summary\n",
      "Results in ./tuner_results/BCSS\n",
      "Showing 10 best trials\n",
      "Objective(name=\"val_accuracy\", direction=\"max\")\n",
      "\n",
      "Trial 2 summary\n",
      "Hyperparameters:\n",
      "neurons: 1024\n",
      "Score: 0.8373205661773682\n",
      "\n",
      "Trial 0 summary\n",
      "Hyperparameters:\n",
      "neurons: 2048\n",
      "Score: 0.8344630599021912\n",
      "\n",
      "Trial 1 summary\n",
      "Hyperparameters:\n",
      "neurons: 4096\n",
      "Score: 0.8312067985534668\n"
     ]
    }
   ],
   "source": [
    "tuner.results_summary()"
   ]
  },
  {
   "cell_type": "code",
   "execution_count": null,
   "id": "07307a7c-f9a1-4a62-975d-b6cb29d48195",
   "metadata": {},
   "outputs": [
    {
     "name": "stdout",
     "output_type": "stream",
     "text": [
      "Epoch 1/10\n",
      " 6045/11172 [===============>..............] - ETA: 3:21 - loss: 0.5691 - accuracy: 0.7794"
     ]
    }
   ],
   "source": [
    "history = model.fit(train_seq, validation_data=valid_seq, steps_per_epoch=train_steps,\n",
    " validation_steps=valid_steps, epochs=epochs, callbacks=[stop_early])"
   ]
  },
  {
   "cell_type": "code",
   "execution_count": null,
   "id": "03705a66-6180-47d8-ae19-1cdfcd2df0b0",
   "metadata": {},
   "outputs": [],
   "source": []
  }
 ],
 "metadata": {
  "kernelspec": {
   "display_name": "Python 3 (ipykernel)",
   "language": "python",
   "name": "python3"
  },
  "language_info": {
   "codemirror_mode": {
    "name": "ipython",
    "version": 3
   },
   "file_extension": ".py",
   "mimetype": "text/x-python",
   "name": "python",
   "nbconvert_exporter": "python",
   "pygments_lexer": "ipython3",
   "version": "3.10.12"
  }
 },
 "nbformat": 4,
 "nbformat_minor": 5
}
