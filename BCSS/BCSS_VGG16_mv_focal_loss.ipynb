{
 "cells": [
  {
   "cell_type": "code",
   "execution_count": 2,
   "id": "a36c1c41-1ed4-4c43-9b75-c5681b3d21a5",
   "metadata": {},
   "outputs": [],
   "source": [
    "import os\n",
    "from utils import DataSeq, load_ids, load_pickle_mv\n",
    "\n",
    "import numpy as np\n",
    "import pandas as pd\n",
    "import skimage.io as io\n",
    "\n",
    "from matplotlib import pyplot as plt\n",
    "\n",
    "from sklearn.model_selection import train_test_split\n",
    "from sklearn.metrics import classification_report\n",
    "from sklearn.utils import shuffle\n",
    "\n",
    "import tensorflow as tf\n",
    "from tensorflow.keras.models import Model\n",
    "from tensorflow.keras.metrics import F1Score\n",
    "from tensorflow.keras.layers import Input, Flatten, Dense, Dropout\n",
    "from tensorflow.keras.losses import Loss\n",
    "\n",
    "import keras_tuner as kt\n",
    "\n",
    "os.environ[\"TF_CPP_MIN_LOG_LEVEL\"] = \"3\""
   ]
  },
  {
   "cell_type": "code",
   "execution_count": 3,
   "id": "56fd8a7c-4928-440e-be42-3808426bba1a",
   "metadata": {},
   "outputs": [],
   "source": [
    "pkl_path = \"./mv.pkl\"\n",
    "images_path = \"./Train_non_experts_simple/\"\n",
    "test_path = \"./Test/\"\n",
    "batch_size = 8\n",
    "epochs = 10"
   ]
  },
  {
   "cell_type": "code",
   "execution_count": 5,
   "id": "3875eda3-f9ba-44e5-8436-0fa1c6b6fcdd",
   "metadata": {},
   "outputs": [
    {
     "name": "stdout",
     "output_type": "stream",
     "text": [
      "(75243,) (75243, 3)\n",
      "(4364,) (4364, 3)\n"
     ]
    }
   ],
   "source": [
    "ids, labels = load_pickle_mv(pkl_path, images_path)\n",
    "print(ids.shape, labels.shape)\n",
    "X_train, X_valid, y_train, y_valid = train_test_split(ids, labels, test_size=0.2, random_state=42)\n",
    "\n",
    "test_ids, test_labels = load_ids(test_path)\n",
    "print(test_ids.shape, test_labels.shape)\n",
    "test_seq = DataSeq(test_ids, test_labels)"
   ]
  },
  {
   "cell_type": "code",
   "execution_count": 6,
   "id": "35d32dbc-27aa-40da-a32b-3888e9e3b6f2",
   "metadata": {},
   "outputs": [],
   "source": [
    "# Loading images with generator\n",
    "\n",
    "train_seq = DataSeq(X_train, y_train)\n",
    "valid_seq = DataSeq(X_valid, y_valid)\n",
    "\n",
    "train_steps = len(X_train) // batch_size\n",
    "valid_steps = len(X_valid) // batch_size"
   ]
  },
  {
   "cell_type": "markdown",
   "id": "56c56c4f-9313-4a3b-bc12-190de503522e",
   "metadata": {},
   "source": [
    "# Focal loss"
   ]
  },
  {
   "cell_type": "code",
   "execution_count": 7,
   "id": "af886e8e-89d2-490a-8ff0-008cad02caa5",
   "metadata": {},
   "outputs": [],
   "source": [
    "class FocalLoss(Loss):\n",
    "    def __init__(self, gamma=2.0, alpha=None, num_classes=None):\n",
    "        super().__init__()\n",
    "        self.gamma = gamma\n",
    "        if num_classes is None:\n",
    "            raise ValueError(\"The 'num_classes' parameter must be specified.\")\n",
    "        if alpha is None:\n",
    "            alpha = [1 for _ in range(num_classes)]\n",
    "        elif len(alpha) != num_classes:\n",
    "            raise ValueError(\"The length of 'alpha' must be equal to 'num_classes'.\")\n",
    "        self.alpha = tf.convert_to_tensor(alpha, dtype=tf.float32)\n",
    "\n",
    "    def call(self, y_true, y_pred):\n",
    "        y_pred_clip = tf.clip_by_value(y_pred, clip_value_min=1e-4, clip_value_max=1-1e-4)\n",
    "        cce = tf.keras.losses.CategoricalCrossentropy(reduction=tf.keras.losses.Reduction.NONE)\n",
    "        entropy = cce(y_true, y_pred)\n",
    "\n",
    "        weight = tf.math.pow(1.0 - y_pred_clip, self.gamma) \n",
    "        focal = tf.reduce_sum(y_true * self.alpha * weight, axis=1)\n",
    "        loss = focal * entropy\n",
    "        \n",
    "        return tf.reduce_mean(loss)\n"
   ]
  },
  {
   "cell_type": "markdown",
   "id": "7e50d4e6-12fd-4e65-91b3-0e8dcdffc893",
   "metadata": {},
   "source": [
    "# Hyperparameter Tuning"
   ]
  },
  {
   "cell_type": "code",
   "execution_count": 8,
   "id": "13086354-d7dc-4b09-bff5-ca5e8bccf984",
   "metadata": {},
   "outputs": [],
   "source": [
    "def build_model(hp = None):\n",
    "    input_layer = Input(shape=(224, 224, 3))\n",
    "\n",
    "    data_augmentation = tf.keras.Sequential([\n",
    "        input_layer,\n",
    "        tf.keras.layers.RandomFlip(\"horizontal_and_vertical\"),\n",
    "        tf.keras.layers.RandomRotation(0.15),\n",
    "    ])\n",
    "    \n",
    "    vgg = tf.keras.applications.VGG16(weights=None, include_top=False, input_tensor=data_augmentation.output)\n",
    "    vgg.load_weights('./vgg16_weights_tf_dim_ordering_tf_kernels_notop.h5')\n",
    "    vgg.trainable = False\n",
    "\n",
    "    model = vgg.output\n",
    "    model = Flatten()(model)\n",
    "    model = Dense(4096, activation='relu')(model)\n",
    "    model = Dropout(0.25)(model)\n",
    "\n",
    "    model = Dense(3, activation='softmax')(model)\n",
    "    \n",
    "    gamma = 2\n",
    "    alpha = None\n",
    "\n",
    "    if not hp is None:\n",
    "        gamma = hp.Float(\"gamma\", min_value=1.0, max_value=5.0, step=0.5)\n",
    "        alpha1 = hp.Float(\"alpha1\", min_value=0.01, max_value=1, step=0.01)\n",
    "        alpha2 = hp.Float(\"alpha2\", min_value=0.01, max_value=1, step=0.01)\n",
    "        alpha3 = hp.Float(\"alpha3\", min_value=0.01, max_value=1, step=0.01)\n",
    "        alpha = [alpha1, alpha2, alpha3]\n",
    "\n",
    "    model = Model(input_layer, model, name=\"Transfer_VGG16\")\n",
    "    \n",
    "    model.compile(optimizer=\"adam\", loss=FocalLoss(gamma=gamma, alpha=alpha, num_classes=3), metrics=[\"accuracy\"])\n",
    "    return model"
   ]
  },
  {
   "cell_type": "code",
   "execution_count": 9,
   "id": "974520cb-4146-4399-99d2-86c0bcc6f7e4",
   "metadata": {},
   "outputs": [
    {
     "name": "stdout",
     "output_type": "stream",
     "text": [
      "INFO:tensorflow:Reloading Tuner from ./tuner_results/MV_Focal_Loss/tuner0.json\n",
      "Search space summary\n",
      "Default search space size: 4\n",
      "gamma (Float)\n",
      "{'default': 1.0, 'conditions': [], 'min_value': 1.0, 'max_value': 5.0, 'step': 0.5, 'sampling': 'linear'}\n",
      "alpha1 (Float)\n",
      "{'default': 0.01, 'conditions': [], 'min_value': 0.01, 'max_value': 1.0, 'step': 0.01, 'sampling': 'linear'}\n",
      "alpha2 (Float)\n",
      "{'default': 0.01, 'conditions': [], 'min_value': 0.01, 'max_value': 1.0, 'step': 0.01, 'sampling': 'linear'}\n",
      "alpha3 (Float)\n",
      "{'default': 0.01, 'conditions': [], 'min_value': 0.01, 'max_value': 1.0, 'step': 0.01, 'sampling': 'linear'}\n"
     ]
    }
   ],
   "source": [
    "obj = kt.Objective(\"val_loss\", \"min\")\n",
    "\n",
    "tuner = kt.BayesianOptimization(\n",
    "    hypermodel=build_model,\n",
    "    objective=obj,\n",
    "    max_trials=10,\n",
    "    executions_per_trial=1,\n",
    "    overwrite=False,\n",
    "    directory='./tuner_results/',\n",
    "    project_name='MV_Focal_Loss',\n",
    ")\n",
    "\n",
    "tuner.search_space_summary()"
   ]
  },
  {
   "cell_type": "code",
   "execution_count": 10,
   "id": "fc4f8022-21bc-4702-a364-3086f938e102",
   "metadata": {},
   "outputs": [
    {
     "name": "stdout",
     "output_type": "stream",
     "text": [
      "INFO:tensorflow:Oracle triggered exit\n"
     ]
    }
   ],
   "source": [
    "stop_early = tf.keras.callbacks.EarlyStopping(monitor='val_loss', patience=4)\n",
    "\n",
    "# This call is for images using a generator/sequence\n",
    "tuner.search(train_seq, validation_data=valid_seq, steps_per_epoch=train_steps,\n",
    "    validation_steps=valid_steps, epochs=epochs, callbacks=[stop_early])\n"
   ]
  },
  {
   "cell_type": "code",
   "execution_count": 11,
   "id": "d77e836d-9d08-416f-9a33-3ee5bddc01f2",
   "metadata": {},
   "outputs": [
    {
     "name": "stdout",
     "output_type": "stream",
     "text": [
      "Optimal value for gamma: 4.5\n",
      "Optimal values of alpha: [0.04, 0.42000000000000004, 0.92]\n"
     ]
    }
   ],
   "source": [
    "# Get the optimal hyperparameters\n",
    "best_hps=tuner.get_best_hyperparameters(num_trials=1)[0]\n",
    "alpha = [best_hps.get('alpha1'), best_hps.get('alpha2'), best_hps.get('alpha3')]\n",
    "\n",
    "print(f\"Optimal value for gamma: {best_hps.get('gamma')}\")\n",
    "print(f\"Optimal values of alpha: {alpha}\")"
   ]
  },
  {
   "cell_type": "code",
   "execution_count": 12,
   "id": "8c421a93-1a14-4aa0-9d11-bc25d89a7130",
   "metadata": {},
   "outputs": [
    {
     "name": "stdout",
     "output_type": "stream",
     "text": [
      "Model: \"Transfer_VGG16\"\n",
      "_________________________________________________________________\n",
      " Layer (type)                Output Shape              Param #   \n",
      "=================================================================\n",
      " input_1 (InputLayer)        [(None, 224, 224, 3)]     0         \n",
      "                                                                 \n",
      " random_flip (RandomFlip)    (None, 224, 224, 3)       0         \n",
      "                                                                 \n",
      " random_rotation (RandomRot  (None, 224, 224, 3)       0         \n",
      " ation)                                                          \n",
      "                                                                 \n",
      " block1_conv1 (Conv2D)       (None, 224, 224, 64)      1792      \n",
      "                                                                 \n",
      " block1_conv2 (Conv2D)       (None, 224, 224, 64)      36928     \n",
      "                                                                 \n",
      " block1_pool (MaxPooling2D)  (None, 112, 112, 64)      0         \n",
      "                                                                 \n",
      " block2_conv1 (Conv2D)       (None, 112, 112, 128)     73856     \n",
      "                                                                 \n",
      " block2_conv2 (Conv2D)       (None, 112, 112, 128)     147584    \n",
      "                                                                 \n",
      " block2_pool (MaxPooling2D)  (None, 56, 56, 128)       0         \n",
      "                                                                 \n",
      " block3_conv1 (Conv2D)       (None, 56, 56, 256)       295168    \n",
      "                                                                 \n",
      " block3_conv2 (Conv2D)       (None, 56, 56, 256)       590080    \n",
      "                                                                 \n",
      " block3_conv3 (Conv2D)       (None, 56, 56, 256)       590080    \n",
      "                                                                 \n",
      " block3_pool (MaxPooling2D)  (None, 28, 28, 256)       0         \n",
      "                                                                 \n",
      " block4_conv1 (Conv2D)       (None, 28, 28, 512)       1180160   \n",
      "                                                                 \n",
      " block4_conv2 (Conv2D)       (None, 28, 28, 512)       2359808   \n",
      "                                                                 \n",
      " block4_conv3 (Conv2D)       (None, 28, 28, 512)       2359808   \n",
      "                                                                 \n",
      " block4_pool (MaxPooling2D)  (None, 14, 14, 512)       0         \n",
      "                                                                 \n",
      " block5_conv1 (Conv2D)       (None, 14, 14, 512)       2359808   \n",
      "                                                                 \n",
      " block5_conv2 (Conv2D)       (None, 14, 14, 512)       2359808   \n",
      "                                                                 \n",
      " block5_conv3 (Conv2D)       (None, 14, 14, 512)       2359808   \n",
      "                                                                 \n",
      " block5_pool (MaxPooling2D)  (None, 7, 7, 512)         0         \n",
      "                                                                 \n",
      " flatten (Flatten)           (None, 25088)             0         \n",
      "                                                                 \n",
      " dense (Dense)               (None, 4096)              102764544 \n",
      "                                                                 \n",
      " dropout (Dropout)           (None, 4096)              0         \n",
      "                                                                 \n",
      " dense_1 (Dense)             (None, 3)                 12291     \n",
      "                                                                 \n",
      "=================================================================\n",
      "Total params: 117491523 (448.19 MB)\n",
      "Trainable params: 102776835 (392.06 MB)\n",
      "Non-trainable params: 14714688 (56.13 MB)\n",
      "_________________________________________________________________\n"
     ]
    }
   ],
   "source": [
    "model = tuner.hypermodel.build(best_hps)\n",
    "model.summary()"
   ]
  },
  {
   "cell_type": "code",
   "execution_count": 13,
   "id": "cfa05dba-8e58-49bf-a17b-b1ea96440a30",
   "metadata": {},
   "outputs": [
    {
     "name": "stdout",
     "output_type": "stream",
     "text": [
      "Results summary\n",
      "Results in ./tuner_results/MV_Focal_Loss\n",
      "Showing 10 best trials\n",
      "Objective(name=\"val_loss\", direction=\"min\")\n",
      "\n",
      "Trial 01 summary\n",
      "Hyperparameters:\n",
      "gamma: 4.5\n",
      "alpha1: 0.04\n",
      "alpha2: 0.42000000000000004\n",
      "alpha3: 0.92\n",
      "Score: 0.01532684825360775\n",
      "\n",
      "Trial 02 summary\n",
      "Hyperparameters:\n",
      "gamma: 1.0\n",
      "alpha1: 0.54\n",
      "alpha2: 0.03\n",
      "alpha3: 0.060000000000000005\n",
      "Score: 0.022714665159583092\n",
      "\n",
      "Trial 07 summary\n",
      "Hyperparameters:\n",
      "gamma: 2.5\n",
      "alpha1: 0.74\n",
      "alpha2: 0.05\n",
      "alpha3: 0.22\n",
      "Score: 0.02298690192401409\n",
      "\n",
      "Trial 06 summary\n",
      "Hyperparameters:\n",
      "gamma: 2.5\n",
      "alpha1: 0.46\n",
      "alpha2: 0.52\n",
      "alpha3: 0.05\n",
      "Score: 0.036823857575654984\n",
      "\n",
      "Trial 08 summary\n",
      "Hyperparameters:\n",
      "gamma: 3.5\n",
      "alpha1: 0.93\n",
      "alpha2: 0.33\n",
      "alpha3: 0.24000000000000002\n",
      "Score: 0.03704545646905899\n",
      "\n",
      "Trial 05 summary\n",
      "Hyperparameters:\n",
      "gamma: 4.0\n",
      "alpha1: 0.44\n",
      "alpha2: 0.47000000000000003\n",
      "alpha3: 0.8400000000000001\n",
      "Score: 0.041692160069942474\n",
      "\n",
      "Trial 00 summary\n",
      "Hyperparameters:\n",
      "gamma: 4.0\n",
      "alpha1: 0.65\n",
      "alpha2: 0.86\n",
      "alpha3: 0.74\n",
      "Score: 0.050143077969551086\n",
      "\n",
      "Trial 04 summary\n",
      "Hyperparameters:\n",
      "gamma: 2.0\n",
      "alpha1: 0.39\n",
      "alpha2: 0.29000000000000004\n",
      "alpha3: 0.68\n",
      "Score: 0.06323250383138657\n",
      "\n",
      "Trial 03 summary\n",
      "Hyperparameters:\n",
      "gamma: 2.0\n",
      "alpha1: 0.53\n",
      "alpha2: 0.92\n",
      "alpha3: 0.06999999999999999\n",
      "Score: 0.0683150440454483\n",
      "\n",
      "Trial 09 summary\n",
      "Hyperparameters:\n",
      "gamma: 2.5\n",
      "alpha1: 0.5800000000000001\n",
      "alpha2: 0.66\n",
      "alpha3: 0.65\n",
      "Score: 0.07714260369539261\n"
     ]
    }
   ],
   "source": [
    "tuner.results_summary()"
   ]
  },
  {
   "cell_type": "code",
   "execution_count": 14,
   "id": "07307a7c-f9a1-4a62-975d-b6cb29d48195",
   "metadata": {},
   "outputs": [
    {
     "name": "stdout",
     "output_type": "stream",
     "text": [
      "Epoch 1/10\n"
     ]
    },
    {
     "name": "stderr",
     "output_type": "stream",
     "text": [
      "2023-10-19 09:12:55.223198: I tensorflow/compiler/xla/stream_executor/cuda/cuda_dnn.cc:432] Loaded cuDNN version 8600\n",
      "2023-10-19 09:12:56.563256: I tensorflow/tsl/platform/default/subprocess.cc:304] Start cannot spawn child process: No such file or directory\n",
      "2023-10-19 09:12:57.274425: I tensorflow/compiler/xla/stream_executor/cuda/cuda_blas.cc:606] TensorFloat-32 will be used for the matrix multiplication. This will only be logged once.\n",
      "2023-10-19 09:12:57.296264: I tensorflow/compiler/xla/service/service.cc:168] XLA service 0x7f3cbc3ace80 initialized for platform CUDA (this does not guarantee that XLA will be used). Devices:\n",
      "2023-10-19 09:12:57.296345: I tensorflow/compiler/xla/service/service.cc:176]   StreamExecutor device (0): NVIDIA GeForce RTX 3060, Compute Capability 8.6\n",
      "2023-10-19 09:12:57.326756: I tensorflow/compiler/mlir/tensorflow/utils/dump_mlir_util.cc:255] disabling MLIR crash reproducer, set env var `MLIR_CRASH_REPRODUCER_DIRECTORY` to enable.\n",
      "2023-10-19 09:12:57.518254: I tensorflow/tsl/platform/default/subprocess.cc:304] Start cannot spawn child process: No such file or directory\n",
      "2023-10-19 09:12:57.575828: I ./tensorflow/compiler/jit/device_compiler.h:186] Compiled cluster using XLA!  This line is logged at most once for the lifetime of the process.\n"
     ]
    },
    {
     "name": "stdout",
     "output_type": "stream",
     "text": [
      "9405/9405 [==============================] - 488s 51ms/step - loss: 0.0576 - accuracy: 0.4946 - val_loss: 0.0485 - val_accuracy: 0.2658\n",
      "Epoch 2/10\n",
      "9405/9405 [==============================] - 488s 52ms/step - loss: 0.0196 - accuracy: 0.4440 - val_loss: 0.0174 - val_accuracy: 0.3461\n",
      "Epoch 3/10\n",
      "9405/9405 [==============================] - 483s 51ms/step - loss: 0.0187 - accuracy: 0.4462 - val_loss: 0.0203 - val_accuracy: 0.3165\n",
      "Epoch 4/10\n",
      "9405/9405 [==============================] - 483s 51ms/step - loss: 0.0188 - accuracy: 0.4453 - val_loss: 0.0181 - val_accuracy: 0.3339\n",
      "Epoch 5/10\n",
      "9405/9405 [==============================] - 480s 51ms/step - loss: 0.0183 - accuracy: 0.4499 - val_loss: 0.0183 - val_accuracy: 0.2975\n",
      "Epoch 6/10\n",
      "9405/9405 [==============================] - 482s 51ms/step - loss: 0.0188 - accuracy: 0.4478 - val_loss: 0.0205 - val_accuracy: 0.3048\n"
     ]
    }
   ],
   "source": [
    "stop_early = tf.keras.callbacks.EarlyStopping(monitor='val_loss', patience=4)\n",
    "\n",
    "X_train, y_train = shuffle(ids, labels, random_state=42)\n",
    "\n",
    "ids_seq = DataSeq(X_train, y_train)\n",
    "\n",
    "train_steps = len(X_train) // batch_size\n",
    "test_steps = len(test_ids) // batch_size\n",
    "\n",
    "history = model.fit(ids_seq, validation_data=test_seq, steps_per_epoch=train_steps,\n",
    " validation_steps=test_steps, epochs=10, callbacks=[stop_early])"
   ]
  },
  {
   "cell_type": "code",
   "execution_count": 15,
   "id": "5c9e3350-be1d-4a20-b990-525175da4bbf",
   "metadata": {},
   "outputs": [
    {
     "data": {
      "image/png": "[encoded data removed]",
      "text/plain": [
       "<Figure size 960x640 with 1 Axes>"
      ]
     },
     "metadata": {},
     "output_type": "display_data"
    }
   ],
   "source": [
    "plt.figure(figsize=(6, 4), dpi=160)\n",
    "plt.plot(history.history[\"loss\"], label=\"train\")\n",
    "plt.plot(history.history[\"val_loss\"], label=\"validation\")\n",
    "plt.legend()\n",
    "plt.show()"
   ]
  },
  {
   "cell_type": "code",
   "execution_count": 16,
   "id": "03705a66-6180-47d8-ae19-1cdfcd2df0b0",
   "metadata": {},
   "outputs": [
    {
     "name": "stdout",
     "output_type": "stream",
     "text": [
      "546/546 [==============================] - 18s 33ms/step\n",
      "              precision    recall  f1-score   support\n",
      "\n",
      "           0       0.67      0.00      0.00      2692\n",
      "           1       0.28      1.00      0.44      1196\n",
      "           2       1.00      0.28      0.43       476\n",
      "\n",
      "    accuracy                           0.30      4364\n",
      "   macro avg       0.65      0.43      0.29      4364\n",
      "weighted avg       0.60      0.30      0.17      4364\n",
      "\n"
     ]
    }
   ],
   "source": [
    "y_pred = model.predict(test_seq)\n",
    "y_pred = np.argmax(y_pred,axis=1)\n",
    "print(classification_report(np.argmax(test_labels, axis=1), y_pred))"
   ]
  },
  {
   "cell_type": "code",
   "execution_count": 17,
   "id": "51237957-a06f-40b6-8c6b-74e70901db44",
   "metadata": {},
   "outputs": [],
   "source": [
    " model.save_weights('./bcss_aug_weights_mv_focal_loss.h5')"
   ]
  },
  {
   "cell_type": "code",
   "execution_count": null,
   "id": "2c4cd2b9-d1c9-458a-b750-c9ac81165f7a",
   "metadata": {},
   "outputs": [],
   "source": []
  }
 ],
 "metadata": {
  "kernelspec": {
   "display_name": "Python 3 (ipykernel)",
   "language": "python",
   "name": "python3"
  },
  "language_info": {
   "codemirror_mode": {
    "name": "ipython",
    "version": 3
   },
   "file_extension": ".py",
   "mimetype": "text/x-python",
   "name": "python",
   "nbconvert_exporter": "python",
   "pygments_lexer": "ipython3",
   "version": "3.10.12"
  }
 },
 "nbformat": 4,
 "nbformat_minor": 5
}
