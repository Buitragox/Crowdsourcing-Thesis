{
 "cells": [
  {
   "cell_type": "code",
   "execution_count": 68,
   "id": "e27801ae-b65f-4063-af55-368e7bd2002d",
   "metadata": {},
   "outputs": [],
   "source": [
    "import os\n",
    "from utils import DataSeq, load_pickle_mv, load_ids\n",
    "\n",
    "import numpy as np\n",
    "import pandas as pd\n",
    "import skimage.io as io\n",
    "\n",
    "from matplotlib import pyplot as plt\n",
    "\n",
    "from sklearn.metrics import classification_report\n",
    "\n",
    "import tensorflow as tf\n",
    "from tensorflow.keras.models import Model\n",
    "from tensorflow.keras.metrics import F1Score\n",
    "from tensorflow.keras.layers import Input, Flatten, Dense, Dropout\n",
    "from tensorflow.keras.losses import Loss\n",
    "\n",
    "from sklearn.utils import shuffle\n",
    "\n",
    "import keras_tuner as kt\n",
    "\n",
    "os.environ[\"TF_CPP_MIN_LOG_LEVEL\"] = \"3\""
   ]
  },
  {
   "cell_type": "code",
   "execution_count": 69,
   "id": "bd51cb8e-8214-4b9d-a043-a80dd78422dc",
   "metadata": {},
   "outputs": [],
   "source": [
    "pkl_path = \"./mv.pkl\"\n",
    "images_path = \"./Train_non_experts_simple/\"\n",
    "test_path = \"./Test/\"\n",
    "batch_size = 8\n",
    "epochs = 10"
   ]
  },
  {
   "cell_type": "code",
   "execution_count": 70,
   "id": "4038b00e-f94e-4405-85c7-aa5a0e5c3722",
   "metadata": {},
   "outputs": [
    {
     "name": "stdout",
     "output_type": "stream",
     "text": [
      "(75243,) (75243, 3)\n",
      "(4364,) (4364, 3)\n"
     ]
    }
   ],
   "source": [
    "ids, labels = load_pickle_mv(pkl_path, images_path)\n",
    "ids, labels = shuffle(ids, labels, random_state=42)\n",
    "print(ids.shape, labels.shape)\n",
    "\n",
    "test_ids, test_labels = load_ids(test_path)\n",
    "test_ids, test_labels = shuffle(test_ids, test_labels, random_state=42)\n",
    "print(test_ids.shape, test_labels.shape)\n"
   ]
  },
  {
   "cell_type": "code",
   "execution_count": 71,
   "id": "84c701e3-9705-4f86-b52e-fd9196b5fa7e",
   "metadata": {},
   "outputs": [
    {
     "data": {
      "text/plain": [
       "array(['./Train_non_experts_simple/2/TCGA-EW-A1PH-DX1_xmin3455_ymin52049_A1PH_EW_x_ini_804_y_ini_3886.png',\n",
       "       './Train_non_experts_simple/2/TCGA-AN-A0AT-DX1_xmin31171_ymin35756_A0AT_AN_x_ini_2144_y_ini_3350.png',\n",
       "       './Train_non_experts_simple/2/TCGA-GM-A2DB-DX1_xmin50586_ymin43110_A2DB_GM_x_ini_8308_y_ini_5360.png',\n",
       "       ...,\n",
       "       './Train_non_experts_simple/2/TCGA-D8-A1XQ-DX1_xmin61261_ymin33317_A1XQ_D8_x_ini_1742_y_ini_3886.png',\n",
       "       './Train_non_experts_simple/1/TCGA-OL-A5D6-DX1_xmin134495_ymin27944_A5D6_OL_x_ini_2010_y_ini_3752.png',\n",
       "       './Train_non_experts_simple/1/TCGA-AR-A0TU-DX1_xmin88352_ymin23098_A0TU_AR_x_ini_2010_y_ini_536.png'],\n",
       "      dtype='<U100')"
      ]
     },
     "execution_count": 71,
     "metadata": {},
     "output_type": "execute_result"
    }
   ],
   "source": [
    "ids"
   ]
  },
  {
   "cell_type": "code",
   "execution_count": 72,
   "id": "6f81776d-fd1e-44c4-a2a6-62f89adae5a2",
   "metadata": {},
   "outputs": [],
   "source": [
    "# Loading images with generator\n",
    "\n",
    "train_seq = DataSeq(ids, labels)\n",
    "test_seq = DataSeq(test_ids, test_labels)\n",
    "\n",
    "train_steps = len(ids) // batch_size\n",
    "test_steps = len(test_ids) // batch_size"
   ]
  },
  {
   "cell_type": "code",
   "execution_count": 73,
   "id": "6ed5dcc3-9a7b-453d-8ef9-196f64cf5458",
   "metadata": {},
   "outputs": [],
   "source": [
    "# X_train, X_valid, y_train, y_valid = train_test_split(ids, labels, test_size=0.2, random_state=42)\n",
    "\n",
    "# train_seq = DataSeq(X_train, y_train)\n",
    "# test_seq = DataSeq(X_valid, y_valid)\n",
    "\n",
    "# train_steps = len(X_train) // batch_size\n",
    "# test_steps = len(X_valid) // batch_size"
   ]
  },
  {
   "cell_type": "markdown",
   "id": "939e8cc0-e1d4-4f4d-9da8-580b07663f36",
   "metadata": {},
   "source": [
    "# Hyperparameter Tuning"
   ]
  },
  {
   "cell_type": "code",
   "execution_count": 74,
   "id": "d0d0ef78-238e-4720-bb29-46617f2269ba",
   "metadata": {},
   "outputs": [],
   "source": [
    "def build_model():\n",
    "    input_layer = Input(shape=(224, 224, 3))\n",
    "\n",
    "    data_augmentation = tf.keras.Sequential([\n",
    "        input_layer,\n",
    "        tf.keras.layers.RandomFlip(\"horizontal_and_vertical\"),\n",
    "        tf.keras.layers.RandomRotation(0.15),\n",
    "    ])\n",
    "    \n",
    "    vgg = tf.keras.applications.VGG16(weights=None, include_top=False, input_tensor=data_augmentation.output)\n",
    "    vgg.load_weights('./vgg16_weights_tf_dim_ordering_tf_kernels_notop.h5')\n",
    "    vgg.trainable = False\n",
    "\n",
    "    model = vgg.output\n",
    "    model = Flatten()(model)\n",
    "    model = Dense(4096, activation='relu')(model)\n",
    "    model = Dropout(0.25)(model)\n",
    "\n",
    "    model = Dense(3, activation='softmax')(model)\n",
    "\n",
    "    model = Model(input_layer, model, name=\"Transfer_VGG16\")\n",
    "    \n",
    "    model.compile(optimizer=\"adam\", loss=\"categorical_crossentropy\", metrics=[\"accuracy\"])\n",
    "    return model"
   ]
  },
  {
   "cell_type": "code",
   "execution_count": 76,
   "id": "05f58a4f-3bb0-45da-95ce-800a655511be",
   "metadata": {},
   "outputs": [
    {
     "name": "stdout",
     "output_type": "stream",
     "text": [
      "Epoch 1/10\n",
      "9405/9405 [==============================] - 476s 51ms/step - loss: 0.6046 - accuracy: 0.7682 - val_loss: 0.5406 - val_accuracy: 0.7856\n",
      "Epoch 2/10\n",
      "9405/9405 [==============================] - 475s 50ms/step - loss: 0.5160 - accuracy: 0.7873 - val_loss: 1.4883 - val_accuracy: 0.3287\n",
      "Epoch 3/10\n",
      "9405/9405 [==============================] - 477s 51ms/step - loss: 0.5053 - accuracy: 0.7946 - val_loss: 0.5507 - val_accuracy: 0.7968\n",
      "Epoch 4/10\n",
      "9405/9405 [==============================] - 475s 51ms/step - loss: 0.4974 - accuracy: 0.7974 - val_loss: 0.5358 - val_accuracy: 0.8009\n",
      "Epoch 5/10\n",
      "9405/9405 [==============================] - 476s 51ms/step - loss: 0.4894 - accuracy: 0.8000 - val_loss: 0.5064 - val_accuracy: 0.8149\n",
      "Epoch 6/10\n",
      "9405/9405 [==============================] - 473s 50ms/step - loss: 0.4849 - accuracy: 0.8015 - val_loss: 0.5214 - val_accuracy: 0.8156\n",
      "Epoch 7/10\n",
      "9405/9405 [==============================] - 475s 51ms/step - loss: 0.4830 - accuracy: 0.8035 - val_loss: 0.5170 - val_accuracy: 0.8071\n",
      "Epoch 8/10\n",
      "9405/9405 [==============================] - 475s 50ms/step - loss: 0.4781 - accuracy: 0.8064 - val_loss: 0.4839 - val_accuracy: 0.8280\n",
      "Epoch 9/10\n",
      "9405/9405 [==============================] - 475s 51ms/step - loss: 0.4802 - accuracy: 0.8045 - val_loss: 0.4658 - val_accuracy: 0.8337\n",
      "Epoch 10/10\n",
      "9405/9405 [==============================] - 481s 51ms/step - loss: 0.4743 - accuracy: 0.8082 - val_loss: 0.4718 - val_accuracy: 0.8273\n"
     ]
    }
   ],
   "source": [
    "model = build_model()\n",
    "stop_early = tf.keras.callbacks.EarlyStopping(monitor='val_loss', patience=3)\n",
    "history = model.fit(train_seq, validation_data=test_seq, steps_per_epoch=train_steps,\n",
    "    validation_steps=test_steps, epochs=10, callbacks=[stop_early])"
   ]
  },
  {
   "cell_type": "code",
   "execution_count": 77,
   "id": "2dd6ae34-774e-45e1-ad1c-5f771f41ab61",
   "metadata": {},
   "outputs": [
    {
     "data": {
      "image/png": "[encoded data removed]",
      "text/plain": [
       "<Figure size 960x640 with 1 Axes>"
      ]
     },
     "metadata": {},
     "output_type": "display_data"
    }
   ],
   "source": [
    "plt.figure(figsize=(6, 4), dpi=160)\n",
    "plt.plot(history.history[\"loss\"], label=\"train\")\n",
    "plt.plot(history.history[\"val_loss\"], label=\"validation\")\n",
    "plt.legend()\n",
    "plt.show()"
   ]
  },
  {
   "cell_type": "code",
   "execution_count": 78,
   "id": "b2921043-b063-4e94-9b12-af5ee4eb40be",
   "metadata": {},
   "outputs": [
    {
     "name": "stdout",
     "output_type": "stream",
     "text": [
      "546/546 [==============================] - 18s 33ms/step\n",
      "              precision    recall  f1-score   support\n",
      "\n",
      "           0       0.84      0.93      0.88      2692\n",
      "           1       0.78      0.72      0.75      1196\n",
      "           2       0.90      0.53      0.66       476\n",
      "\n",
      "    accuracy                           0.83      4364\n",
      "   macro avg       0.84      0.72      0.76      4364\n",
      "weighted avg       0.83      0.83      0.82      4364\n",
      "\n"
     ]
    }
   ],
   "source": [
    "y_pred = model.predict(test_seq)\n",
    "y_pred = np.argmax(y_pred,axis=1)\n",
    "print(classification_report(np.argmax(test_labels, axis=1), y_pred))"
   ]
  },
  {
   "cell_type": "code",
   "execution_count": 79,
   "id": "0771990e-fa85-4fd7-9dac-9d3c0017e04e",
   "metadata": {},
   "outputs": [],
   "source": [
    " model.save_weights('./bcss_aug_weights_mv_cce.h5')"
   ]
  },
  {
   "cell_type": "code",
   "execution_count": null,
   "id": "5e286e55-2a01-4a34-8a3f-e216736106cc",
   "metadata": {},
   "outputs": [],
   "source": []
  }
 ],
 "metadata": {
  "kernelspec": {
   "display_name": "Python 3 (ipykernel)",
   "language": "python",
   "name": "python3"
  },
  "language_info": {
   "codemirror_mode": {
    "name": "ipython",
    "version": 3
   },
   "file_extension": ".py",
   "mimetype": "text/x-python",
   "name": "python",
   "nbconvert_exporter": "python",
   "pygments_lexer": "ipython3",
   "version": "3.10.12"
  }
 },
 "nbformat": 4,
 "nbformat_minor": 5
}
