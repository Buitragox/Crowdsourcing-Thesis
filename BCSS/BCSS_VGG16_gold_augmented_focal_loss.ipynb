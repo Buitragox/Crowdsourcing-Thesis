{
 "cells": [
  {
   "cell_type": "code",
   "execution_count": 17,
   "id": "a36c1c41-1ed4-4c43-9b75-c5681b3d21a5",
   "metadata": {},
   "outputs": [],
   "source": [
    "import os\n",
    "from utils import DataSeq, load_ids\n",
    "\n",
    "import numpy as np\n",
    "import pandas as pd\n",
    "import skimage.io as io\n",
    "\n",
    "from matplotlib import pyplot as plt\n",
    "\n",
    "from sklearn.model_selection import train_test_split\n",
    "from sklearn.metrics import classification_report\n",
    "\n",
    "import tensorflow as tf\n",
    "from tensorflow.keras.models import Model\n",
    "from tensorflow.keras.metrics import F1Score\n",
    "from tensorflow.keras.layers import Input, Flatten, Dense, Dropout\n",
    "from tensorflow.keras.losses import Loss\n",
    "\n",
    "import keras_tuner as kt\n",
    "\n",
    "from imblearn.over_sampling import RandomOverSampler\n",
    "\n",
    "os.environ[\"TF_CPP_MIN_LOG_LEVEL\"] = \"3\""
   ]
  },
  {
   "cell_type": "code",
   "execution_count": 18,
   "id": "56fd8a7c-4928-440e-be42-3808426bba1a",
   "metadata": {},
   "outputs": [],
   "source": [
    "path = \"./Train_non_experts_simple/\"\n",
    "batch_size = 8\n",
    "epochs = 10"
   ]
  },
  {
   "cell_type": "code",
   "execution_count": 19,
   "id": "3875eda3-f9ba-44e5-8436-0fa1c6b6fcdd",
   "metadata": {},
   "outputs": [
    {
     "name": "stdout",
     "output_type": "stream",
     "text": [
      "(75243,) (75243, 3)\n",
      "(60194, 3) (15049, 3)\n"
     ]
    }
   ],
   "source": [
    "ids, labels = load_ids(path)\n",
    "print(ids.shape, labels.shape)\n",
    "X_train, X_valid, y_train, y_valid = train_test_split(ids, labels, test_size=0.2, random_state=42)\n",
    "print(y_train.shape, y_valid.shape)"
   ]
  },
  {
   "cell_type": "code",
   "execution_count": 7,
   "id": "35d32dbc-27aa-40da-a32b-3888e9e3b6f2",
   "metadata": {},
   "outputs": [],
   "source": [
    "# Loading images with generator\n",
    "\n",
    "train_seq = DataSeq(X_train, y_train)\n",
    "valid_seq = DataSeq(X_valid, y_valid)\n",
    "\n",
    "train_steps = len(X_train) // batch_size\n",
    "valid_steps = len(X_valid) // batch_size"
   ]
  },
  {
   "cell_type": "code",
   "execution_count": 20,
   "id": "082db008-0f5e-4e1e-870f-5106185d3de3",
   "metadata": {},
   "outputs": [],
   "source": [
    "# Loading images in numpy array instead of generator\n",
    "\n",
    "# WARNING: USES A LOT OF RAM!!!\n",
    "\n",
    "X_train_list = np.array([(io.imread(image_path) / 255.0) for image_path in X_train[:2000]])\n",
    "X_valid_list = np.array([(io.imread(image_path) / 255.0) for image_path in X_valid[:250]])\n",
    "y_train = np.array(y_train[:2000])\n",
    "y_valid = np.array(y_valid[:250])"
   ]
  },
  {
   "cell_type": "code",
   "execution_count": 21,
   "id": "3a0c64f3-e1c3-46e7-bbaf-ba397e810ebc",
   "metadata": {},
   "outputs": [
    {
     "name": "stdout",
     "output_type": "stream",
     "text": [
      "(2000, 224, 224, 3) (250, 224, 224, 3)\n",
      "(2000, 3) (250, 3)\n",
      "<class 'numpy.ndarray'>\n"
     ]
    }
   ],
   "source": [
    "print(X_train_list.shape, X_valid_list.shape)\n",
    "print(y_train.shape, y_valid.shape)\n",
    "print(type(X_train_list))"
   ]
  },
  {
   "cell_type": "markdown",
   "id": "56c56c4f-9313-4a3b-bc12-190de503522e",
   "metadata": {},
   "source": [
    "# Focal loss"
   ]
  },
  {
   "cell_type": "code",
   "execution_count": 8,
   "id": "af886e8e-89d2-490a-8ff0-008cad02caa5",
   "metadata": {},
   "outputs": [],
   "source": [
    "# This function receives onehot encoded labels\n",
    "def calculate_weigths(y):\n",
    "    y = np.argmax(y, axis=-1)\n",
    "    counts = np.unique(y, return_counts=True)[1]\n",
    "    weights = 1 / (counts / len(y))\n",
    "    sum_weights = np.sum(weights)\n",
    "    return weights / sum_weights\n",
    "\n",
    "class FocalLoss(Loss):\n",
    "    def __init__(self, gamma=2.0, alpha=None, num_classes=None):\n",
    "        super().__init__()\n",
    "        self.gamma = gamma\n",
    "        if num_classes is None:\n",
    "            raise ValueError(\"The 'num_classes' parameter must be specified.\")\n",
    "        if alpha is None:\n",
    "            alpha = [1 for _ in range(num_classes)]\n",
    "        elif len(alpha) != num_classes:\n",
    "            raise ValueError(\"The length of 'alpha' must be equal to 'num_classes'.\")\n",
    "        self.alpha = tf.convert_to_tensor(alpha, dtype=tf.float32)\n",
    "\n",
    "    def call(self, y_true, y_pred):\n",
    "        if y_true.shape != y_pred.shape:\n",
    "            raise ValueError(f\"Invalid shape: y_true {y_true.shape} != y_pred {y_pred.shape}\")\n",
    "        y_true = tf.cast(y_true, dtype=tf.float32)\n",
    "        y_pred = tf.clip_by_value(y_pred, clip_value_min= 1e-6, clip_value_max=1-1e-6)\n",
    "\n",
    "        entropy = -tf.math.log(y_pred) * y_true\n",
    "\n",
    "        weight = tf.math.pow(1.0 - y_pred, self.gamma)\n",
    "        loss = self.alpha * weight * entropy\n",
    "        return tf.reduce_mean(tf.reduce_sum(loss, axis=1))\n"
   ]
  },
  {
   "cell_type": "markdown",
   "id": "7e50d4e6-12fd-4e65-91b3-0e8dcdffc893",
   "metadata": {},
   "source": [
    "# Hyperparameter Tuning"
   ]
  },
  {
   "cell_type": "code",
   "execution_count": 14,
   "id": "13086354-d7dc-4b09-bff5-ca5e8bccf984",
   "metadata": {},
   "outputs": [],
   "source": [
    "WEIGTHS = calculate_weigths(labels)\n",
    "\n",
    "def build_transfer_vgg_aug(hp):\n",
    "    input_layer = Input(shape=(224, 224, 3))\n",
    "\n",
    "    data_augmentation = tf.keras.Sequential([\n",
    "        input_layer,\n",
    "        tf.keras.layers.RandomFlip(\"horizontal_and_vertical\"),\n",
    "        tf.keras.layers.RandomRotation(0.15),\n",
    "    ])\n",
    "    \n",
    "    vgg = tf.keras.applications.VGG16(weights=None, include_top=False, input_tensor=data_augmentation.output)\n",
    "    vgg.load_weights('./vgg16_weights_tf_dim_ordering_tf_kernels_notop.h5')\n",
    "    vgg.trainable = False\n",
    "\n",
    "    model = vgg.output\n",
    "    model = Flatten()(model)\n",
    "    model = Dense(4096, activation='relu')(model)\n",
    "    model = Dropout(0.25)(model)\n",
    "\n",
    "    model = Dense(3, activation='softmax')(model)\n",
    "\n",
    "    gamma = hp.Float(\"gamma\", min_value=1.0, max_value=5.0, step=0.5)\n",
    "    model = Model(input_layer, model, name=\"Transfer_VGG16\")\n",
    "    \n",
    "    #model.compile(optimizer=\"adam\", loss=\"categorical_crossentropy\", metrics=[\"accuracy\"])\n",
    "    model.compile(optimizer=\"adam\", loss=FocalLoss(gamma, WEIGTHS), metrics=[\"accuracy\"])\n",
    "    return model"
   ]
  },
  {
   "cell_type": "code",
   "execution_count": 15,
   "id": "974520cb-4146-4399-99d2-86c0bcc6f7e4",
   "metadata": {},
   "outputs": [
    {
     "name": "stdout",
     "output_type": "stream",
     "text": [
      "Search space summary\n",
      "Default search space size: 1\n",
      "gamma (Float)\n",
      "{'default': 1.0, 'conditions': [], 'min_value': 1.0, 'max_value': 5.0, 'step': 0.5, 'sampling': 'linear'}\n"
     ]
    }
   ],
   "source": [
    "obj = kt.Objective(\"val_loss\", \"min\")\n",
    "\n",
    "tuner = kt.BayesianOptimization(\n",
    "    hypermodel=build_transfer_vgg_aug,\n",
    "    objective=obj,\n",
    "    max_trials=10,\n",
    "    executions_per_trial=1,\n",
    "    overwrite=True,\n",
    "    directory='./tuner_results/',\n",
    "    project_name='Bayesian_Focal_loss',\n",
    ")\n",
    "\n",
    "tuner.search_space_summary()"
   ]
  },
  {
   "cell_type": "code",
   "execution_count": null,
   "id": "fc4f8022-21bc-4702-a364-3086f938e102",
   "metadata": {},
   "outputs": [
    {
     "name": "stdout",
     "output_type": "stream",
     "text": [
      "\n",
      "Search: Running Trial #1\n",
      "\n",
      "Value             |Best Value So Far |Hyperparameter\n",
      "1.5               |1.5               |gamma\n",
      "\n",
      "Epoch 1/10\n",
      "Tensor(\"IteratorGetNext:1\", shape=(None, 3), dtype=float32) Tensor(\"Transfer_VGG16/dense_1/Softmax:0\", shape=(None, 3), dtype=float32)\n",
      "Tensor(\"IteratorGetNext:1\", shape=(None, 3), dtype=float32) Tensor(\"Transfer_VGG16/dense_1/Softmax:0\", shape=(None, 3), dtype=float32)\n",
      "63/63 [==============================] - ETA: 0s - loss: 2.2707 - accuracy: 0.3685Tensor(\"IteratorGetNext:1\", shape=(None, 3), dtype=float32) Tensor(\"Transfer_VGG16/dense_1/Softmax:0\", shape=(None, 3), dtype=float32)\n",
      "63/63 [==============================] - 13s 186ms/step - loss: 2.2707 - accuracy: 0.3685 - val_loss: 2.2874 - val_accuracy: 0.4000\n",
      "Epoch 2/10\n",
      "63/63 [==============================] - 8s 117ms/step - loss: 2.2967 - accuracy: 0.3725 - val_loss: 2.2874 - val_accuracy: 0.4000\n",
      "Epoch 3/10\n",
      "63/63 [==============================] - 7s 117ms/step - loss: 2.2967 - accuracy: 0.3725 - val_loss: 2.2874 - val_accuracy: 0.4000\n",
      "Epoch 4/10\n",
      "63/63 [==============================] - 7s 117ms/step - loss: 2.2967 - accuracy: 0.3725 - val_loss: 2.2874 - val_accuracy: 0.4000\n",
      "Epoch 5/10\n",
      "63/63 [==============================] - 8s 120ms/step - loss: 2.2967 - accuracy: 0.3725 - val_loss: 2.2874 - val_accuracy: 0.4000\n",
      "Epoch 6/10\n",
      "63/63 [==============================] - 7s 118ms/step - loss: 2.2967 - accuracy: 0.3725 - val_loss: 2.2874 - val_accuracy: 0.4000\n",
      "Epoch 7/10\n",
      "63/63 [==============================] - 7s 118ms/step - loss: 2.2967 - accuracy: 0.3725 - val_loss: 2.2874 - val_accuracy: 0.4000\n",
      "Epoch 8/10\n",
      "41/63 [==================>...........] - ETA: 2s - loss: 2.3288 - accuracy: 0.3659"
     ]
    }
   ],
   "source": [
    "stop_early = tf.keras.callbacks.EarlyStopping(monitor='val_loss', patience=4)\n",
    "\n",
    "# This call is for images using a generator/sequence\n",
    "tuner.search(train_seq, validation_data=valid_seq, steps_per_epoch=train_steps,\n",
    "    validation_steps=valid_steps, epochs=10, callbacks=[stop_early])\n",
    "\n",
    "# This call is for images in a numpy array\n",
    "# tuner.search(X_train_list, y_train, validation_data=(X_valid_list, y_valid), batch_size=32, epochs=10)"
   ]
  },
  {
   "cell_type": "code",
   "execution_count": null,
   "id": "d77e836d-9d08-416f-9a33-3ee5bddc01f2",
   "metadata": {},
   "outputs": [],
   "source": [
    "# Get the optimal hyperparameters\n",
    "best_hps=tuner.get_best_hyperparameters(num_trials=1)[0]\n",
    "\n",
    "print(f\"Optimal gamma is {best_hps.get('gamma')}\")"
   ]
  },
  {
   "cell_type": "code",
   "execution_count": 16,
   "id": "8c421a93-1a14-4aa0-9d11-bc25d89a7130",
   "metadata": {},
   "outputs": [
    {
     "name": "stdout",
     "output_type": "stream",
     "text": [
      "Model: \"Transfer_VGG16\"\n",
      "_________________________________________________________________\n",
      " Layer (type)                Output Shape              Param #   \n",
      "=================================================================\n",
      " input_2 (InputLayer)        [(None, 224, 224, 3)]     0         \n",
      "                                                                 \n",
      " random_flip_1 (RandomFlip)  (None, 224, 224, 3)       0         \n",
      "                                                                 \n",
      " random_rotation_1 (RandomR  (None, 224, 224, 3)       0         \n",
      " otation)                                                        \n",
      "                                                                 \n",
      " block1_conv1 (Conv2D)       (None, 224, 224, 64)      1792      \n",
      "                                                                 \n",
      " block1_conv2 (Conv2D)       (None, 224, 224, 64)      36928     \n",
      "                                                                 \n",
      " block1_pool (MaxPooling2D)  (None, 112, 112, 64)      0         \n",
      "                                                                 \n",
      " block2_conv1 (Conv2D)       (None, 112, 112, 128)     73856     \n",
      "                                                                 \n",
      " block2_conv2 (Conv2D)       (None, 112, 112, 128)     147584    \n",
      "                                                                 \n",
      " block2_pool (MaxPooling2D)  (None, 56, 56, 128)       0         \n",
      "                                                                 \n",
      " block3_conv1 (Conv2D)       (None, 56, 56, 256)       295168    \n",
      "                                                                 \n",
      " block3_conv2 (Conv2D)       (None, 56, 56, 256)       590080    \n",
      "                                                                 \n",
      " block3_conv3 (Conv2D)       (None, 56, 56, 256)       590080    \n",
      "                                                                 \n",
      " block3_pool (MaxPooling2D)  (None, 28, 28, 256)       0         \n",
      "                                                                 \n",
      " block4_conv1 (Conv2D)       (None, 28, 28, 512)       1180160   \n",
      "                                                                 \n",
      " block4_conv2 (Conv2D)       (None, 28, 28, 512)       2359808   \n",
      "                                                                 \n",
      " block4_conv3 (Conv2D)       (None, 28, 28, 512)       2359808   \n",
      "                                                                 \n",
      " block4_pool (MaxPooling2D)  (None, 14, 14, 512)       0         \n",
      "                                                                 \n",
      " block5_conv1 (Conv2D)       (None, 14, 14, 512)       2359808   \n",
      "                                                                 \n",
      " block5_conv2 (Conv2D)       (None, 14, 14, 512)       2359808   \n",
      "                                                                 \n",
      " block5_conv3 (Conv2D)       (None, 14, 14, 512)       2359808   \n",
      "                                                                 \n",
      " block5_pool (MaxPooling2D)  (None, 7, 7, 512)         0         \n",
      "                                                                 \n",
      " flatten_1 (Flatten)         (None, 25088)             0         \n",
      "                                                                 \n",
      " dense_2 (Dense)             (None, 2048)              51382272  \n",
      "                                                                 \n",
      " dropout_1 (Dropout)         (None, 2048)              0         \n",
      "                                                                 \n",
      " dense_3 (Dense)             (None, 3)                 6147      \n",
      "                                                                 \n",
      "=================================================================\n",
      "Total params: 66103107 (252.16 MB)\n",
      "Trainable params: 51388419 (196.03 MB)\n",
      "Non-trainable params: 14714688 (56.13 MB)\n",
      "_________________________________________________________________\n"
     ]
    }
   ],
   "source": [
    "model = tuner.hypermodel.build(best_hps)\n",
    "model.summary()"
   ]
  },
  {
   "cell_type": "code",
   "execution_count": 12,
   "id": "cfa05dba-8e58-49bf-a17b-b1ea96440a30",
   "metadata": {},
   "outputs": [
    {
     "name": "stdout",
     "output_type": "stream",
     "text": [
      "Results summary\n",
      "Results in ./tuner_results/Bayesian\n",
      "Showing 10 best trials\n",
      "Objective(name=\"val_loss\", direction=\"min\")\n",
      "\n",
      "Trial 01 summary\n",
      "Hyperparameters:\n",
      "image_rotation_factor: 0.15000000000000002\n",
      "neurons: 2048\n",
      "layers: 1\n",
      "dropout: 0.1\n",
      "Score: 0.37971675395965576\n",
      "\n",
      "Trial 02 summary\n",
      "Hyperparameters:\n",
      "image_rotation_factor: 0.15000000000000002\n",
      "neurons: 2048\n",
      "layers: 1\n",
      "dropout: 0.30000000000000004\n",
      "Score: 0.3816812336444855\n",
      "\n",
      "Trial 08 summary\n",
      "Hyperparameters:\n",
      "image_rotation_factor: 0.2\n",
      "neurons: 2048\n",
      "layers: 1\n",
      "dropout: 0.35\n",
      "Score: 0.39233091473579407\n",
      "\n",
      "Trial 05 summary\n",
      "Hyperparameters:\n",
      "image_rotation_factor: 0.5\n",
      "neurons: 2048\n",
      "layers: 1\n",
      "dropout: 0.30000000000000004\n",
      "Score: 0.3940642476081848\n",
      "\n",
      "Trial 06 summary\n",
      "Hyperparameters:\n",
      "image_rotation_factor: 0.225\n",
      "neurons: 2048\n",
      "layers: 1\n",
      "dropout: 0.30000000000000004\n",
      "Score: 0.3981710970401764\n",
      "\n",
      "Trial 04 summary\n",
      "Hyperparameters:\n",
      "image_rotation_factor: 0.475\n",
      "neurons: 1024\n",
      "layers: 2\n",
      "dropout: 0.1\n",
      "Score: 0.4033352732658386\n",
      "\n",
      "Trial 07 summary\n",
      "Hyperparameters:\n",
      "image_rotation_factor: 0.225\n",
      "neurons: 1024\n",
      "layers: 2\n",
      "dropout: 0.2\n",
      "Score: 0.4153645932674408\n",
      "\n",
      "Trial 00 summary\n",
      "Hyperparameters:\n",
      "image_rotation_factor: 0.42500000000000004\n",
      "neurons: 4096\n",
      "layers: 2\n",
      "dropout: 0.35\n",
      "Score: 0.4158581793308258\n",
      "\n",
      "Trial 09 summary\n",
      "Hyperparameters:\n",
      "image_rotation_factor: 0.2\n",
      "neurons: 4096\n",
      "layers: 2\n",
      "dropout: 0.1\n",
      "Score: 0.4372861981391907\n",
      "\n",
      "Trial 03 summary\n",
      "Hyperparameters:\n",
      "image_rotation_factor: 0.45000000000000007\n",
      "neurons: 1024\n",
      "layers: 2\n",
      "dropout: 0.4\n",
      "Score: 0.48505064845085144\n"
     ]
    }
   ],
   "source": [
    "tuner.results_summary()"
   ]
  },
  {
   "cell_type": "code",
   "execution_count": 17,
   "id": "07307a7c-f9a1-4a62-975d-b6cb29d48195",
   "metadata": {},
   "outputs": [
    {
     "name": "stdout",
     "output_type": "stream",
     "text": [
      "Epoch 1/10\n",
      "11172/11172 [==============================] - 538s 48ms/step - loss: 0.4956 - accuracy: 0.8073 - val_loss: 0.4272 - val_accuracy: 0.8226\n",
      "Epoch 2/10\n",
      "11172/11172 [==============================] - 533s 48ms/step - loss: 0.4253 - accuracy: 0.8268 - val_loss: 0.4218 - val_accuracy: 0.8323\n",
      "Epoch 3/10\n",
      "11172/11172 [==============================] - 534s 48ms/step - loss: 0.4103 - accuracy: 0.8327 - val_loss: 0.4798 - val_accuracy: 0.8173\n",
      "Epoch 4/10\n",
      "11172/11172 [==============================] - 532s 48ms/step - loss: 0.4032 - accuracy: 0.8365 - val_loss: 0.4001 - val_accuracy: 0.8457\n",
      "Epoch 5/10\n",
      "11172/11172 [==============================] - 536s 48ms/step - loss: 0.3974 - accuracy: 0.8391 - val_loss: 0.3988 - val_accuracy: 0.8347\n",
      "Epoch 6/10\n",
      "11172/11172 [==============================] - 538s 48ms/step - loss: 0.3940 - accuracy: 0.8409 - val_loss: 0.4130 - val_accuracy: 0.8300\n",
      "Epoch 7/10\n",
      "11172/11172 [==============================] - 536s 48ms/step - loss: 0.3891 - accuracy: 0.8419 - val_loss: 0.4397 - val_accuracy: 0.8224\n",
      "Epoch 8/10\n",
      "11172/11172 [==============================] - 536s 48ms/step - loss: 0.3878 - accuracy: 0.8423 - val_loss: 0.3845 - val_accuracy: 0.8346\n",
      "Epoch 9/10\n",
      "11172/11172 [==============================] - 537s 48ms/step - loss: 0.3847 - accuracy: 0.8442 - val_loss: 0.3677 - val_accuracy: 0.8430\n",
      "Epoch 10/10\n",
      "11172/11172 [==============================] - 539s 48ms/step - loss: 0.3835 - accuracy: 0.8450 - val_loss: 0.3793 - val_accuracy: 0.8452\n"
     ]
    }
   ],
   "source": [
    "stop_early = tf.keras.callbacks.EarlyStopping(monitor='val_loss', patience=5)\n",
    "\n",
    "history = model.fit(train_seq, validation_data=valid_seq, steps_per_epoch=train_steps,\n",
    " validation_steps=valid_steps, epochs=10, callbacks=[stop_early])"
   ]
  },
  {
   "cell_type": "code",
   "execution_count": 18,
   "id": "5c9e3350-be1d-4a20-b990-525175da4bbf",
   "metadata": {},
   "outputs": [
    {
     "data": {
      "image/png": "[encoded data removed]",
      "text/plain": [
       "<Figure size 960x640 with 1 Axes>"
      ]
     },
     "metadata": {},
     "output_type": "display_data"
    }
   ],
   "source": [
    "plt.figure(figsize=(6, 4), dpi=160)\n",
    "plt.plot(history.history[\"loss\"], label=\"train\")\n",
    "plt.plot(history.history[\"val_loss\"], label=\"validation\")\n",
    "plt.legend()\n",
    "plt.show()"
   ]
  },
  {
   "cell_type": "code",
   "execution_count": 19,
   "id": "373bf41b-adb8-4c42-b222-5b41a3d4ea75",
   "metadata": {},
   "outputs": [],
   "source": [
    "test_path = \"./Test/\"\n",
    "test_ids, test_labels = load_ids(test_path)\n",
    "test_seq = DataSeq(test_ids, test_labels)"
   ]
  },
  {
   "cell_type": "code",
   "execution_count": 20,
   "id": "03705a66-6180-47d8-ae19-1cdfcd2df0b0",
   "metadata": {},
   "outputs": [
    {
     "name": "stdout",
     "output_type": "stream",
     "text": [
      "546/546 [==============================] - 18s 32ms/step\n",
      "              precision    recall  f1-score   support\n",
      "\n",
      "           0       0.89      0.78      0.83      2692\n",
      "           1       0.63      0.80      0.70      1196\n",
      "           2       0.73      0.76      0.74       476\n",
      "\n",
      "    accuracy                           0.78      4364\n",
      "   macro avg       0.75      0.78      0.76      4364\n",
      "weighted avg       0.80      0.78      0.79      4364\n",
      "\n"
     ]
    }
   ],
   "source": [
    "y_pred = model.predict(test_seq)\n",
    "y_pred = np.argmax(y_pred,axis=1)\n",
    "print(classification_report(np.argmax(test_labels, axis=1), y_pred))\n"
   ]
  },
  {
   "cell_type": "code",
   "execution_count": 21,
   "id": "51237957-a06f-40b6-8c6b-74e70901db44",
   "metadata": {},
   "outputs": [],
   "source": [
    " model.save_weights('./bcss_aug_weights_focal_loss.h5')"
   ]
  }
 ],
 "metadata": {
  "kernelspec": {
   "display_name": "Python 3 (ipykernel)",
   "language": "python",
   "name": "python3"
  },
  "language_info": {
   "codemirror_mode": {
    "name": "ipython",
    "version": 3
   },
   "file_extension": ".py",
   "mimetype": "text/x-python",
   "name": "python",
   "nbconvert_exporter": "python",
   "pygments_lexer": "ipython3",
   "version": "3.10.12"
  }
 },
 "nbformat": 4,
 "nbformat_minor": 5
}
