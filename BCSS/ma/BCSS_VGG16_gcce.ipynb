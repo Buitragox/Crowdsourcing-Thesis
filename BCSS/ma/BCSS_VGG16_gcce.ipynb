{
 "cells": [
  {
   "cell_type": "code",
   "execution_count": 4,
   "id": "91abafd2-852f-4f7a-8de9-0617ae84c9b7",
   "metadata": {},
   "outputs": [],
   "source": [
    "import sys\n",
    "sys.path.append('../')\n",
    "\n",
    "import os\n",
    "from utils import DataSeq, load_ids, load_pickle_ma\n",
    "\n",
    "import numpy as np\n",
    "import pandas as pd\n",
    "import skimage.io as io\n",
    "\n",
    "from matplotlib import pyplot as plt\n",
    "\n",
    "from sklearn.metrics import classification_report\n",
    "from sklearn.utils import shuffle\n",
    "\n",
    "import tensorflow as tf\n",
    "from tensorflow.keras.models import Model\n",
    "from tensorflow.keras.metrics import F1Score\n",
    "from tensorflow.keras.layers import Input, Flatten, Dense, Dropout\n",
    "from tensorflow.keras.losses import Loss\n",
    "\n",
    "import keras_tuner as kt\n",
    "\n",
    "os.environ[\"TF_CPP_MIN_LOG_LEVEL\"] = \"3\""
   ]
  },
  {
   "cell_type": "code",
   "execution_count": 5,
   "id": "33241d76-6061-4b20-b742-75981c8b0b57",
   "metadata": {},
   "outputs": [],
   "source": [
    "pkl_path = \"../pkl/train_crowdsourced_labels.pkl\"\n",
    "images_path = \"../Train_non_experts_simple/\"\n",
    "test_path = \"../Test/\"\n",
    "batch_size = 8\n",
    "epochs = 10\n",
    "R = 20\n",
    "K = 3"
   ]
  },
  {
   "cell_type": "code",
   "execution_count": 6,
   "id": "394e480f-ff70-418d-9c4c-4d3feae1d233",
   "metadata": {},
   "outputs": [
    {
     "name": "stdout",
     "output_type": "stream",
     "text": [
      "(75243,) (75243, 20)\n",
      "(4364,) (4364, 3)\n"
     ]
    }
   ],
   "source": [
    "ids, labels = load_pickle_ma(pkl_path, images_path, R)\n",
    "ids, labels = shuffle(ids, labels, random_state=42)\n",
    "print(ids.shape, labels.shape)\n",
    "\n",
    "test_ids, test_labels = load_ids(test_path)\n",
    "test_ids, test_labels = shuffle(test_ids, test_labels, random_state=42)\n",
    "print(test_ids.shape, test_labels.shape)"
   ]
  },
  {
   "cell_type": "code",
   "execution_count": 7,
   "id": "2ccbc0a5-addf-47f7-8560-ea75469bcf02",
   "metadata": {},
   "outputs": [],
   "source": [
    "class GCCELoss(Loss):\n",
    "    def __init__(self, R=20, K=3, q=0.1):\n",
    "        super().__init__()\n",
    "        self.R = R\n",
    "        self.K = K\n",
    "        self.q = q\n",
    "        \n",
    "    \n",
    "    def call(self, y_true, y_pred):\n",
    "        ann = y_pred[:, :self.R]\n",
    "        pred = y_pred[:, self.R:]\n",
    "        pred = tf.clip_by_value(pred, clip_value_min=1e-9, clip_value_max=1-1e-9)\n",
    "        y_true_onehot = tf.one_hot(tf.cast(y_true, dtype=tf.int32), depth=self.K, axis=1) # N * K * R\n",
    "        y_hat = tf.repeat(tf.expand_dims(pred,-1), self.R, axis=-1) # N * K * R\n",
    "        p_gcce = y_true_onehot * (1 - y_hat**self.q) / self.q\n",
    "        temp1 = ann*tf.math.reduce_sum(p_gcce, axis=1)\n",
    "        temp2 = (1 - ann) * (1-(1/self.K)**self.q) / self.q*tf.reduce_sum(y_true_onehot,axis=1)\n",
    "        return tf.math.reduce_sum((temp1 + temp2))\n",
    "        "
   ]
  },
  {
   "cell_type": "code",
   "execution_count": 8,
   "id": "bfa74db7-047c-48e0-bcdb-817585fb9662",
   "metadata": {},
   "outputs": [],
   "source": [
    "train_seq = DataSeq(ids, labels)\n",
    "test_seq = DataSeq(test_ids, test_labels)\n",
    "\n",
    "train_steps = len(ids) // batch_size\n",
    "test_steps = len(test_ids) // batch_size"
   ]
  },
  {
   "cell_type": "code",
   "execution_count": 9,
   "id": "601fe427-c1fd-4f48-9104-0482e8dc1263",
   "metadata": {},
   "outputs": [],
   "source": [
    "def build_model(q: float):\n",
    "    input_layer = Input(shape=(224, 224, 3))\n",
    "\n",
    "    data_augmentation = tf.keras.Sequential([\n",
    "        input_layer,\n",
    "        tf.keras.layers.RandomFlip(\"horizontal_and_vertical\"),\n",
    "        tf.keras.layers.RandomRotation(0.15),\n",
    "    ])\n",
    "    \n",
    "    vgg = tf.keras.applications.VGG16(weights=None, include_top=False, input_tensor=data_augmentation.output)\n",
    "    vgg.load_weights('../h5/vgg16_weights_tf_dim_ordering_tf_kernels_notop.h5')\n",
    "    vgg.trainable = False\n",
    "\n",
    "    model = vgg.output\n",
    "    model = Flatten()(model)\n",
    "    model = Dense(4096, activation='relu')(model)\n",
    "    model = Dropout(0.25)(model)\n",
    "\n",
    "    model = Dense(3, activation='softmax')(model)\n",
    "\n",
    "    output_R = tf.keras.layers.Dense(R,activation=\"sigmoid\", name='output_R')(model)\n",
    " \n",
    "    output_K = tf.keras.layers.Dense(K,activation=\"softmax\", name='output_K')(model)\n",
    "\n",
    "    model = tf.keras.layers.concatenate([output_R, output_K])\n",
    "\n",
    "    model = Model(input_layer, model, name=\"VGG16_GCCE\")\n",
    "    \n",
    "    model.compile(optimizer=\"adam\", loss=GCCELoss(R, K, q))\n",
    "    return model"
   ]
  },
  {
   "cell_type": "code",
   "execution_count": 22,
   "id": "1a170224-5ce4-4853-83ce-a918fe031421",
   "metadata": {},
   "outputs": [
    {
     "name": "stdout",
     "output_type": "stream",
     "text": [
      "Epoch 1/10\n",
      "9405/9405 [==============================] - 455s 48ms/step - loss: 11.1450\n",
      "Epoch 2/10\n",
      "9405/9405 [==============================] - 452s 48ms/step - loss: 10.9641\n",
      "Epoch 3/10\n",
      "9405/9405 [==============================] - 452s 48ms/step - loss: 10.9451\n",
      "Epoch 4/10\n",
      "9405/9405 [==============================] - 451s 48ms/step - loss: 10.9409\n",
      "Epoch 5/10\n",
      "9405/9405 [==============================] - 452s 48ms/step - loss: 10.9408\n",
      "Epoch 6/10\n",
      "9405/9405 [==============================] - 452s 48ms/step - loss: 10.9397\n",
      "Epoch 7/10\n",
      "9405/9405 [==============================] - 451s 48ms/step - loss: 10.9387\n",
      "Epoch 8/10\n",
      "9405/9405 [==============================] - 452s 48ms/step - loss: 10.9394\n",
      "Epoch 9/10\n",
      "9405/9405 [==============================] - 453s 48ms/step - loss: 10.9384\n",
      "Epoch 10/10\n",
      "9405/9405 [==============================] - 452s 48ms/step - loss: 10.9371\n"
     ]
    }
   ],
   "source": [
    "model = build_model(0.1)\n",
    "history = model.fit(train_seq, steps_per_epoch=train_steps, epochs=10)"
   ]
  },
  {
   "cell_type": "code",
   "execution_count": 23,
   "id": "9c17e7be-02db-4a40-a81c-3ec66d3af478",
   "metadata": {},
   "outputs": [
    {
     "data": {
      "image/png": "[encoded data removed]",
      "text/plain": [
       "<Figure size 960x640 with 1 Axes>"
      ]
     },
     "metadata": {},
     "output_type": "display_data"
    }
   ],
   "source": [
    "plt.figure(figsize=(6, 4), dpi=160)\n",
    "plt.plot(history.history[\"loss\"], label=\"train\")\n",
    "plt.legend()\n",
    "plt.show()"
   ]
  },
  {
   "cell_type": "code",
   "execution_count": 24,
   "id": "cd70793f-ea07-4e76-b854-05cf3258be04",
   "metadata": {},
   "outputs": [
    {
     "name": "stdout",
     "output_type": "stream",
     "text": [
      "546/546 [==============================] - 18s 32ms/step\n"
     ]
    }
   ],
   "source": [
    "y_pred = model.predict(test_seq)\n"
   ]
  },
  {
   "cell_type": "code",
   "execution_count": 28,
   "id": "51b3b2a7-8345-4639-a9ae-f206c466d88f",
   "metadata": {},
   "outputs": [
    {
     "name": "stdout",
     "output_type": "stream",
     "text": [
      "[[0.50422955 0.37862834 0.11714211]\n",
      " [0.50422955 0.37862834 0.11714211]\n",
      " [0.50422955 0.37862834 0.11714211]\n",
      " ...\n",
      " [0.50422955 0.37862834 0.11714211]\n",
      " [0.50422955 0.37862834 0.11714211]\n",
      " [0.50422955 0.37862834 0.11714211]]\n"
     ]
    }
   ],
   "source": [
    "pred = y_pred[:, R:]\n",
    "print(pred)"
   ]
  },
  {
   "cell_type": "code",
   "execution_count": 29,
   "id": "3321c16b-df1f-4640-a2ec-045a5d2bfd9e",
   "metadata": {},
   "outputs": [
    {
     "name": "stdout",
     "output_type": "stream",
     "text": [
      "              precision    recall  f1-score   support\n",
      "\n",
      "           0       0.62      1.00      0.76      2692\n",
      "           1       0.00      0.00      0.00      1196\n",
      "           2       0.00      0.00      0.00       476\n",
      "\n",
      "    accuracy                           0.62      4364\n",
      "   macro avg       0.21      0.33      0.25      4364\n",
      "weighted avg       0.38      0.62      0.47      4364\n",
      "\n"
     ]
    },
    {
     "name": "stderr",
     "output_type": "stream",
     "text": [
      "/home/mlbros/.local/lib/python3.10/site-packages/sklearn/metrics/_classification.py:1469: UndefinedMetricWarning: Precision and F-score are ill-defined and being set to 0.0 in labels with no predicted samples. Use `zero_division` parameter to control this behavior.\n",
      "  _warn_prf(average, modifier, msg_start, len(result))\n",
      "/home/mlbros/.local/lib/python3.10/site-packages/sklearn/metrics/_classification.py:1469: UndefinedMetricWarning: Precision and F-score are ill-defined and being set to 0.0 in labels with no predicted samples. Use `zero_division` parameter to control this behavior.\n",
      "  _warn_prf(average, modifier, msg_start, len(result))\n",
      "/home/mlbros/.local/lib/python3.10/site-packages/sklearn/metrics/_classification.py:1469: UndefinedMetricWarning: Precision and F-score are ill-defined and being set to 0.0 in labels with no predicted samples. Use `zero_division` parameter to control this behavior.\n",
      "  _warn_prf(average, modifier, msg_start, len(result))\n"
     ]
    }
   ],
   "source": [
    "pred = np.argmax(pred,axis=1)\n",
    "print(classification_report(np.argmax(test_labels, axis=1), pred))"
   ]
  },
  {
   "cell_type": "code",
   "execution_count": null,
   "id": "aa6cd2a3-7960-4931-b9ad-7068ef12a14c",
   "metadata": {},
   "outputs": [],
   "source": [
    "model.save_weights('./bcss_aug_weights_mv_cce.h5')"
   ]
  }
 ],
 "metadata": {
  "kernelspec": {
   "display_name": "Python 3 (ipykernel)",
   "language": "python",
   "name": "python3"
  },
  "language_info": {
   "codemirror_mode": {
    "name": "ipython",
    "version": 3
   },
   "file_extension": ".py",
   "mimetype": "text/x-python",
   "name": "python",
   "nbconvert_exporter": "python",
   "pygments_lexer": "ipython3",
   "version": "3.10.12"
  }
 },
 "nbformat": 4,
 "nbformat_minor": 5
}
