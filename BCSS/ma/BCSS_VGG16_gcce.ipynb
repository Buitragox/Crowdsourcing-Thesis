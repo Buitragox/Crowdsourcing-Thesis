{
 "cells": [
  {
   "cell_type": "code",
   "execution_count": 1,
   "id": "91abafd2-852f-4f7a-8de9-0617ae84c9b7",
   "metadata": {},
   "outputs": [
    {
     "name": "stderr",
     "output_type": "stream",
     "text": [
      "2023-11-28 13:10:52.350693: I tensorflow/core/util/port.cc:110] oneDNN custom operations are on. You may see slightly different numerical results due to floating-point round-off errors from different computation orders. To turn them off, set the environment variable `TF_ENABLE_ONEDNN_OPTS=0`.\n",
      "2023-11-28 13:10:52.385769: I tensorflow/core/platform/cpu_feature_guard.cc:182] This TensorFlow binary is optimized to use available CPU instructions in performance-critical operations.\n",
      "To enable the following instructions: AVX2 AVX512F AVX512_VNNI FMA, in other operations, rebuild TensorFlow with the appropriate compiler flags.\n",
      "2023-11-28 13:10:52.897844: W tensorflow/compiler/tf2tensorrt/utils/py_utils.cc:38] TF-TRT Warning: Could not find TensorRT\n"
     ]
    }
   ],
   "source": [
    "import os\n",
    "from utils import DataSeq, load_ids, load_pickle_ma\n",
    "\n",
    "import numpy as np\n",
    "import pandas as pd\n",
    "import skimage.io as io\n",
    "\n",
    "from matplotlib import pyplot as plt\n",
    "\n",
    "from sklearn.model_selection import train_test_split\n",
    "from sklearn.metrics import classification_report\n",
    "from sklearn.utils import shuffle\n",
    "\n",
    "import tensorflow as tf\n",
    "from tensorflow.keras.models import Model\n",
    "from tensorflow.keras.metrics import F1Score\n",
    "from tensorflow.keras.layers import Input, Flatten, Dense, Dropout\n",
    "from tensorflow.keras.losses import Loss\n",
    "\n",
    "import keras_tuner as kt\n",
    "\n",
    "os.environ[\"TF_CPP_MIN_LOG_LEVEL\"] = \"3\""
   ]
  },
  {
   "cell_type": "code",
   "execution_count": 2,
   "id": "33241d76-6061-4b20-b742-75981c8b0b57",
   "metadata": {},
   "outputs": [],
   "source": [
    "pkl_path = \"./train_crowdsourced_labels.pkl\"\n",
    "images_path = \"./Train_non_experts_simple/\"\n",
    "test_path = \"./Test/\"\n",
    "batch_size = 8\n",
    "epochs = 10\n",
    "R = 20\n",
    "K = 3"
   ]
  },
  {
   "cell_type": "code",
   "execution_count": 6,
   "id": "394e480f-ff70-418d-9c4c-4d3feae1d233",
   "metadata": {},
   "outputs": [
    {
     "data": {
      "text/plain": [
       "array([[13,  1],\n",
       "       [23,  1],\n",
       "       [17,  2],\n",
       "       [ 7,  1],\n",
       "       [ 5,  1],\n",
       "       [11,  1],\n",
       "       [12,  1],\n",
       "       [21,  1],\n",
       "       [19,  1],\n",
       "       [ 8,  1],\n",
       "       [10,  1],\n",
       "       [22,  1],\n",
       "       [14,  1],\n",
       "       [24,  1],\n",
       "       [20,  1],\n",
       "       [ 9,  1],\n",
       "       [15,  1]])"
      ]
     },
     "execution_count": 6,
     "metadata": {},
     "output_type": "execute_result"
    }
   ],
   "source": [
    "ids, labels = load_pickle_ma(pkl_path, images_path, R)\n",
    "df[\"annotations\"][0]"
   ]
  },
  {
   "cell_type": "code",
   "execution_count": null,
   "id": "2ccbc0a5-addf-47f7-8560-ea75469bcf02",
   "metadata": {},
   "outputs": [],
   "source": [
    "class GCCELoss(Loss):\n",
    "    def __init__(self, R=20, K=3, q=):\n",
    "        super().__init__()\n",
    "        self.R = R\n",
    "        self.K = K\n",
    "        self.q = q\n",
    "        \n",
    "\n",
    "    def call(self, y_true, y_pred):\n",
    "        ann = y_pred[:, :self.R]\n",
    "        pred = y_pred[:, self.R:]\n",
    "        pred = tf.clip_by_value(pred, clip_value_min=1e-9, clip_value_max=1-1e-9)\n",
    "        y_true_onehot = tf.one_hot(tf.cast(y_true, dtype=tf.int32), depth=self.K, axis=1)\n",
    "        y_hat = tf.repeat(tf.expand_dims(pred,-1), self.R, axis = -1)\n",
    "        p_gcce = y_true_onehot*(1 - Y_hat**self.q)/self.q\n",
    "        temp1 = ann*tf.math.reduce_sum(p_gcce, axis=1)\n",
    "        temp2 = (1 - ann)*(1-(1/self.K)**self.q)/self.q*tf.reduce_sum(Y_true,axis=1)\n",
    "        return tf.math.reduce_sum((temp1 + temp2))\n",
    "        "
   ]
  },
  {
   "cell_type": "code",
   "execution_count": null,
   "id": "964904ae-014e-4c7d-9964-7a0924d582cf",
   "metadata": {},
   "outputs": [],
   "source": [
    "R = 3\n",
    "K = 5\n",
    "y_pred = tf.constant([[0.7, 0.8, 0.4, 0.6, 0.15, 0.1, 0.1, 0.05],\n",
    "                      [0.6, 0.7, 0.5, 0.5, 0.2, 0.1, 0.1, 0.1],\n",
    "                      [0.65, 0.82, 0.34, 0.6, 0.15, 0.1, 0.1, 0.05]])\n",
    "\n",
    "\n",
    "\n",
    "pred = y_pred[:, R:]\n",
    "ann = y_pred[:, :R]\n",
    "\n",
    "print(\"PRED\", pred)\n",
    "print(\"ANN\", ann)\n",
    "\n",
    "Y_hat = tf.repeat(tf.expand_dims(pred,-1), R, axis = -1)\n",
    "print(Y_hat)\n"
   ]
  },
  {
   "cell_type": "code",
   "execution_count": null,
   "id": "e332359a-7940-4f59-9a60-637a8e70f6eb",
   "metadata": {},
   "outputs": [],
   "source": [
    "y_true = tf.constant([[1, 3, 0], [2, 4, 2], [-1, 4, 2]])\n",
    "Y_true = tf.one_hot(tf.cast(y_true, dtype=tf.int32), depth=K, axis=1)\n",
    "print(Y_true)"
   ]
  },
  {
   "cell_type": "code",
   "execution_count": null,
   "id": "7de6c5f7-6ff7-4ef9-930f-603f4be07394",
   "metadata": {},
   "outputs": [],
   "source": []
  }
 ],
 "metadata": {
  "kernelspec": {
   "display_name": "Python 3 (ipykernel)",
   "language": "python",
   "name": "python3"
  },
  "language_info": {
   "codemirror_mode": {
    "name": "ipython",
    "version": 3
   },
   "file_extension": ".py",
   "mimetype": "text/x-python",
   "name": "python",
   "nbconvert_exporter": "python",
   "pygments_lexer": "ipython3",
   "version": "3.10.12"
  }
 },
 "nbformat": 4,
 "nbformat_minor": 5
}
