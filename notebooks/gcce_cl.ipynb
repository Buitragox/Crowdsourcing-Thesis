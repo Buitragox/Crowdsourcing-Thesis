{
  "nbformat": 4,
  "nbformat_minor": 0,
  "metadata": {
    "colab": {
      "provenance": [],
      "include_colab_link": true
    },
    "kernelspec": {
      "name": "python3",
      "display_name": "Python 3"
    },
    "language_info": {
      "name": "python"
    }
  },
  "cells": [
    {
      "cell_type": "markdown",
      "metadata": {
        "id": "view-in-github",
        "colab_type": "text"
      },
      "source": [
        "<a href=\"https://colab.research.google.com/github/Buitragox/Crowdsourcing-Thesis/blob/main/notebooks/gcce_cl.ipynb\" target=\"_parent\"><img src=\"https://colab.research.google.com/assets/colab-badge.svg\" alt=\"Open In Colab\"/></a>"
      ]
    },
    {
      "cell_type": "markdown",
      "source": [
        "# Generalized Categorical Cross-Entropy and CrowdLayer\n",
        "\n",
        "Training of the models with GCCE and CL\n",
        "\n",
        "We perform 2 grid searchs for each model:\n",
        "- One with the entire dataset\n",
        "- One with the reduced dataset that uses at least 2 annotations per sample"
      ],
      "metadata": {
        "id": "sHl98hZoT5BA"
      }
    },
    {
      "cell_type": "code",
      "execution_count": null,
      "metadata": {
        "id": "adkN9fq9o6Dp"
      },
      "outputs": [],
      "source": [
        "import numpy as np\n",
        "import zipfile\n",
        "\n",
        "from matplotlib import pyplot as plt\n",
        "\n",
        "from sklearn.metrics import classification_report\n",
        "\n",
        "import tensorflow as tf\n",
        "from tensorflow.keras.models import Model, Sequential\n",
        "from tensorflow.keras.layers import Input, Dense, Dropout\n",
        "from tensorflow.keras.losses import Loss"
      ]
    },
    {
      "cell_type": "code",
      "source": [
        "from google.colab import drive\n",
        "drive.mount('/content/drive')"
      ],
      "metadata": {
        "colab": {
          "base_uri": "https://localhost:8080/"
        },
        "id": "JGiE-_AkpnWQ",
        "outputId": "26cf2b0e-2891-46c1-89a4-4019df45bede"
      },
      "execution_count": null,
      "outputs": [
        {
          "output_type": "stream",
          "name": "stdout",
          "text": [
            "Mounted at /content/drive\n"
          ]
        }
      ]
    },
    {
      "cell_type": "code",
      "source": [
        "# Download the necessary utilities from the repo\n",
        "!wget --no-check-certificate 'https://raw.githubusercontent.com/Buitragox/Crowdsourcing-Thesis/main/utils.py' -O utils.py\n",
        "!wget --no-check-certificate 'https://raw.githubusercontent.com/Buitragox/Crowdsourcing-Thesis/main/grid_search.py' -O grid_search.py"
      ],
      "metadata": {
        "id": "gZ32xAEcppkn",
        "colab": {
          "base_uri": "https://localhost:8080/"
        },
        "outputId": "fa3f7311-91e4-4b80-f5eb-c38016da6ba6"
      },
      "execution_count": null,
      "outputs": [
        {
          "output_type": "stream",
          "name": "stdout",
          "text": [
            "--2024-06-04 16:19:48--  https://raw.githubusercontent.com/Buitragox/Crowdsourcing-Thesis/main/utils.py\n",
            "Resolving raw.githubusercontent.com (raw.githubusercontent.com)... 185.199.109.133, 185.199.110.133, 185.199.108.133, ...\n",
            "Connecting to raw.githubusercontent.com (raw.githubusercontent.com)|185.199.109.133|:443... connected.\n",
            "HTTP request sent, awaiting response... 200 OK\n",
            "Length: 5405 (5.3K) [text/plain]\n",
            "Saving to: ‘utils.py’\n",
            "\n",
            "utils.py            100%[===================>]   5.28K  --.-KB/s    in 0s      \n",
            "\n",
            "2024-06-04 16:19:48 (51.6 MB/s) - ‘utils.py’ saved [5405/5405]\n",
            "\n",
            "--2024-06-04 16:19:48--  https://raw.githubusercontent.com/Buitragox/Crowdsourcing-Thesis/main/grid_search.py\n",
            "Resolving raw.githubusercontent.com (raw.githubusercontent.com)... 185.199.108.133, 185.199.109.133, 185.199.110.133, ...\n",
            "Connecting to raw.githubusercontent.com (raw.githubusercontent.com)|185.199.108.133|:443... connected.\n",
            "HTTP request sent, awaiting response... 200 OK\n",
            "Length: 5486 (5.4K) [text/plain]\n",
            "Saving to: ‘grid_search.py’\n",
            "\n",
            "grid_search.py      100%[===================>]   5.36K  --.-KB/s    in 0s      \n",
            "\n",
            "2024-06-04 16:19:49 (52.4 MB/s) - ‘grid_search.py’ saved [5486/5486]\n",
            "\n"
          ]
        }
      ]
    },
    {
      "cell_type": "code",
      "source": [
        "from utils import load_ma_data\n",
        "from grid_search import grid_search, show_results"
      ],
      "metadata": {
        "id": "SH3iLKh0pERp"
      },
      "execution_count": null,
      "outputs": []
    },
    {
      "cell_type": "code",
      "source": [
        "!wget --no-check-certificate 'https://github.com/Buitragox/Crowdsourcing-Thesis/raw/main/data/pkl/train_crowdsourced_labels.pkl' -O train_crowdsourced_labels.pkl"
      ],
      "metadata": {
        "colab": {
          "base_uri": "https://localhost:8080/"
        },
        "id": "g06KLbhop4ZM",
        "outputId": "60277251-8350-4dc2-b08a-20c4e4ffaf9d"
      },
      "execution_count": null,
      "outputs": [
        {
          "output_type": "stream",
          "name": "stdout",
          "text": [
            "--2024-06-04 16:19:49--  https://github.com/Buitragox/Crowdsourcing-Thesis/raw/main/data/pkl/train_crowdsourced_labels.pkl\n",
            "Resolving github.com (github.com)... 140.82.121.4\n",
            "Connecting to github.com (github.com)|140.82.121.4|:443... connected.\n",
            "HTTP request sent, awaiting response... 302 Found\n",
            "Location: https://raw.githubusercontent.com/Buitragox/Crowdsourcing-Thesis/main/data/pkl/train_crowdsourced_labels.pkl [following]\n",
            "--2024-06-04 16:19:49--  https://raw.githubusercontent.com/Buitragox/Crowdsourcing-Thesis/main/data/pkl/train_crowdsourced_labels.pkl\n",
            "Resolving raw.githubusercontent.com (raw.githubusercontent.com)... 185.199.108.133, 185.199.109.133, 185.199.110.133, ...\n",
            "Connecting to raw.githubusercontent.com (raw.githubusercontent.com)|185.199.108.133|:443... connected.\n",
            "HTTP request sent, awaiting response... 200 OK\n",
            "Length: 10426477 (9.9M) [application/octet-stream]\n",
            "Saving to: ‘train_crowdsourced_labels.pkl’\n",
            "\n",
            "train_crowdsourced_ 100%[===================>]   9.94M  --.-KB/s    in 0.1s    \n",
            "\n",
            "2024-06-04 16:19:50 (90.0 MB/s) - ‘train_crowdsourced_labels.pkl’ saved [10426477/10426477]\n",
            "\n"
          ]
        }
      ]
    },
    {
      "cell_type": "code",
      "source": [
        "# Download TrainTestNpyInt.zip from google drive\n",
        "!pip install gdown\n",
        "!gdown 1XeVC0FOmv_V8jY31JP73yXqa4q27EWJS -O TrainTestNpyInt.zip\n",
        "\n",
        "#!wget --load-cookies /tmp/cookies.txt \"https://docs.google.com/uc?export=download&confirm=$(wget --quiet --save-cookies /tmp/cookies.txt --keep-session-cookies --no-check-certificate 'https://docs.google.com/uc?export=download&id=1XeVC0FOmv_V8jY31JP73yXqa4q27EWJS' -O- | sed -rn 's/.*confirm=([0-9A-Za-z_]+).*/\\1\\n/p')&id=1XeVC0FOmv_V8jY31JP73yXqa4q27EWJS\" -O TrainTestNpyInt.zip && rm -rf /tmp/cookies.txt"
      ],
      "metadata": {
        "colab": {
          "base_uri": "https://localhost:8080/"
        },
        "id": "Ed5Fgwj5crND",
        "outputId": "7bb15cb2-7ea4-4e6e-a9cd-42d9e960b193"
      },
      "execution_count": null,
      "outputs": [
        {
          "output_type": "stream",
          "name": "stdout",
          "text": [
            "Requirement already satisfied: gdown in /usr/local/lib/python3.10/dist-packages (5.1.0)\n",
            "Requirement already satisfied: beautifulsoup4 in /usr/local/lib/python3.10/dist-packages (from gdown) (4.12.3)\n",
            "Requirement already satisfied: filelock in /usr/local/lib/python3.10/dist-packages (from gdown) (3.14.0)\n",
            "Requirement already satisfied: requests[socks] in /usr/local/lib/python3.10/dist-packages (from gdown) (2.31.0)\n",
            "Requirement already satisfied: tqdm in /usr/local/lib/python3.10/dist-packages (from gdown) (4.66.4)\n",
            "Requirement already satisfied: soupsieve>1.2 in /usr/local/lib/python3.10/dist-packages (from beautifulsoup4->gdown) (2.5)\n",
            "Requirement already satisfied: charset-normalizer<4,>=2 in /usr/local/lib/python3.10/dist-packages (from requests[socks]->gdown) (3.3.2)\n",
            "Requirement already satisfied: idna<4,>=2.5 in /usr/local/lib/python3.10/dist-packages (from requests[socks]->gdown) (3.7)\n",
            "Requirement already satisfied: urllib3<3,>=1.21.1 in /usr/local/lib/python3.10/dist-packages (from requests[socks]->gdown) (2.0.7)\n",
            "Requirement already satisfied: certifi>=2017.4.17 in /usr/local/lib/python3.10/dist-packages (from requests[socks]->gdown) (2024.2.2)\n",
            "Requirement already satisfied: PySocks!=1.5.7,>=1.5.6 in /usr/local/lib/python3.10/dist-packages (from requests[socks]->gdown) (1.7.1)\n",
            "Downloading...\n",
            "From (original): https://drive.google.com/uc?id=1XeVC0FOmv_V8jY31JP73yXqa4q27EWJS\n",
            "From (redirected): https://drive.google.com/uc?id=1XeVC0FOmv_V8jY31JP73yXqa4q27EWJS&confirm=t&uuid=9bf8e715-ec6c-42f4-874b-43d78130ed9a\n",
            "To: /content/TrainTestNpyInt.zip\n",
            "100% 96.7M/96.7M [00:01<00:00, 60.2MB/s]\n"
          ]
        }
      ]
    },
    {
      "cell_type": "code",
      "source": [
        "# Unzip file from google drive or change the path to a local file.\n",
        "with zipfile.ZipFile(\"./drive/MyDrive/npy/TrainTestNpyInt.zip\", 'r') as zip_ref:\n",
        "    zip_ref.extractall(\"./TrainTestNpyInt\")"
      ],
      "metadata": {
        "id": "z5ui0HOZqJ03"
      },
      "execution_count": null,
      "outputs": []
    },
    {
      "cell_type": "code",
      "source": [
        "pkl_path = \"./train_crowdsourced_labels.pkl\"\n",
        "data_path = \"./TrainTestNpyInt\"\n",
        "json_path = \"./drive/MyDrive/Experiment results/ma\"\n",
        "batch_size = 8\n",
        "epochs = 20\n",
        "R = 20 # Annotators\n",
        "K = 3 # Classes"
      ],
      "metadata": {
        "id": "qEdDIME_qdJ6"
      },
      "execution_count": null,
      "outputs": []
    },
    {
      "cell_type": "markdown",
      "source": [
        "## GCCE"
      ],
      "metadata": {
        "id": "XGP_pO3HUGvg"
      }
    },
    {
      "cell_type": "code",
      "source": [
        "class GCCELoss(Loss):\n",
        "    \"\"\"\n",
        "    Generalized Categorical Cross Entropy loss\n",
        "\n",
        "    R = Amount of annotators\n",
        "    K = Amount classes\n",
        "    q = Value (0, 1] that handles the noise resistance.\n",
        "        the higher the value the more robust the function becomes to noise.\n",
        "\n",
        "    \"\"\"\n",
        "    def __init__(self, R=20, K=3, q=0.1):\n",
        "        super().__init__()\n",
        "        self.R = R\n",
        "        self.K = K\n",
        "        self.q = q\n",
        "\n",
        "\n",
        "    def call(self, y_true, y_pred):\n",
        "        ann = y_pred[:, :self.R]\n",
        "        pred = y_pred[:, self.R:]\n",
        "        pred = tf.clip_by_value(pred, clip_value_min=1e-9, clip_value_max=1-1e-9)\n",
        "        y_true_onehot = tf.one_hot(tf.cast(y_true, dtype=tf.int32), depth=self.K, axis=1) # N * K * R\n",
        "        y_hat = tf.repeat(tf.expand_dims(pred,-1), self.R, axis=-1) # N * K * R\n",
        "        p_gcce = y_true_onehot * (1 - y_hat**self.q) / self.q\n",
        "        temp1 = ann*tf.math.reduce_sum(p_gcce, axis=1)\n",
        "        temp2 = (1 - ann) * (1-(1/self.K)**self.q) / self.q * tf.reduce_sum(y_true_onehot,axis=1)\n",
        "        ans = tf.math.reduce_sum((temp1 + temp2))\n",
        "        return ans"
      ],
      "metadata": {
        "id": "VMPGWXmtrC9N"
      },
      "execution_count": null,
      "outputs": []
    },
    {
      "cell_type": "code",
      "source": [
        "def build_model(q: float):\n",
        "    input_layer = Input(shape=(512, ))\n",
        "\n",
        "    model = Dense(128, activation='relu')(input_layer)\n",
        "    model = Dropout(0.25)(model)\n",
        "    model = Dense(64, activation='relu')(model)\n",
        "    model = Dropout(0.25)(model)\n",
        "\n",
        "    output_R = tf.keras.layers.Dense(R,activation=\"sigmoid\", name='output_R')(model)\n",
        "\n",
        "    output_K = tf.keras.layers.Dense(K,activation=\"softmax\", name='output_K')(model)\n",
        "\n",
        "    model = tf.keras.layers.concatenate([output_R, output_K])\n",
        "\n",
        "    model = Model(input_layer, model, name=\"VGG16_GCCE\")\n",
        "\n",
        "    model.compile(optimizer=\"adam\", loss=GCCELoss(R, K, q))\n",
        "    return model"
      ],
      "metadata": {
        "id": "6fZkELryrODU"
      },
      "execution_count": null,
      "outputs": []
    },
    {
      "cell_type": "code",
      "source": [
        "def evaluate(model, X_test, Y_test):\n",
        "    y_pred = model.predict(X_test)\n",
        "    pred = y_pred[:, R:]\n",
        "    pred = np.argmax(pred, axis=1)\n",
        "    report = classification_report(np.argmax(Y_test, axis=1), pred, output_dict=True)\n",
        "    return report"
      ],
      "metadata": {
        "id": "gLbtHAXBJFQh"
      },
      "execution_count": null,
      "outputs": []
    },
    {
      "cell_type": "code",
      "source": [
        "# Change the parameter min_two_ann for whether to use the entire dataset or a minimum of 2 annotators per sample.\n",
        "X_train, labels, X_test, Y_test = load_ma_data(data_path, pkl_path, R, min_two_ann=True)\n",
        "# history_path = json_path + '/history_gcce_int_all.json'\n",
        "# report_path = json_path + '/report_gcce_int_all.json'\n",
        "history_path = json_path + '/history_gcce_int_mintwo.json'\n",
        "report_path = json_path + '/report_gcce_int_mintwo.json'\n",
        "\n",
        "q_grid = [0.01, 0.1, 0.2, 0.3, 0.4, 0.5, 0.6, 0.7, 0.8, 0.9]\n",
        "history, report = grid_search(X_train, labels, X_test, Y_test, build_model, evaluate,\n",
        "                              repeat=10, epochs=epochs, report_path=report_path, history_path=history_path,\n",
        "                              q=q_grid)"
      ],
      "metadata": {
        "colab": {
          "base_uri": "https://localhost:8080/"
        },
        "id": "4tpzmvFtmuIS",
        "outputId": "cf0ede53-728a-4365-805f-d275ff57baa6"
      },
      "execution_count": null,
      "outputs": [
        {
          "output_type": "stream",
          "name": "stdout",
          "text": [
            "Finished experiments: {(0.7,), (0.2,), (0.3,), (0.01,), (0.8,), (0.4,), (0.9,), (0.5,), (0.6,), (0.1,)}\n"
          ]
        }
      ]
    },
    {
      "cell_type": "code",
      "source": [
        "show_results(history, report, K)"
      ],
      "metadata": {
        "colab": {
          "base_uri": "https://localhost:8080/"
        },
        "id": "ENRMttGiuJov",
        "outputId": "b829ddd6-549f-4ee3-a372-80453af0d26e"
      },
      "execution_count": null,
      "outputs": [
        {
          "output_type": "stream",
          "name": "stdout",
          "text": [
            "==================================================\n",
            "parameters = {'q': 0.01}\n",
            "Warning in run #1. Class 0 has an f1_score of 0.0\n",
            "Warning in run #1. Class 2 has an f1_score of 0.0\n",
            "\tmean f1 scores: [0.7813864360264391, 0.7027975292662456, 0.6496363120424922]\n",
            "\tstd f1 scores: [0.260754002827133, 0.09146930217900186, 0.22198055602479397]\n",
            "\tmean accuracy: 0.7610219981668195\n",
            "\tstd accuracy: 0.16274603348180577\n",
            "==================================================\n",
            "parameters = {'q': 0.7}\n",
            "Warning in run #1. Class 0 has an f1_score of 0.0\n",
            "Warning in run #1. Class 2 has an f1_score of 0.0\n",
            "Warning in run #6. Class 0 has an f1_score of 0.0\n",
            "Warning in run #6. Class 2 has an f1_score of 0.0\n",
            "\tmean f1 scores: [0.6688943750163967, 0.6347422660354678, 0.4324576954001734]\n",
            "\tstd f1 scores: [0.33770420429232556, 0.11813420132843233, 0.21890814984319967]\n",
            "\tmean accuracy: 0.6734188817598533\n",
            "\tstd accuracy: 0.20429484084820218\n",
            "==================================================\n",
            "parameters = {'q': 0.2}\n",
            "\tmean f1 scores: [0.8634061963084815, 0.7355372327614298, 0.7271215440684401]\n",
            "\tstd f1 scores: [0.010738229378024218, 0.008202453436022935, 0.03642506761572092]\n",
            "\tmean accuracy: 0.8122593950504123\n",
            "\tstd accuracy: 0.011248812017504117\n",
            "==================================================\n",
            "parameters = {'q': 0.3}\n",
            "\tmean f1 scores: [0.8593133067699407, 0.7350182900685867, 0.7058340774409577]\n",
            "\tstd f1 scores: [0.00718156808499821, 0.009806162109582222, 0.03811725158153601]\n",
            "\tmean accuracy: 0.8075847846012831\n",
            "\tstd accuracy: 0.008005125351295196\n",
            "==================================================\n",
            "parameters = {'q': 0.8}\n",
            "Warning in run #2. Class 2 has an f1_score of 0.0\n",
            "Warning in run #5. Class 2 has an f1_score of 0.0\n",
            "Warning in run #9. Class 2 has an f1_score of 0.0\n",
            "\tmean f1 scores: [0.7978698570209278, 0.6881126930205805, 0.4031877160402292]\n",
            "\tstd f1 scores: [0.13610242146494464, 0.0920732790434105, 0.2666152662820463]\n",
            "\tmean accuracy: 0.7391613198900092\n",
            "\tstd accuracy: 0.11933815641701026\n",
            "==================================================\n",
            "parameters = {'q': 0.9}\n",
            "Warning in run #4. Class 0 has an f1_score of 0.0\n",
            "Warning in run #4. Class 2 has an f1_score of 0.0\n",
            "\tmean f1 scores: [0.7732875733007453, 0.6652368314145913, 0.5058457061235856]\n",
            "\tstd f1 scores: [0.25859551023824623, 0.10452777047851441, 0.18823357574258895]\n",
            "\tmean accuracy: 0.7435838680109992\n",
            "\tstd accuracy: 0.1586123998563792\n",
            "==================================================\n",
            "parameters = {'q': 0.4}\n",
            "\tmean f1 scores: [0.8628537212897103, 0.7384717705942527, 0.7043410569930428]\n",
            "\tstd f1 scores: [0.009325366149445713, 0.012061972527794654, 0.0600355803092823]\n",
            "\tmean accuracy: 0.8099679193400551\n",
            "\tstd accuracy: 0.012096322407812608\n",
            "==================================================\n",
            "parameters = {'q': 0.5}\n",
            "\tmean f1 scores: [0.8293959703211332, 0.6705647678681743, 0.5229764220422705]\n",
            "\tstd f1 scores: [0.06623567038587494, 0.08455210093147128, 0.09580840871890245]\n",
            "\tmean accuracy: 0.7622823098075161\n",
            "\tstd accuracy: 0.06191923547075352\n",
            "==================================================\n",
            "parameters = {'q': 0.6}\n",
            "Warning in run #0. Class 2 has an f1_score of 0.0\n",
            "Warning in run #2. Class 2 has an f1_score of 0.0\n",
            "Warning in run #5. Class 2 has an f1_score of 0.0\n",
            "Warning in run #7. Class 0 has an f1_score of 0.0\n",
            "Warning in run #7. Class 2 has an f1_score of 0.0\n",
            "\tmean f1 scores: [0.745232317000557, 0.6315488969816758, 0.34725308370223107]\n",
            "\tstd f1 scores: [0.25322738094119973, 0.10536959848971492, 0.2878365670481286]\n",
            "\tmean accuracy: 0.7027039413382218\n",
            "\tstd accuracy: 0.15111045140248586\n",
            "==================================================\n",
            "parameters = {'q': 0.1}\n",
            "\tmean f1 scores: [0.8654309864246648, 0.7372460532928186, 0.7289480489827309]\n",
            "\tstd f1 scores: [0.00709020799390274, 0.00935816591873873, 0.032936093934991945]\n",
            "\tmean accuracy: 0.8148029330889092\n",
            "\tstd accuracy: 0.006971360587032399\n"
          ]
        }
      ]
    },
    {
      "cell_type": "markdown",
      "source": [
        "## Crowd Layer\n",
        "\n",
        "Article: [Deep Learning from Crowds](https://arxiv.org/abs/1709.01779)\n",
        "\n",
        "Code: https://github.com/fmpr/CrowdLayer\n"
      ],
      "metadata": {
        "id": "tXEbfnbF2Hcp"
      }
    },
    {
      "cell_type": "code",
      "source": [
        "!git clone 'https://github.com/fmpr/CrowdLayer'"
      ],
      "metadata": {
        "colab": {
          "base_uri": "https://localhost:8080/"
        },
        "id": "LFBdnZFy1KLY",
        "outputId": "bb683cd2-e77a-4b94-ecf1-29616cbcdbe7"
      },
      "execution_count": null,
      "outputs": [
        {
          "output_type": "stream",
          "name": "stdout",
          "text": [
            "Cloning into 'CrowdLayer'...\n",
            "remote: Enumerating objects: 63, done.\u001b[K\n",
            "remote: Counting objects: 100% (9/9), done.\u001b[K\n",
            "remote: Compressing objects: 100% (8/8), done.\u001b[K\n",
            "remote: Total 63 (delta 1), reused 4 (delta 1), pack-reused 54\u001b[K\n",
            "Receiving objects: 100% (63/63), 285.05 KiB | 1.23 MiB/s, done.\n",
            "Resolving deltas: 100% (23/23), done.\n"
          ]
        }
      ]
    },
    {
      "cell_type": "code",
      "source": [
        "import sys\n",
        "sys.path.append('/content/CrowdLayer')\n",
        "from crowd_layer.crowd_layers import CrowdsClassification"
      ],
      "metadata": {
        "id": "kBTHWvDl21yv"
      },
      "execution_count": null,
      "outputs": []
    },
    {
      "cell_type": "code",
      "source": [
        "# Change the parameter min_two_ann for whether to use the entire dataset or a minimum of 2 annotators per sample.\n",
        "X_train, labels, X_test, Y_test = load_ma_data(data_path, pkl_path, R, min_two_ann=False)\n",
        "print(X_train.shape, labels.shape, X_test.shape, Y_test.shape)"
      ],
      "metadata": {
        "colab": {
          "base_uri": "https://localhost:8080/"
        },
        "id": "T9Kdm4g94xTW",
        "outputId": "3e2b659e-e22a-4ac3-e1f6-bebbc14c44fe"
      },
      "execution_count": null,
      "outputs": [
        {
          "output_type": "stream",
          "name": "stdout",
          "text": [
            "(75243, 512) (75243, 20) (4364, 512) (4364, 3)\n"
          ]
        }
      ]
    },
    {
      "cell_type": "code",
      "source": [
        "def onehot_with_missings(labels, K):\n",
        "    \"\"\"Apply onehot encoding to labels and mark missing answers with -1 instead of 0\"\"\"\n",
        "    one_hot = tf.one_hot(tf.cast(labels, dtype=tf.int32), depth=K, axis=1).numpy() # Array of size N * K * R\n",
        "    for i in range(len(labels)):\n",
        "        for r in range(R):\n",
        "            if labels[i,r] == -1:\n",
        "                one_hot[i,:,r] = -1 * np.ones(K)\n",
        "    return one_hot"
      ],
      "metadata": {
        "id": "ST7jI6ee8Zr0"
      },
      "execution_count": null,
      "outputs": []
    },
    {
      "cell_type": "code",
      "source": [
        "labels_onehot = onehot_with_missings(labels, K)\n",
        "print(labels_onehot.shape)\n",
        "print(labels_onehot)"
      ],
      "metadata": {
        "colab": {
          "base_uri": "https://localhost:8080/"
        },
        "id": "GHJ_xww19XYp",
        "outputId": "4eb5de77-1568-4893-9994-4f42b46f9d65"
      },
      "execution_count": null,
      "outputs": [
        {
          "output_type": "stream",
          "name": "stdout",
          "text": [
            "(75243, 3, 20)\n",
            "[[[-1. -1. -1. ... -1. -1. -1.]\n",
            "  [-1. -1. -1. ... -1. -1. -1.]\n",
            "  [-1. -1. -1. ... -1. -1. -1.]]\n",
            "\n",
            " [[-1. -1. -1. ... -1. -1. -1.]\n",
            "  [-1. -1. -1. ... -1. -1. -1.]\n",
            "  [-1. -1. -1. ... -1. -1. -1.]]\n",
            "\n",
            " [[-1. -1. -1. ... -1. -1. -1.]\n",
            "  [-1. -1. -1. ... -1. -1. -1.]\n",
            "  [-1. -1. -1. ... -1. -1. -1.]]\n",
            "\n",
            " ...\n",
            "\n",
            " [[-1. -1. -1. ... -1. -1. -1.]\n",
            "  [-1. -1. -1. ... -1. -1. -1.]\n",
            "  [-1. -1. -1. ... -1. -1. -1.]]\n",
            "\n",
            " [[ 1.  1.  1. ...  0.  1.  1.]\n",
            "  [ 0.  0.  0. ...  1.  0.  0.]\n",
            "  [ 0.  0.  0. ...  0.  0.  0.]]\n",
            "\n",
            " [[-1. -1. -1. ... -1. -1. -1.]\n",
            "  [-1. -1. -1. ... -1. -1. -1.]\n",
            "  [-1. -1. -1. ... -1. -1. -1.]]]\n"
          ]
        }
      ]
    },
    {
      "cell_type": "code",
      "source": [
        "# This function was extracted from https://github.com/fmpr/CrowdLayer/blob/master/crowd_layer/crowd_layers.py#L142\n",
        "# There is an error with parameter dim on tf.nn.softmax_cross_entropy_with_logits\n",
        "# Other people have encountered this issue: https://github.com/fmpr/CrowdLayer/pull/3\n",
        "# The use of tf.nn.softmax_cross_entropy_with_logits with a softmax activation layer is discouraged.\n",
        "class LossMaskedMultiCrossEntropy(Loss):\n",
        "    def __init__(self):\n",
        "        super().__init__()\n",
        "\n",
        "    def call(self, y_true, y_pred):\n",
        "        # shape of y_true, y_pred (none, 3, 20)\n",
        "\n",
        "        # Not using this function with a softmax activation\n",
        "        vec = tf.nn.softmax_cross_entropy_with_logits(logits=y_pred, labels=y_true, axis=1) #error dim=1\n",
        "\n",
        "        # put 0s where there are missing annotations\n",
        "        mask = tf.equal(y_true[:,0,:], -1)\n",
        "        zer = tf.zeros_like(vec)\n",
        "        loss = tf.where(mask, x=zer, y=vec)\n",
        "\n",
        "        return tf.reduce_sum(loss)"
      ],
      "metadata": {
        "id": "zl1x-a7HQLYk"
      },
      "execution_count": null,
      "outputs": []
    },
    {
      "cell_type": "code",
      "source": [
        "def build_base_model():\n",
        "    base_model = Sequential()\n",
        "    base_model.add(Input(shape=(512, )))\n",
        "    base_model.add(Dense(128, activation='relu'))\n",
        "    base_model.add(Dropout(0.25))\n",
        "    base_model.add(Dense(64, activation='relu'))\n",
        "    base_model.add(Dropout(0.25))\n",
        "    # base_model.add(Dense(K, activation=\"softmax\"))\n",
        "    base_model.add(Dense(K, activation=\"linear\"))\n",
        "    base_model.compile(optimizer='adam', loss='categorical_crossentropy')\n",
        "\n",
        "    return base_model"
      ],
      "metadata": {
        "id": "leTguHTD_ZUw"
      },
      "execution_count": null,
      "outputs": []
    },
    {
      "cell_type": "code",
      "source": [
        "def build_crowd_layer_model(conn_type: str):\n",
        "    model = build_base_model()\n",
        "    model.add(CrowdsClassification(K, R, conn_type=conn_type))\n",
        "    model.compile(optimizer='adam', loss=LossMaskedMultiCrossEntropy())\n",
        "    return model\n",
        "\n",
        "def evaluate_crowd_layer(model, X_test, Y_test) -> dict:\n",
        "    model.pop()\n",
        "    model.add(tf.keras.layers.Activation('softmax'))\n",
        "    model.compile(optimizer='adam', loss='categorical_crossentropy', metrics=['accuracy'])\n",
        "    y_pred = model.predict(X_test)\n",
        "    pred = np.argmax(y_pred, axis=1)\n",
        "    report = classification_report(np.argmax(Y_test, axis=1), pred, output_dict=True)\n",
        "    return report"
      ],
      "metadata": {
        "id": "dZZSGXG8JHXq"
      },
      "execution_count": null,
      "outputs": []
    },
    {
      "cell_type": "code",
      "source": [
        "conn_types = ['MW', 'VW', 'VB', 'VW+B', 'SW']\n",
        "history_path = json_path + '/history_crowdlayer_int_all.json'\n",
        "report_path = json_path + '/report_crowdlayer_int_all.json'\n",
        "# history_path = json_path + '/history_crowdlayer_int_mintwo.json'\n",
        "# report_path = json_path + '/report_crowdlayer_int_mintwo.json'\n",
        "\n",
        "exp_histories, exp_reports = grid_search(X_train, labels_onehot, X_test, Y_test, build_crowd_layer_model,\n",
        "                                         evaluate_crowd_layer, repeat=10, epochs=epochs,\n",
        "                                         history_path=history_path, report_path=report_path,\n",
        "                                         conn_type=conn_types)"
      ],
      "metadata": {
        "colab": {
          "base_uri": "https://localhost:8080/"
        },
        "id": "6T7aRLtE_cHm",
        "outputId": "f7b4c5ca-18eb-4180-b4f7-6e53696306f0"
      },
      "execution_count": null,
      "outputs": [
        {
          "output_type": "stream",
          "name": "stdout",
          "text": [
            "Finished experiments: {('MW',), ('SW',), ('VW',), ('VW+B',), ('VB',)}\n"
          ]
        }
      ]
    },
    {
      "cell_type": "code",
      "source": [
        "show_results(exp_histories, exp_reports, K)"
      ],
      "metadata": {
        "colab": {
          "base_uri": "https://localhost:8080/"
        },
        "id": "gFu6SMSHRIdQ",
        "outputId": "d225523d-33f5-489b-d8f9-04a2fbd8206f"
      },
      "execution_count": null,
      "outputs": [
        {
          "output_type": "stream",
          "name": "stdout",
          "text": [
            "==================================================\n",
            "parameters = {'conn_type': 'MW'}\n",
            "\tmean f1 scores: [0.8281740389619902, 0.6754308351223931, 0.49897393681573676]\n",
            "\tstd f1 scores: [0.025071457815442913, 0.03981614682343137, 0.16133288086139694]\n",
            "\tmean accuracy: 0.7514436296975253\n",
            "\tstd accuracy: 0.03455816599576129\n",
            "==================================================\n",
            "parameters = {'conn_type': 'VW'}\n",
            "\tmean f1 scores: [0.8087314474307427, 0.7004645198143715, 0.7342476292138482]\n",
            "\tstd f1 scores: [0.04012628307889424, 0.031251079447517954, 0.02350992561693734]\n",
            "\tmean accuracy: 0.7654445462878094\n",
            "\tstd accuracy: 0.034738378769642766\n",
            "==================================================\n",
            "parameters = {'conn_type': 'SW'}\n",
            "\tmean f1 scores: [0.8671268122798879, 0.7429945710270405, 0.7428033987972154]\n",
            "\tstd f1 scores: [0.009287778106990642, 0.010448851922485937, 0.018839198362629997]\n",
            "\tmean accuracy: 0.818423464711274\n",
            "\tstd accuracy: 0.008986675773921458\n",
            "==================================================\n",
            "parameters = {'conn_type': 'VW+B'}\n",
            "\tmean f1 scores: [0.8523026936703741, 0.7343477516278278, 0.7214740814548858]\n",
            "\tstd f1 scores: [0.023763360303493207, 0.020489004230371966, 0.025264043009676638]\n",
            "\tmean accuracy: 0.8022456461961504\n",
            "\tstd accuracy: 0.023842361552648145\n",
            "==================================================\n",
            "parameters = {'conn_type': 'VB'}\n",
            "\tmean f1 scores: [0.8661786370684688, 0.7420360435585154, 0.7533377312329412]\n",
            "\tstd f1 scores: [0.01539212262224497, 0.02135937667615232, 0.028869061903807725]\n",
            "\tmean accuracy: 0.8175985334555455\n",
            "\tstd accuracy: 0.01831346470209668\n"
          ]
        }
      ]
    }
  ]
}