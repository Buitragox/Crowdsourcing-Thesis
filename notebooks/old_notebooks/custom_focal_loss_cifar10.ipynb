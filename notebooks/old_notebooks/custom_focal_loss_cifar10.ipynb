{
  "cells": [
    {
      "cell_type": "code",
      "execution_count": null,
      "metadata": {
        "id": "2aVf8ZfBLd-Z"
      },
      "outputs": [],
      "source": [
        "import os\n",
        "import numpy as np\n",
        "import pandas as pd\n",
        "import tensorflow as tf\n",
        "\n",
        "from tensorflow.keras.losses import Loss\n",
        "from tensorflow.keras.datasets import cifar10\n",
        "from tensorflow.keras.models import Sequential\n",
        "from tensorflow.keras.layers import Conv2D, MaxPooling2D, Flatten, Dense, Dropout, Input, RandomFlip, RandomRotation\n",
        "from tensorflow.keras.utils import to_categorical\n",
        "\n",
        "from matplotlib import pyplot as plt"
      ]
    },
    {
      "cell_type": "code",
      "execution_count": null,
      "metadata": {
        "colab": {
          "base_uri": "https://localhost:8080/"
        },
        "id": "DXZUXv9jtEr6",
        "outputId": "321f5ab0-616b-497e-b598-b52bf74e9b08"
      },
      "outputs": [
        {
          "output_type": "stream",
          "name": "stdout",
          "text": [
            "2.13.0\n"
          ]
        }
      ],
      "source": [
        "print(tf.__version__)"
      ]
    },
    {
      "cell_type": "code",
      "execution_count": null,
      "metadata": {
        "id": "O2nnjEPcLtrw",
        "colab": {
          "base_uri": "https://localhost:8080/"
        },
        "outputId": "7b02d819-9af4-4fe1-b062-1976571028d5"
      },
      "outputs": [
        {
          "output_type": "stream",
          "name": "stdout",
          "text": [
            "Downloading data from https://www.cs.toronto.edu/~kriz/cifar-10-python.tar.gz\n",
            "170498071/170498071 [==============================] - 4s 0us/step\n"
          ]
        }
      ],
      "source": [
        "(X_train, y_train), (X_test, y_test) = cifar10.load_data()\n",
        "\n",
        "\n",
        "X_train = X_train / 255.0\n",
        "X_test = X_test / 255.0"
      ]
    },
    {
      "cell_type": "code",
      "source": [
        "print(X_train.shape)\n",
        "print(X_test.shape)\n",
        "print(type(X_train))"
      ],
      "metadata": {
        "colab": {
          "base_uri": "https://localhost:8080/"
        },
        "id": "v6XJro-3_ZVA",
        "outputId": "3f6ff211-7961-4244-e08f-2e07210bd59d"
      },
      "execution_count": null,
      "outputs": [
        {
          "output_type": "stream",
          "name": "stdout",
          "text": [
            "(50000, 32, 32, 3)\n",
            "(10000, 32, 32, 3)\n",
            "<class 'numpy.ndarray'>\n"
          ]
        }
      ]
    },
    {
      "cell_type": "code",
      "execution_count": null,
      "metadata": {
        "id": "HceAxQaALvAw"
      },
      "outputs": [],
      "source": [
        "def create_model():\n",
        "    model = Sequential()\n",
        "    model.add(Input(shape=(32, 32, 3)))\n",
        "\n",
        "    data_augmentation = Sequential([\n",
        "    RandomFlip(\"horizontal\"),\n",
        "    RandomRotation(0.1)\n",
        "    ])\n",
        "\n",
        "    model.add(data_augmentation)\n",
        "    model.add(Conv2D(filters = 32, kernel_size = (3, 3), padding=\"same\", strides=(1, 1), activation='relu'))\n",
        "    model.add(Conv2D(filters = 32, kernel_size = (3, 3), padding=\"same\", strides=(1, 1), activation='relu'))\n",
        "    model.add(MaxPooling2D(pool_size =(2, 2), strides = (2, 2)))\n",
        "    model.add(Conv2D(filters = 64, kernel_size = (3, 3), padding=\"same\", strides=(1, 1), activation='relu'))\n",
        "    model.add(Conv2D(filters = 64, kernel_size = (3, 3), padding=\"same\", strides=(1, 1), activation='relu'))\n",
        "    model.add(MaxPooling2D(pool_size =(2, 2), strides = (2, 2)))\n",
        "    model.add(Conv2D(filters = 128, kernel_size = (3, 3), padding=\"same\", strides=(1, 1), activation='relu'))\n",
        "    model.add(Conv2D(filters = 128, kernel_size = (3, 3), padding=\"same\", strides=(1, 1), activation='relu'))\n",
        "    model.add(MaxPooling2D(pool_size =(2, 2), strides = (2, 2)))\n",
        "    model.add(Flatten())\n",
        "    model.add(Dense(256, activation='relu'))\n",
        "    model.add(Dense(10, activation='softmax'))\n",
        "\n",
        "    return model"
      ]
    },
    {
      "cell_type": "code",
      "execution_count": null,
      "metadata": {
        "id": "61Lyy8YdLwxv"
      },
      "outputs": [],
      "source": [
        "class FocalLoss(Loss):\n",
        "    def __init__(self, gamma=2.0, alpha=None, num_classes=None):\n",
        "        super().__init__()\n",
        "        self.gamma = gamma\n",
        "        if num_classes is None:\n",
        "            raise ValueError(\"The 'num_classes' parameter must be specified.\")\n",
        "        if alpha is None:\n",
        "            alpha = [1 for _ in range(num_classes)]\n",
        "        elif len(alpha) != num_classes:\n",
        "            raise ValueError(\"The length of 'alpha' must be equal to 'num_classes'.\")\n",
        "        self.alpha = tf.convert_to_tensor(alpha, dtype=tf.float32)\n",
        "\n",
        "    def call(self, y_true, y_pred):\n",
        "        if y_true.shape != y_pred.shape:\n",
        "            raise ValueError(f\"Invalid shape: y_true {y_true.shape} != y_pred {y_pred.shape}\")\n",
        "        y_true = tf.cast(y_true, dtype=tf.float32)\n",
        "        y_pred = tf.clip_by_value(y_pred, clip_value_min= 1e-6, clip_value_max=1-1e-6)\n",
        "\n",
        "        entropy = -tf.math.log(y_pred) * y_true\n",
        "\n",
        "        weight = tf.math.pow(1.0 - y_pred, self.gamma)\n",
        "        loss = self.alpha * weight * entropy\n",
        "        return tf.reduce_mean(tf.reduce_sum(loss, axis=1))\n"
      ]
    },
    {
      "cell_type": "markdown",
      "source": [
        "Testing focal loss with alpha = 1 for every class and gamma = 0. This setup should give the same results as categorical crossentropy."
      ],
      "metadata": {
        "id": "R8bhWT0SpLsX"
      }
    },
    {
      "cell_type": "code",
      "execution_count": null,
      "metadata": {
        "colab": {
          "base_uri": "https://localhost:8080/"
        },
        "id": "UPy_Z9L7XvOl",
        "outputId": "8e4f7937-872d-4725-afb0-5291530b5200"
      },
      "outputs": [
        {
          "output_type": "stream",
          "name": "stdout",
          "text": [
            "Expected value: 0.5543313 \n",
            "\n",
            "Focal loss: 0.5543313\n"
          ]
        }
      ],
      "source": [
        "a = np.array([[0.1, 0.1, 0.6, 0.1, 0.1], [0.1, 0.55, 0.15, 0.1, 0.1]])\n",
        "a = tf.clip_by_value(a, clip_value_min= 1e-6, clip_value_max=1-1e-6)\n",
        "a = tf.cast(a, dtype=tf.float32)\n",
        "\n",
        "b = np.array([[0.0, 0.0, 1.0, 0.0, 0.0], [0.0, 1.0, 0.0, 0.0, 0.0]])\n",
        "b = tf.cast(b, dtype=tf.float32)\n",
        "\n",
        "cce = tf.keras.losses.CategoricalCrossentropy()\n",
        "print(\"Expected value:\", cce(b, a).numpy(), \"\\n\")\n",
        "\n",
        "# Step by step values\n",
        "# gamma = 0.0\n",
        "# alpha = 1.0\n",
        "\n",
        "# entropy = -b * tf.math.log(a)\n",
        "# weight = tf.math.pow(1.0 - a, gamma)\n",
        "# loss = alpha * weight * entropy\n",
        "\n",
        "# print(\"CE:\", entropy.numpy())\n",
        "# print(\"\\nWeight:\", weight)\n",
        "# print(\"\\nLoss\", loss)\n",
        "\n",
        "# print(\"\\nFocal loss:\", tf.reduce_mean(tf.reduce_sum(loss, axis=1)))\n",
        "\n",
        "loss = FocalLoss(gamma=0, num_classes=5)\n",
        "print(\"Focal loss:\", loss.call(b, a).numpy())"
      ]
    },
    {
      "cell_type": "code",
      "execution_count": null,
      "metadata": {
        "id": "B9E0eCl3Mldn",
        "colab": {
          "base_uri": "https://localhost:8080/"
        },
        "outputId": "8e0b4900-9298-4956-920c-c47707e2cbbc"
      },
      "outputs": [
        {
          "output_type": "stream",
          "name": "stdout",
          "text": [
            "(50000, 10)\n",
            "(10000, 10)\n"
          ]
        },
        {
          "output_type": "execute_result",
          "data": {
            "text/plain": [
              "array([[0., 0., 0., ..., 0., 0., 0.],\n",
              "       [0., 0., 0., ..., 0., 0., 1.],\n",
              "       [0., 0., 0., ..., 0., 0., 1.],\n",
              "       ...,\n",
              "       [0., 0., 0., ..., 0., 0., 1.],\n",
              "       [0., 1., 0., ..., 0., 0., 0.],\n",
              "       [0., 1., 0., ..., 0., 0., 0.]], dtype=float32)"
            ]
          },
          "metadata": {},
          "execution_count": 21
        }
      ],
      "source": [
        "one_hot_ytrain = tf.keras.utils.to_categorical(y_train, num_classes=10, dtype='float32')\n",
        "one_hot_ytest = tf.keras.utils.to_categorical(y_test, num_classes=10, dtype='float32')\n",
        "print(one_hot_ytrain.shape)\n",
        "print(one_hot_ytest.shape)\n",
        "one_hot_ytrain"
      ]
    },
    {
      "cell_type": "markdown",
      "source": [
        "Function used to calculate the alpha values for each class."
      ],
      "metadata": {
        "id": "F8B5t8RetHVc"
      }
    },
    {
      "cell_type": "code",
      "source": [
        "def calculate_weigths(y):\n",
        "    counts = np.unique(y, return_counts=True)[1]\n",
        "    weights = 1 / (counts / len(y))\n",
        "    sum_weights = np.sum(weights)\n",
        "    return weights / sum_weights\n",
        "\n",
        "# https://www.kaggle.com/datasets/nih-chest-xrays/sample\n",
        "counts = np.array([13, 62, 84, 118, 127, 141, 176, 226, 271, 284, 313, 508, 644, 967, 3044])\n",
        "len_y = np.sum(counts)\n",
        "weights = 1 / (counts / len_y)\n",
        "sum_weights = np.sum(weights)\n",
        "print(weights / sum_weights)\n",
        "print(sum(weights / sum_weights))\n",
        "\n"
      ],
      "metadata": {
        "colab": {
          "base_uri": "https://localhost:8080/"
        },
        "id": "b9u5T4KA-aDx",
        "outputId": "9194d99b-3f57-4dd0-ca5c-c74c38356901"
      },
      "execution_count": null,
      "outputs": [
        {
          "output_type": "stream",
          "name": "stdout",
          "text": [
            "[0.50016874 0.10487409 0.07740707 0.05510334 0.05119838 0.04611485\n",
            " 0.03694428 0.02877077 0.02399333 0.02289505 0.02077378 0.01279959\n",
            " 0.01009657 0.00672409 0.00213607]\n",
            "1.0000000000000002\n"
          ]
        }
      ]
    },
    {
      "cell_type": "code",
      "execution_count": null,
      "metadata": {
        "colab": {
          "base_uri": "https://localhost:8080/"
        },
        "id": "ua6XEM0ALypX",
        "outputId": "a29079e3-cd7f-4cfc-8b33-25ef518f8c07"
      },
      "outputs": [
        {
          "output_type": "stream",
          "name": "stdout",
          "text": [
            "Model: \"sequential\"\n",
            "_________________________________________________________________\n",
            " Layer (type)                Output Shape              Param #   \n",
            "=================================================================\n",
            " sequential_1 (Sequential)   (None, 32, 32, 3)         0         \n",
            "                                                                 \n",
            " conv2d (Conv2D)             (None, 32, 32, 32)        896       \n",
            "                                                                 \n",
            " conv2d_1 (Conv2D)           (None, 32, 32, 32)        9248      \n",
            "                                                                 \n",
            " max_pooling2d (MaxPooling2  (None, 16, 16, 32)        0         \n",
            " D)                                                              \n",
            "                                                                 \n",
            " conv2d_2 (Conv2D)           (None, 16, 16, 64)        18496     \n",
            "                                                                 \n",
            " conv2d_3 (Conv2D)           (None, 16, 16, 64)        36928     \n",
            "                                                                 \n",
            " max_pooling2d_1 (MaxPoolin  (None, 8, 8, 64)          0         \n",
            " g2D)                                                            \n",
            "                                                                 \n",
            " conv2d_4 (Conv2D)           (None, 8, 8, 128)         73856     \n",
            "                                                                 \n",
            " conv2d_5 (Conv2D)           (None, 8, 8, 128)         147584    \n",
            "                                                                 \n",
            " max_pooling2d_2 (MaxPoolin  (None, 4, 4, 128)         0         \n",
            " g2D)                                                            \n",
            "                                                                 \n",
            " flatten (Flatten)           (None, 2048)              0         \n",
            "                                                                 \n",
            " dense (Dense)               (None, 256)               524544    \n",
            "                                                                 \n",
            " dense_1 (Dense)             (None, 10)                2570      \n",
            "                                                                 \n",
            "=================================================================\n",
            "Total params: 814122 (3.11 MB)\n",
            "Trainable params: 814122 (3.11 MB)\n",
            "Non-trainable params: 0 (0.00 Byte)\n",
            "_________________________________________________________________\n"
          ]
        }
      ],
      "source": [
        "weights = calculate_weigths(y_train)\n",
        "model = create_model()\n",
        "model.compile(optimizer='adam', loss=FocalLoss(gamma=2.0, alpha=weights, num_classes=10), metrics=['accuracy'])\n",
        "model.summary()"
      ]
    },
    {
      "cell_type": "code",
      "execution_count": null,
      "metadata": {
        "colab": {
          "base_uri": "https://localhost:8080/"
        },
        "id": "jgzEDoEdL2zQ",
        "outputId": "4471ed69-5570-47aa-bb5f-e8babfe243d5"
      },
      "outputs": [
        {
          "output_type": "stream",
          "name": "stdout",
          "text": [
            "Epoch 1/20\n",
            "1563/1563 [==============================] - 25s 8ms/step - loss: 0.1165 - accuracy: 0.3850 - val_loss: 0.0867 - val_accuracy: 0.5163\n",
            "Epoch 2/20\n",
            "1563/1563 [==============================] - 12s 8ms/step - loss: 0.0817 - accuracy: 0.5344 - val_loss: 0.0655 - val_accuracy: 0.6136\n",
            "Epoch 3/20\n",
            "1563/1563 [==============================] - 12s 8ms/step - loss: 0.0690 - accuracy: 0.6005 - val_loss: 0.0626 - val_accuracy: 0.6319\n",
            "Epoch 4/20\n",
            "1563/1563 [==============================] - 11s 7ms/step - loss: 0.0616 - accuracy: 0.6332 - val_loss: 0.0598 - val_accuracy: 0.6537\n",
            "Epoch 5/20\n",
            "1563/1563 [==============================] - 11s 7ms/step - loss: 0.0574 - accuracy: 0.6550 - val_loss: 0.0543 - val_accuracy: 0.6856\n",
            "Epoch 6/20\n",
            "1563/1563 [==============================] - 12s 8ms/step - loss: 0.0544 - accuracy: 0.6716 - val_loss: 0.0525 - val_accuracy: 0.6987\n",
            "Epoch 7/20\n",
            "1563/1563 [==============================] - 12s 8ms/step - loss: 0.0515 - accuracy: 0.6849 - val_loss: 0.0497 - val_accuracy: 0.7021\n",
            "Epoch 8/20\n",
            "1563/1563 [==============================] - 12s 8ms/step - loss: 0.0495 - accuracy: 0.6945 - val_loss: 0.0468 - val_accuracy: 0.7180\n",
            "Epoch 9/20\n",
            "1563/1563 [==============================] - 11s 7ms/step - loss: 0.0476 - accuracy: 0.7062 - val_loss: 0.0489 - val_accuracy: 0.7116\n",
            "Epoch 10/20\n",
            "1563/1563 [==============================] - 12s 8ms/step - loss: 0.0465 - accuracy: 0.7110 - val_loss: 0.0457 - val_accuracy: 0.7252\n",
            "Epoch 11/20\n",
            "1563/1563 [==============================] - 13s 8ms/step - loss: 0.0454 - accuracy: 0.7145 - val_loss: 0.0446 - val_accuracy: 0.7349\n",
            "Epoch 12/20\n",
            "1563/1563 [==============================] - 11s 7ms/step - loss: 0.0440 - accuracy: 0.7239 - val_loss: 0.0453 - val_accuracy: 0.7294\n",
            "Epoch 13/20\n",
            "1563/1563 [==============================] - 11s 7ms/step - loss: 0.0432 - accuracy: 0.7282 - val_loss: 0.0476 - val_accuracy: 0.7307\n",
            "Epoch 14/20\n",
            "1563/1563 [==============================] - 12s 7ms/step - loss: 0.0420 - accuracy: 0.7354 - val_loss: 0.0478 - val_accuracy: 0.7238\n",
            "Epoch 15/20\n",
            "1563/1563 [==============================] - 11s 7ms/step - loss: 0.0415 - accuracy: 0.7340 - val_loss: 0.0468 - val_accuracy: 0.7302\n",
            "Epoch 16/20\n",
            "1563/1563 [==============================] - 12s 8ms/step - loss: 0.0407 - accuracy: 0.7374 - val_loss: 0.0439 - val_accuracy: 0.7457\n",
            "Epoch 17/20\n",
            "1563/1563 [==============================] - 12s 8ms/step - loss: 0.0403 - accuracy: 0.7424 - val_loss: 0.0456 - val_accuracy: 0.7376\n",
            "Epoch 18/20\n",
            "1563/1563 [==============================] - 12s 7ms/step - loss: 0.0394 - accuracy: 0.7466 - val_loss: 0.0435 - val_accuracy: 0.7500\n",
            "Epoch 19/20\n",
            "1563/1563 [==============================] - 11s 7ms/step - loss: 0.0386 - accuracy: 0.7505 - val_loss: 0.0451 - val_accuracy: 0.7334\n",
            "Epoch 20/20\n",
            "1563/1563 [==============================] - 12s 8ms/step - loss: 0.0383 - accuracy: 0.7521 - val_loss: 0.0457 - val_accuracy: 0.7397\n",
            "313/313 - 1s - loss: 0.0457 - accuracy: 0.7397 - 863ms/epoch - 3ms/step\n",
            "Test accuracy: 0.7397000193595886\n"
          ]
        }
      ],
      "source": [
        "history = model.fit(X_train, one_hot_ytrain, epochs=20, batch_size=32, validation_data=(X_test, one_hot_ytest))\n",
        "test_loss, test_acc = model.evaluate(X_test, one_hot_ytest, verbose=2)\n",
        "print('Test accuracy:', test_acc)"
      ]
    },
    {
      "cell_type": "code",
      "source": [
        "plt.plot(history.history[\"loss\"], label=\"train\")\n",
        "plt.plot(history.history[\"val_loss\"], label=\"test\")\n",
        "plt.legend()\n",
        "plt.show()"
      ],
      "metadata": {
        "colab": {
          "base_uri": "https://localhost:8080/",
          "height": 430
        },
        "id": "TAQhYOpYHMsS",
        "outputId": "16cb3adc-10dd-4d5f-9834-8326ab607e16"
      },
      "execution_count": null,
      "outputs": [
        {
          "output_type": "display_data",
          "data": {
            "text/plain": [
              "<Figure size 640x480 with 1 Axes>"
            ],
            "image/png": "[encoded data removed]"
          },
          "metadata": {}
        }
      ]
    },
    {
      "cell_type": "code",
      "source": [],
      "metadata": {
        "id": "-2YEJSKp4CSo"
      },
      "execution_count": null,
      "outputs": []
    }
  ],
  "metadata": {
    "accelerator": "GPU",
    "colab": {
      "provenance": [],
      "authorship_tag": "ABX9TyNx+9sYkrRHuJC64ZiYOak9"
    },
    "kernelspec": {
      "display_name": "Python 3",
      "name": "python3"
    },
    "language_info": {
      "name": "python"
    }
  },
  "nbformat": 4,
  "nbformat_minor": 0
}