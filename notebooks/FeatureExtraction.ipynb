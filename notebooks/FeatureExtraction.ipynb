{
  "nbformat": 4,
  "nbformat_minor": 0,
  "metadata": {
    "colab": {
      "provenance": [],
      "gpuType": "T4",
      "include_colab_link": true
    },
    "kernelspec": {
      "name": "python3",
      "display_name": "Python 3"
    },
    "language_info": {
      "name": "python"
    },
    "accelerator": "GPU"
  },
  "cells": [
    {
      "cell_type": "markdown",
      "metadata": {
        "id": "view-in-github",
        "colab_type": "text"
      },
      "source": [
        "<a href=\"https://colab.research.google.com/github/Buitragox/Crowdsourcing-Thesis/blob/main/notebooks/FeatureExtraction.ipynb\" target=\"_parent\"><img src=\"https://colab.research.google.com/assets/colab-badge.svg\" alt=\"Open In Colab\"/></a>"
      ]
    },
    {
      "cell_type": "code",
      "source": [
        "import numpy as np\n",
        "import skimage.io as io\n",
        "import zipfile\n",
        "\n",
        "import tensorflow as tf\n",
        "from tensorflow.keras.layers import Flatten\n",
        "from tensorflow.keras.models import Sequential"
      ],
      "metadata": {
        "id": "rDtRFJDO5Ske"
      },
      "execution_count": null,
      "outputs": []
    },
    {
      "cell_type": "markdown",
      "source": [
        "**Download utils.py**"
      ],
      "metadata": {
        "id": "VzEXLI2iAna1"
      }
    },
    {
      "cell_type": "code",
      "source": [
        "#Get utils.py\n",
        "!wget --no-check-certificate 'https://raw.githubusercontent.com/Buitragox/Crowdsourcing-Thesis/main/utils.py' -O utils.py"
      ],
      "metadata": {
        "colab": {
          "base_uri": "https://localhost:8080/"
        },
        "id": "yg0TqIKi-OPV",
        "outputId": "3c2e4add-30e7-4ad9-c4ac-799256e505f4"
      },
      "execution_count": null,
      "outputs": [
        {
          "output_type": "stream",
          "name": "stdout",
          "text": [
            "--2024-05-26 19:07:11--  https://raw.githubusercontent.com/Buitragox/Crowdsourcing-Thesis/main/BCSS/utils.py\n",
            "Resolving raw.githubusercontent.com (raw.githubusercontent.com)... 185.199.108.133, 185.199.109.133, 185.199.110.133, ...\n",
            "Connecting to raw.githubusercontent.com (raw.githubusercontent.com)|185.199.108.133|:443... connected.\n",
            "HTTP request sent, awaiting response... 200 OK\n",
            "Length: 5405 (5.3K) [text/plain]\n",
            "Saving to: ‘utils.py’\n",
            "\n",
            "utils.py            100%[===================>]   5.28K  --.-KB/s    in 0s      \n",
            "\n",
            "2024-05-26 19:07:11 (79.3 MB/s) - ‘utils.py’ saved [5405/5405]\n",
            "\n"
          ]
        }
      ]
    },
    {
      "cell_type": "code",
      "source": [
        "from utils import load_ids, load_pickle_ma"
      ],
      "metadata": {
        "id": "HDVxNh3P-Wud"
      },
      "execution_count": null,
      "outputs": []
    },
    {
      "cell_type": "markdown",
      "source": [
        "**Download pickle file**"
      ],
      "metadata": {
        "id": "c--SJsTa4hI-"
      }
    },
    {
      "cell_type": "code",
      "execution_count": null,
      "metadata": {
        "colab": {
          "base_uri": "https://localhost:8080/"
        },
        "id": "mTKhBUBq4ZHz",
        "outputId": "c9fe6866-8e54-43db-99e9-32c5806fc84e"
      },
      "outputs": [
        {
          "output_type": "stream",
          "name": "stdout",
          "text": [
            "--2024-01-07 21:16:28--  https://github.com/Buitragox/Crowdsourcing-Thesis/raw/main/BCSS/pkl/train_crowdsourced_labels.pkl\n",
            "Resolving github.com (github.com)... 192.30.255.113\n",
            "Connecting to github.com (github.com)|192.30.255.113|:443... connected.\n",
            "HTTP request sent, awaiting response... 302 Found\n",
            "Location: https://raw.githubusercontent.com/Buitragox/Crowdsourcing-Thesis/main/BCSS/pkl/train_crowdsourced_labels.pkl [following]\n",
            "--2024-01-07 21:16:29--  https://raw.githubusercontent.com/Buitragox/Crowdsourcing-Thesis/main/BCSS/pkl/train_crowdsourced_labels.pkl\n",
            "Resolving raw.githubusercontent.com (raw.githubusercontent.com)... 185.199.111.133, 185.199.110.133, 185.199.108.133, ...\n",
            "Connecting to raw.githubusercontent.com (raw.githubusercontent.com)|185.199.111.133|:443... connected.\n",
            "HTTP request sent, awaiting response... 200 OK\n",
            "Length: 10426477 (9.9M) [application/octet-stream]\n",
            "Saving to: ‘train_crowdsourced_labels.pkl’\n",
            "\n",
            "train_crowdsourced_ 100%[===================>]   9.94M  63.2MB/s    in 0.2s    \n",
            "\n",
            "2024-01-07 21:16:29 (63.2 MB/s) - ‘train_crowdsourced_labels.pkl’ saved [10426477/10426477]\n",
            "\n"
          ]
        }
      ],
      "source": [
        "!wget --no-check-certificate 'https://github.com/Buitragox/Crowdsourcing-Thesis/raw/main/data/pkl/train_crowdsourced_labels.pkl' -O train_crowdsourced_labels.pkl"
      ]
    },
    {
      "cell_type": "markdown",
      "source": [
        "**Download dataset images from Drive**"
      ],
      "metadata": {
        "id": "hrI6DJv-6D3U"
      }
    },
    {
      "cell_type": "code",
      "source": [
        "!pip install gdown"
      ],
      "metadata": {
        "id": "8a5XAcWZfdUT"
      },
      "execution_count": null,
      "outputs": []
    },
    {
      "cell_type": "code",
      "source": [
        "#Train\n",
        "!gdown 1c2mrPeND5-jxL43Im8eDi5PCyuTGBLEX -O train.zip\n",
        "#!wget --load-cookies /tmp/cookies.txt \"https://docs.google.com/uc?export=download&confirm=$(wget --quiet --save-cookies /tmp/cookies.txt --keep-session-cookies --no-check-certificate 'https://docs.google.com/uc?export=download&id=1c2mrPeND5-jxL43Im8eDi5PCyuTGBLEX' -O- | sed -rn 's/.*confirm=([0-9A-Za-z_]+).*/\\1\\n/p')&id=1c2mrPeND5-jxL43Im8eDi5PCyuTGBLEX\" -O train.zip && rm -rf /tmp/cookies.txt"
      ],
      "metadata": {
        "id": "Z7nQ5czV6Kxk"
      },
      "execution_count": null,
      "outputs": []
    },
    {
      "cell_type": "code",
      "source": [
        "#Test\n",
        "!gdown 1n_zGW0qht4rQauar3hQkqpz8sreb0SRv -O test.zip\n",
        "#!wget --load-cookies /tmp/cookies.txt \"https://docs.google.com/uc?export=download&confirm=$(wget --quiet --save-cookies /tmp/cookies.txt --keep-session-cookies --no-check-certificate 'https://docs.google.com/uc?export=download&id=1n_zGW0qht4rQauar3hQkqpz8sreb0SRv' -O- | sed -rn 's/.*confirm=([0-9A-Za-z_]+).*/\\1\\n/p')&id=1n_zGW0qht4rQauar3hQkqpz8sreb0SRv\" -O test.zip && rm -rf /tmp/cookies.txt"
      ],
      "metadata": {
        "id": "eNnYy10B9DX-"
      },
      "execution_count": null,
      "outputs": []
    },
    {
      "cell_type": "markdown",
      "source": [
        "**Unzip**"
      ],
      "metadata": {
        "id": "XRZFZ3IM7_jF"
      }
    },
    {
      "cell_type": "code",
      "source": [
        "with zipfile.ZipFile(\"./train.zip\", 'r') as zip_ref:\n",
        "    zip_ref.extractall(\"./\")"
      ],
      "metadata": {
        "id": "YgRNQQNK8CV2"
      },
      "execution_count": null,
      "outputs": []
    },
    {
      "cell_type": "code",
      "source": [
        "with zipfile.ZipFile(\"./test.zip\", 'r') as zip_ref:\n",
        "    zip_ref.extractall(\"./\")"
      ],
      "metadata": {
        "id": "MYnY7mVZ9ofV"
      },
      "execution_count": null,
      "outputs": []
    },
    {
      "cell_type": "markdown",
      "source": [
        "**Load pickle file**"
      ],
      "metadata": {
        "id": "iLuc8fEP7trf"
      }
    },
    {
      "cell_type": "code",
      "source": [
        "pkl_path = \"./train_crowdsourced_labels.pkl\"\n",
        "images_path = \"./Train_non_experts_simple/\"\n",
        "test_path = \"./Test/\"\n",
        "batch_size = 8\n",
        "R = 20"
      ],
      "metadata": {
        "id": "439mWinQ5Uvm"
      },
      "execution_count": null,
      "outputs": []
    },
    {
      "cell_type": "code",
      "source": [
        "ids, labels = load_pickle_ma(pkl_path, images_path, R)"
      ],
      "metadata": {
        "id": "4eDnCr8P-kne"
      },
      "execution_count": null,
      "outputs": []
    },
    {
      "cell_type": "markdown",
      "source": [
        "### Feature Extraction"
      ],
      "metadata": {
        "id": "A3S84447XEeY"
      }
    },
    {
      "cell_type": "code",
      "source": [
        "from keras.applications.vgg16 import VGG16\n",
        "\n",
        "# Load VGG16 model without the top layer (fully connected layers)\n",
        "model = Sequential()\n",
        "model.add(VGG16(include_top=False))\n",
        "# Add pooling layer to reduce number of features to a 512 vector.\n",
        "model.add(tf.keras.layers.AveragePooling2D(pool_size=(7, 7), strides=(7, 7), padding=\"same\"))\n",
        "model.add(Flatten())\n",
        "model.summary()"
      ],
      "metadata": {
        "id": "qHs8NRGXr-bU",
        "colab": {
          "base_uri": "https://localhost:8080/"
        },
        "outputId": "2c6b475e-2d82-4c05-c45c-998c3483239d"
      },
      "execution_count": null,
      "outputs": [
        {
          "output_type": "stream",
          "name": "stdout",
          "text": [
            "Downloading data from https://storage.googleapis.com/tensorflow/keras-applications/vgg16/vgg16_weights_tf_dim_ordering_tf_kernels_notop.h5\n",
            "58889256/58889256 [==============================] - 0s 0us/step\n",
            "Model: \"sequential\"\n",
            "_________________________________________________________________\n",
            " Layer (type)                Output Shape              Param #   \n",
            "=================================================================\n",
            " vgg16 (Functional)          (None, None, None, 512)   14714688  \n",
            "                                                                 \n",
            " average_pooling2d (Average  (None, None, None, 512)   0         \n",
            " Pooling2D)                                                      \n",
            "                                                                 \n",
            " flatten (Flatten)           (None, None)              0         \n",
            "                                                                 \n",
            "=================================================================\n",
            "Total params: 14714688 (56.13 MB)\n",
            "Trainable params: 14714688 (56.13 MB)\n",
            "Non-trainable params: 0 (0.00 Byte)\n",
            "_________________________________________________________________\n"
          ]
        }
      ]
    },
    {
      "cell_type": "code",
      "source": [
        "class DataSeq2(tf.keras.utils.Sequence):\n",
        "\n",
        "    def __init__(self, ids, labels, batch_size=8, image_size=224, norm=False):\n",
        "        self.ids = ids\n",
        "        self.labels = labels\n",
        "        self.batch_size = batch_size\n",
        "        self.image_size = image_size\n",
        "        self.norm = norm\n",
        "\n",
        "    def __load__(self, id_name):\n",
        "        image_path = id_name\n",
        "        image = io.imread(image_path)\n",
        "        if self.norm:\n",
        "            image = image / 255.0\n",
        "\n",
        "        return image\n",
        "\n",
        "    def __getitem__(self, index):\n",
        "        n = self.batch_size\n",
        "\n",
        "        if (index + 1) * n > len(self.ids):\n",
        "            n = len(self.ids) - index * self.batch_size\n",
        "\n",
        "        files_batch = self.ids[index * n : (index + 1) * n]\n",
        "        labels_batch = self.labels[index * n : (index + 1) * n]\n",
        "        images = []\n",
        "\n",
        "        for id in files_batch:\n",
        "            image = self.__load__(id)\n",
        "            images.append(image)\n",
        "\n",
        "        images = np.array(images)\n",
        "        labels_batch = np.array(labels_batch)\n",
        "\n",
        "        return images, labels_batch\n",
        "\n",
        "    def on_epoch_end(self):\n",
        "        pass\n",
        "\n",
        "    def __len__(self):\n",
        "        return int(np.ceil(len(self.ids) / self.batch_size))"
      ],
      "metadata": {
        "id": "UXTMBVQHXgD7"
      },
      "execution_count": null,
      "outputs": []
    },
    {
      "cell_type": "code",
      "source": [
        "# Extract features using a generator\n",
        "def extract_features_dataseq(images_seq, model):\n",
        "    features = model.predict(images_seq)\n",
        "    return features"
      ],
      "metadata": {
        "id": "TkIxZYoqGSWF"
      },
      "execution_count": null,
      "outputs": []
    },
    {
      "cell_type": "code",
      "source": [
        "normalize = False\n",
        "images_seq = DataSeq2(ids, labels, norm=normalize)\n",
        "img = images_seq[0][0]\n",
        "print(img.shape)\n",
        "print(img.min(), img.max())"
      ],
      "metadata": {
        "colab": {
          "base_uri": "https://localhost:8080/"
        },
        "id": "k14UcBS6Vvba",
        "outputId": "a32af294-4d83-49cd-8b31-c34c4f6e4d4a"
      },
      "execution_count": null,
      "outputs": [
        {
          "output_type": "stream",
          "name": "stdout",
          "text": [
            "(8, 224, 224, 3)\n",
            "13 255\n"
          ]
        }
      ]
    },
    {
      "cell_type": "code",
      "source": [
        "features = extract_features_dataseq(images_seq, model)\n",
        "features.shape"
      ],
      "metadata": {
        "id": "pzM9txhwHkL5",
        "colab": {
          "base_uri": "https://localhost:8080/"
        },
        "outputId": "ca9420e9-82cc-4356-f93e-db2f2147c3da"
      },
      "execution_count": null,
      "outputs": [
        {
          "output_type": "stream",
          "name": "stdout",
          "text": [
            "9406/9406 [==============================] - 437s 46ms/step\n"
          ]
        },
        {
          "output_type": "execute_result",
          "data": {
            "text/plain": [
              "(75243, 512)"
            ]
          },
          "metadata": {},
          "execution_count": 35
        }
      ]
    },
    {
      "cell_type": "code",
      "source": [
        "train_data = np.array(features)\n",
        "print(train_data.shape)\n",
        "print(train_data)"
      ],
      "metadata": {
        "id": "9zzGRE2bHq5C",
        "colab": {
          "base_uri": "https://localhost:8080/"
        },
        "outputId": "6af17513-33a2-40d5-f90e-5f0712ced04d"
      },
      "execution_count": null,
      "outputs": [
        {
          "output_type": "stream",
          "name": "stdout",
          "text": [
            "(75243, 512)\n",
            "[[0.85887575 2.0172694  5.434412   ... 0.5864428  0.93910575 3.4984381 ]\n",
            " [1.1397283  1.0173965  2.5118337  ... 0.         0.8767194  0.1290536 ]\n",
            " [2.596618   0.8754663  8.503624   ... 0.13184737 0.17404003 0.9714356 ]\n",
            " ...\n",
            " [1.8762636  0.         1.3436652  ... 0.         0.45615667 0.        ]\n",
            " [0.2417545  0.         3.454934   ... 0.02765862 5.4303455  0.        ]\n",
            " [1.0983104  0.         3.8425934  ... 0.         1.4552803  0.08967637]]\n"
          ]
        }
      ]
    },
    {
      "cell_type": "code",
      "source": [
        "np.save('TrainData.npy', train_data)"
      ],
      "metadata": {
        "id": "Ft6o_xa-cdUV"
      },
      "execution_count": null,
      "outputs": []
    },
    {
      "cell_type": "code",
      "source": [
        "test_ids, test_labels = load_ids(test_path)\n",
        "test_seq = DataSeq2(test_ids, test_labels, norm=normalize)"
      ],
      "metadata": {
        "id": "bpwrOvgTc9ZS"
      },
      "execution_count": null,
      "outputs": []
    },
    {
      "cell_type": "code",
      "source": [
        "test_features = extract_features_dataseq(test_seq, model)\n",
        "test_features.shape"
      ],
      "metadata": {
        "id": "zyJ7z57feCL-",
        "colab": {
          "base_uri": "https://localhost:8080/"
        },
        "outputId": "f7682335-74e5-4289-8718-6b37eef132fa"
      },
      "execution_count": null,
      "outputs": [
        {
          "output_type": "stream",
          "name": "stdout",
          "text": [
            "546/546 [==============================] - 29s 47ms/step\n"
          ]
        },
        {
          "output_type": "execute_result",
          "data": {
            "text/plain": [
              "(4364, 512)"
            ]
          },
          "metadata": {},
          "execution_count": 16
        }
      ]
    },
    {
      "cell_type": "code",
      "source": [
        "test_data = np.array(test_features)\n",
        "print(test_data.shape)\n",
        "print(test_data)"
      ],
      "metadata": {
        "id": "F3U0AnrQeum1",
        "colab": {
          "base_uri": "https://localhost:8080/"
        },
        "outputId": "273aba6f-9ac4-4c97-c3be-9a0dcf42f5ef"
      },
      "execution_count": null,
      "outputs": [
        {
          "output_type": "stream",
          "name": "stdout",
          "text": [
            "(4364, 512)\n",
            "[[ 0.          0.          2.697621   ...  0.          3.0490682\n",
            "   0.35847804]\n",
            " [ 0.          0.          4.763428   ...  0.5938789   1.5368123\n",
            "   0.        ]\n",
            " [ 0.          0.          3.9389405  ...  0.          1.9051918\n",
            "   0.        ]\n",
            " ...\n",
            " [ 0.86279356  0.          7.625779   ...  0.          2.4714165\n",
            "   0.        ]\n",
            " [ 0.          0.          4.093834   ...  0.          1.0540651\n",
            "   0.02058   ]\n",
            " [ 0.56125194  0.         13.438762   ...  0.          1.6440294\n",
            "   0.        ]]\n"
          ]
        }
      ]
    },
    {
      "cell_type": "code",
      "source": [
        "np.save('TestData.npy', test_data)"
      ],
      "metadata": {
        "id": "MMm4yaYEgnPF"
      },
      "execution_count": null,
      "outputs": []
    },
    {
      "cell_type": "code",
      "source": [
        "np.save('TestLabels.npy', test_labels)"
      ],
      "metadata": {
        "id": "BZ9lWLDBxn_B"
      },
      "execution_count": null,
      "outputs": []
    }
  ]
}